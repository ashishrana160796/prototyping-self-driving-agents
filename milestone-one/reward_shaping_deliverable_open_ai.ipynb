{
  "nbformat": 4,
  "nbformat_minor": 0,
  "metadata": {
    "colab": {
      "name": "reward-shaping-deliverable-open-ai.ipynb",
      "provenance": [],
      "collapsed_sections": []
    },
    "kernelspec": {
      "name": "python3",
      "display_name": "Python 3"
    },
    "accelerator": "GPU"
  },
  "cells": [
    {
      "cell_type": "markdown",
      "metadata": {
        "id": "43K5XTEqIL9T",
        "colab_type": "text"
      },
      "source": [
        "### **Reward Shaping Deliverable**\n",
        "\n",
        "__From the experimentation it is observed that the `MountainCar-v0` environment only offers positive reward when final goal is achieved for evey other scenario only negative reward values are assigned. Hence, we use the technique of reward shaping to add additional reward in supplement to our original existing goal rewards.__ \n",
        "\n",
        "__In this deliverable we focus on using neural networks and reward shaping techniques to measure our agent's performance in terms of net total of rewards gained.__\n"
      ]
    },
    {
      "cell_type": "markdown",
      "metadata": {
        "id": "vMGMjklSQEbM",
        "colab_type": "text"
      },
      "source": [
        "### **Rendering Component Declaration**"
      ]
    },
    {
      "cell_type": "code",
      "metadata": {
        "id": "2qxAheztKCh-",
        "colab_type": "code",
        "colab": {}
      },
      "source": [
        "# Execute the below stated statements only one time.\n",
        "# apt-get update is important for updating path for xvfb library.\n",
        "!sudo apt-get update  > /dev/null 2>&1\n",
        "# This specificity of version is very important for compatability reasons.\n",
        "!apt-get install -y xvfb x11-utils > /dev/null 2>&1\n",
        " # gym version compatability with other libraries is required for rendering with this approach.\n",
        "!pip install gym==0.17.* pyvirtualdisplay==0.2.* PyOpenGL==3.1.* PyOpenGL-accelerate==3.1.*  > /dev/null 2>&1"
      ],
      "execution_count": 1,
      "outputs": []
    },
    {
      "cell_type": "code",
      "metadata": {
        "id": "I2bN7iMXQQ-c",
        "colab_type": "code",
        "colab": {}
      },
      "source": [
        "import gym\n",
        "from gym import logger as gymlogger\n",
        "from gym.wrappers import Monitor\n",
        "gymlogger.set_level(40) #error only"
      ],
      "execution_count": 2,
      "outputs": []
    },
    {
      "cell_type": "code",
      "metadata": {
        "id": "12UbwLTmQRKH",
        "colab_type": "code",
        "colab": {}
      },
      "source": [
        "import math\n",
        "import glob\n",
        "import io\n",
        "import base64\n",
        "from IPython.display import HTML\n",
        "from IPython import display as ipythondisplay"
      ],
      "execution_count": 3,
      "outputs": []
    },
    {
      "cell_type": "code",
      "metadata": {
        "id": "zP9EJAYiQROS",
        "colab_type": "code",
        "colab": {}
      },
      "source": [
        "import random\n",
        "import numpy as np\n",
        "from keras.models import Sequential\n",
        "from keras.layers import Dense\n",
        "from keras.optimizers import Adam"
      ],
      "execution_count": 4,
      "outputs": []
    },
    {
      "cell_type": "code",
      "metadata": {
        "id": "qONOnS7GQRTQ",
        "colab_type": "code",
        "colab": {
          "base_uri": "https://localhost:8080/",
          "height": 54
        },
        "outputId": "1767acbb-f923-4ebf-879c-61d8f1c0d9fd"
      },
      "source": [
        "# This creates virtual display to send the frames for being rendered.\n",
        "from pyvirtualdisplay import Display\n",
        "display = Display(visible=0, size=(1366, 768))\n",
        "display.start()"
      ],
      "execution_count": 5,
      "outputs": [
        {
          "output_type": "execute_result",
          "data": {
            "text/plain": [
              "<Display cmd_param=['Xvfb', '-br', '-nolisten', 'tcp', '-screen', '0', '1366x768x24', ':1001'] cmd=['Xvfb', '-br', '-nolisten', 'tcp', '-screen', '0', '1366x768x24', ':1001'] oserror=None return_code=None stdout=\"None\" stderr=\"None\" timeout_happened=False>"
            ]
          },
          "metadata": {
            "tags": []
          },
          "execution_count": 5
        }
      ]
    },
    {
      "cell_type": "code",
      "metadata": {
        "id": "8wMWvNfLQRb1",
        "colab_type": "code",
        "colab": {}
      },
      "source": [
        "def show_video():\n",
        "    # This function loads the data video inline into the colab notebook.\n",
        "    # By reading the video stored by the Monitor class.\n",
        "  mp4list = glob.glob('video/*.mp4')\n",
        "  if len(mp4list) > 0:\n",
        "    mp4 = mp4list[0]\n",
        "    video = io.open(mp4, 'r+b').read()\n",
        "    encoded = base64.b64encode(video)\n",
        "    ipythondisplay.display(HTML(data='''<video alt=\"test\" autoplay \n",
        "                loop controls style=\"height: 256px;\">\n",
        "                <source src=\"data:video/mp4;base64,{0}\" type=\"video/mp4\" />\n",
        "             </video>'''.format(encoded.decode('ascii'))))\n",
        "  else: \n",
        "    print(\"Could not find video\")\n",
        "    \n",
        "# Note: Here, the wrap_env function is different in the sense that it only \n",
        "# records and displays images post the model training part only.\n",
        "def wrap_env(env):\n",
        "    # This monitoring tool records the outputs from the output and saves it a\n",
        "    # mp4 file in the stated directory.\n",
        "    # If we don't change the video directory the videos will get stored in 'content/' directory.\n",
        "    env = Monitor(env, './video', video_callable=lambda episode_id: episode_id > 10000, force=True)\n",
        "    return env"
      ],
      "execution_count": 6,
      "outputs": []
    },
    {
      "cell_type": "code",
      "metadata": {
        "id": "MFAwCGWHQRny",
        "colab_type": "code",
        "colab": {}
      },
      "source": [
        "env = wrap_env(gym.make('MountainCar-v0'))\n",
        "env.reset()\n",
        "goal_steps = 200\n",
        "score_requirement = -198\n",
        "intial_games = 10000 # running 10K games to learn the agents behavior."
      ],
      "execution_count": 7,
      "outputs": []
    },
    {
      "cell_type": "code",
      "metadata": {
        "id": "b1lmRtDVdlbU",
        "colab_type": "code",
        "colab": {}
      },
      "source": [
        "def play_a_random_game_first():\n",
        "    '''\n",
        "    Running some demo observation iterations of the agent in the environment.\n",
        "    '''\n",
        "    for step_index in range(goal_steps):\n",
        "        # env.render()\n",
        "        action = env.action_space.sample()\n",
        "        observation, reward, done, info = env.step(action)\n",
        "        print(\"Step {}:\".format(step_index))\n",
        "        print(\"action: {}\".format(action))\n",
        "        print(\"observation: {}\".format(observation))\n",
        "        print(\"reward: {}\".format(reward))\n",
        "        print(\"done: {}\".format(done))\n",
        "        print(\"info: {}\".format(info))\n",
        "        if done:\n",
        "            break\n",
        "    env.reset()\n",
        "# Running the whole episode for the observation.\n",
        "play_a_random_game_first()"
      ],
      "execution_count": 8,
      "outputs": []
    },
    {
      "cell_type": "markdown",
      "metadata": {
        "id": "7PXGKRrPQLZf",
        "colab_type": "text"
      },
      "source": [
        "### **Model Data Preparation with redefined reward function and model training**"
      ]
    },
    {
      "cell_type": "code",
      "metadata": {
        "id": "9CJWHUUtQRl-",
        "colab_type": "code",
        "colab": {}
      },
      "source": [
        "def model_data_preparation():\n",
        "    training_data = []\n",
        "    accepted_scores = []\n",
        "    for game_index in range(intial_games):\n",
        "        score = 0\n",
        "        game_memory = []\n",
        "        previous_observation = [] # it stores previous pos, vel observation data.\n",
        "        for step_index in range(goal_steps):\n",
        "            action = random.randrange(0, 3)\n",
        "            observation, reward, done, info = env.step(action)\n",
        "            # Essentially, we are taking (s(t-1), a(t)) tuple and \n",
        "            # evaluating whether our new reward function gives positive reward.\n",
        "            \n",
        "            # With this our model learns to take appropriate actions based on\n",
        "            # previous state and predict current action that needs to be taken.\n",
        "            if len(previous_observation) > 0:\n",
        "                game_memory.append([previous_observation, action])\n",
        "                \n",
        "            previous_observation = observation\n",
        "            if observation[0] > -.22: # Relatively dense reward function.\n",
        "                reward = 1\n",
        "            \n",
        "            score += reward\n",
        "            if done:\n",
        "                break\n",
        "            \n",
        "        if score >= score_requirement:\n",
        "            accepted_scores.append(score)\n",
        "            for data in game_memory:\n",
        "                # one-hot encoding the actions taken.\n",
        "                if data[1] == 1:\n",
        "                    output = [0, 1, 0]\n",
        "                elif data[1] == 0:\n",
        "                    output = [1, 0, 0]\n",
        "                elif data[1] == 2:\n",
        "                    output = [0, 0, 1]\n",
        "                training_data.append([data[0], output])\n",
        "        \n",
        "        env.reset()\n",
        "    \n",
        "    print(accepted_scores)\n",
        "    \n",
        "    return training_data"
      ],
      "execution_count": 10,
      "outputs": []
    },
    {
      "cell_type": "code",
      "metadata": {
        "id": "7dR8v4b33HF0",
        "colab_type": "code",
        "colab": {
          "base_uri": "https://localhost:8080/",
          "height": 54
        },
        "outputId": "7218a625-8707-4701-d279-47ebf142dfae"
      },
      "source": [
        "# Preparing the data for training the model.\n",
        "training_data = model_data_preparation()"
      ],
      "execution_count": 11,
      "outputs": [
        {
          "output_type": "stream",
          "text": [
            "[-184.0, -180.0, -170.0, -188.0, -182.0, -188.0, -186.0, -184.0, -198.0, -182.0, -174.0, -188.0, -188.0, -196.0, -186.0, -190.0, -184.0, -174.0, -180.0, -168.0, -196.0, -164.0, -166.0, -182.0, -188.0, -190.0, -190.0, -164.0, -182.0, -190.0, -180.0, -196.0, -178.0, -194.0, -178.0, -176.0, -190.0, -192.0, -186.0, -174.0, -190.0, -190.0, -188.0, -190.0, -178.0, -190.0, -190.0, -194.0, -192.0, -184.0, -156.0, -140.0, -180.0, -188.0, -192.0, -186.0, -178.0, -188.0, -168.0, -194.0, -186.0, -182.0, -190.0, -192.0, -182.0, -164.0, -190.0, -172.0, -168.0, -180.0, -176.0, -192.0, -192.0, -178.0, -188.0, -166.0, -184.0, -190.0, -196.0, -184.0, -170.0, -190.0, -182.0, -174.0, -186.0, -184.0, -190.0, -184.0, -170.0, -178.0, -172.0, -176.0]\n"
          ],
          "name": "stdout"
        }
      ]
    },
    {
      "cell_type": "code",
      "metadata": {
        "id": "M22iNRgCQRj6",
        "colab_type": "code",
        "colab": {}
      },
      "source": [
        "# Defining the model structure for training.\n",
        "def build_model(input_size, output_size):\n",
        "    model = Sequential()\n",
        "    model.add(Dense(128, input_dim=input_size, activation='relu'))\n",
        "    model.add(Dense(52, activation='relu'))\n",
        "    model.add(Dense(output_size, activation='linear'))\n",
        "    model.compile(loss='mse', optimizer=Adam())\n",
        "    return model"
      ],
      "execution_count": 12,
      "outputs": []
    },
    {
      "cell_type": "code",
      "metadata": {
        "id": "eV9xRCLXgVnN",
        "colab_type": "code",
        "colab": {}
      },
      "source": [
        "# function for training the model.\n",
        "def train_model(training_data):\n",
        "    X = np.array([i[0] for i in training_data]).reshape(-1, len(training_data[0][0]))\n",
        "    y = np.array([i[1] for i in training_data]).reshape(-1, len(training_data[0][1]))\n",
        "    model = build_model(input_size=len(X[0]), output_size=len(y[0]))\n",
        "    model.fit(X, y, epochs=5)\n",
        "    return model"
      ],
      "execution_count": 13,
      "outputs": []
    },
    {
      "cell_type": "code",
      "metadata": {
        "id": "7lh7CAvuQRhk",
        "colab_type": "code",
        "colab": {
          "base_uri": "https://localhost:8080/",
          "height": 191
        },
        "outputId": "7576e97b-cf30-459c-8450-a285845a4571"
      },
      "source": [
        "trained_model = train_model(training_data)"
      ],
      "execution_count": 14,
      "outputs": [
        {
          "output_type": "stream",
          "text": [
            "Epoch 1/5\n",
            "573/573 [==============================] - 1s 2ms/step - loss: 0.2252\n",
            "Epoch 2/5\n",
            "573/573 [==============================] - 1s 2ms/step - loss: 0.2215\n",
            "Epoch 3/5\n",
            "573/573 [==============================] - 1s 2ms/step - loss: 0.2209\n",
            "Epoch 4/5\n",
            "573/573 [==============================] - 1s 2ms/step - loss: 0.2206\n",
            "Epoch 5/5\n",
            "573/573 [==============================] - 1s 2ms/step - loss: 0.2206\n"
          ],
          "name": "stdout"
        }
      ]
    },
    {
      "cell_type": "markdown",
      "metadata": {
        "id": "l0X5P40KQ89a",
        "colab_type": "text"
      },
      "source": [
        "### **Model prediction and agent performance analysis**"
      ]
    },
    {
      "cell_type": "code",
      "metadata": {
        "id": "1ICjUK2qQRgP",
        "colab_type": "code",
        "colab": {
          "base_uri": "https://localhost:8080/",
          "height": 89
        },
        "outputId": "f4ca865c-b20a-4786-d31e-cc27085bafdc"
      },
      "source": [
        "scores = []\n",
        "choices = []\n",
        "for each_game in range(10):\n",
        "    score = 0\n",
        "    prev_obs = []\n",
        "    print(\"playing game no: \" + str(each_game+1))\n",
        "    for step_index in range(goal_steps):\n",
        "        # env.render()\n",
        "        if len(prev_obs)==0:\n",
        "            action = random.randrange(0,2)\n",
        "        else:\n",
        "            # predicting the next action based on the redefined reward function\n",
        "            # in the environment.\n",
        "            action = np.argmax(trained_model.predict(prev_obs.reshape(-1, len(prev_obs)))[0])\n",
        "        \n",
        "        choices.append(action)\n",
        "        new_observation, reward, done, info = env.step(action)\n",
        "        prev_obs = new_observation\n",
        "        score+=reward\n",
        "        if done:\n",
        "            break\n",
        "    env.reset()\n",
        "    scores.append(score)\n",
        "\n",
        "print(scores)\n",
        "print('Average Score:',sum(scores)/len(scores))\n",
        "print('choice 1:{}  choice 0:{} choice 2:{}'.format(choices.count(1)/len(choices),choices.count(0)/len(choices),choices.count(2)/len(choices)))"
      ],
      "execution_count": 15,
      "outputs": [
        {
          "output_type": "stream",
          "text": [
            "[-170.0, -167.0, -162.0, -172.0, -160.0, -88.0, -157.0, -88.0, -158.0, -163.0, -129.0, -168.0, -157.0, -161.0, -157.0, -157.0, -165.0, -159.0, -171.0, -166.0, -91.0, -200.0, -167.0, -167.0, -200.0, -160.0, -175.0, -163.0, -177.0, -158.0, -200.0, -164.0, -167.0, -158.0, -163.0, -163.0, -165.0, -92.0, -157.0, -160.0, -167.0, -165.0, -165.0, -88.0, -170.0, -158.0, -88.0, -173.0, -161.0, -96.0, -171.0, -163.0, -161.0, -178.0, -179.0, -165.0, -89.0, -158.0, -164.0, -167.0, -88.0, -91.0, -166.0, -89.0, -161.0, -169.0, -88.0, -89.0, -128.0, -95.0, -166.0, -157.0, -200.0, -174.0, -88.0, -170.0, -91.0, -163.0, -168.0, -169.0, -176.0, -93.0, -89.0, -157.0, -200.0, -94.0, -162.0, -200.0, -167.0, -200.0, -181.0, -160.0, -89.0, -162.0, -171.0, -169.0, -158.0, -162.0, -160.0, -177.0]\n",
            "Average Score: -151.85\n",
            "choice 1:0.10536713862364175  choice 0:0.4418834376028976 choice 2:0.45274942377346067\n"
          ],
          "name": "stdout"
        }
      ]
    },
    {
      "cell_type": "markdown",
      "metadata": {
        "id": "61l_CXz-RIjp",
        "colab_type": "text"
      },
      "source": [
        "### **Agent output and result downloads**"
      ]
    },
    {
      "cell_type": "code",
      "metadata": {
        "id": "RL-soOdWQRYt",
        "colab_type": "code",
        "colab": {
          "base_uri": "https://localhost:8080/",
          "height": 277
        },
        "outputId": "dcd0d907-1022-4d15-ddba-352cc607b30c"
      },
      "source": [
        "# Displaying the agent's performance in the environment.\n",
        "show_video()"
      ],
      "execution_count": 16,
      "outputs": [
        {
          "output_type": "display_data",
          "data": {
            "text/html": [
              "<video alt=\"test\" autoplay \n",
              "                loop controls style=\"height: 256px;\">\n",
              "                <source src=\"data:video/mp4;base64,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\" type=\"video/mp4\" />\n",
              "             </video>"
            ],
            "text/plain": [
              "<IPython.core.display.HTML object>"
            ]
          },
          "metadata": {
            "tags": []
          }
        }
      ]
    },
    {
      "cell_type": "code",
      "metadata": {
        "id": "3fA4oKaejPed",
        "colab_type": "code",
        "colab": {}
      },
      "source": [
        "# !zip -r /content/file.zip /content/video\n",
        "# from google.colab import files\n",
        "# files.download(\"/content/file.zip\")"
      ],
      "execution_count": 17,
      "outputs": []
    }
  ]
}
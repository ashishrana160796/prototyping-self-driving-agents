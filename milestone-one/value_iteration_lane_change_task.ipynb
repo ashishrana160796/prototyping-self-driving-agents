{
  "nbformat": 4,
  "nbformat_minor": 0,
  "metadata": {
    "colab": {
      "name": "value_iteration_lane_change_task.ipynb",
      "provenance": [],
      "collapsed_sections": []
    },
    "kernelspec": {
      "name": "python3",
      "display_name": "Python 3"
    }
  },
  "cells": [
    {
      "cell_type": "code",
      "metadata": {
        "id": "oj5v5ffjx_Zd",
        "colab": {
          "base_uri": "https://localhost:8080/"
        },
        "outputId": "f4b668e9-d0f8-46f0-90bd-758683d1e70d"
      },
      "source": [
        "# Cloning the github branch in the '/content/' directory.\n",
        "# installing the highway-env package.\n",
        "!pip install git+https://github.com/eleurent/highway-env.git --quiet\n",
        "\n",
        "# Cloning the github branch in the '/content/' directory.\n",
        "# installing the finite-mdp package.\n",
        "!pip install git+https://github.com/eleurent/finite-mdp.git --quiet"
      ],
      "execution_count": 1,
      "outputs": [
        {
          "output_type": "stream",
          "text": [
            "  Installing build dependencies ... \u001b[?25l\u001b[?25hdone\n",
            "  Getting requirements to build wheel ... \u001b[?25l\u001b[?25hdone\n",
            "  Installing backend dependencies ... \u001b[?25l\u001b[?25hdone\n",
            "    Preparing wheel metadata ... \u001b[?25l\u001b[?25hdone\n",
            "\u001b[K     |████████████████████████████████| 11.8MB 250kB/s \n",
            "\u001b[?25h  Building wheel for highway-env (PEP 517) ... \u001b[?25l\u001b[?25hdone\n",
            "  Building wheel for finite-mdp (setup.py) ... \u001b[?25l\u001b[?25hdone\n"
          ],
          "name": "stdout"
        }
      ]
    },
    {
      "cell_type": "code",
      "metadata": {
        "colab": {
          "base_uri": "https://localhost:8080/"
        },
        "id": "6ZV4ufe6AVRr",
        "outputId": "a7f8717a-e9e7-49f1-a307-b53b1996fecd"
      },
      "source": [
        "# Uninstalling the highway-env package in case an issue has happened\n",
        "# while coding your new environment.\n",
        "# Ucomment the command below and execute it once.\n",
        "# !pip uninstall -y highway-env"
      ],
      "execution_count": null,
      "outputs": [
        {
          "output_type": "stream",
          "text": [
            "Uninstalling highway-env-1.1:\n",
            "  Successfully uninstalled highway-env-1.1\n"
          ],
          "name": "stdout"
        }
      ]
    },
    {
      "cell_type": "code",
      "metadata": {
        "id": "NsrAzGBpmPVs"
      },
      "source": [
        "# general package imports\n",
        "import os\n",
        "import time\n",
        "# RL specific package imports\n",
        "import gym\n",
        "import highway_env"
      ],
      "execution_count": 2,
      "outputs": []
    },
    {
      "cell_type": "code",
      "metadata": {
        "colab": {
          "base_uri": "https://localhost:8080/"
        },
        "id": "2aEG1Avx6fGl",
        "outputId": "a1326570-099b-487b-cf77-f58edf8b1318"
      },
      "source": [
        "# plotting specific import statements\n",
        "# corresponding version outputs\n",
        "import numpy as np\n",
        "print('numpy: '+np.version.full_version)\n",
        "import matplotlib.pyplot as plt\n",
        "plt.rcParams.update({'font.size': 20})\n",
        "import matplotlib.image as mpimg\n",
        "from mpl_toolkits.mplot3d import Axes3D \n",
        "import matplotlib.animation as animation\n",
        "import matplotlib\n",
        "print('matplotlib: '+matplotlib.__version__)"
      ],
      "execution_count": 3,
      "outputs": [
        {
          "output_type": "stream",
          "text": [
            "numpy: 1.19.5\n",
            "matplotlib: 3.2.2\n"
          ],
          "name": "stdout"
        }
      ]
    },
    {
      "cell_type": "code",
      "metadata": {
        "id": "OWqRIFwubdqX"
      },
      "source": [
        "# creating an instance of roundabout environment\n",
        "env_h = gym.make(\"highway-v0\")\n",
        "# converting the roundabout environment into a finite mdp\n",
        "mdp_h = env_h.unwrapped.to_finite_mdp()"
      ],
      "execution_count": 4,
      "outputs": []
    },
    {
      "cell_type": "code",
      "metadata": {
        "colab": {
          "base_uri": "https://localhost:8080/"
        },
        "id": "RXxmRIDqTYdy",
        "outputId": "b80151ba-18a7-401e-e106-56beab749263"
      },
      "source": [
        "print(\"Lane change task MDP shape: \"+str(mdp_h.transition.shape))"
      ],
      "execution_count": 5,
      "outputs": [
        {
          "output_type": "stream",
          "text": [
            "Lane change task MDP shape: (120, 5)\n"
          ],
          "name": "stdout"
        }
      ]
    },
    {
      "cell_type": "code",
      "metadata": {
        "id": "zdq7X4vh9LAS"
      },
      "source": [
        "# generic function implementation for MDP data plotting \n",
        "def plot_3d_fig(data, img_name, x_deg=-20, y_deg=-40, show_flag=False):\n",
        "\n",
        "    if not os.path.exists('output'):\n",
        "        os.makedirs('output')\n",
        "\n",
        "    fig = plt.figure(figsize=(10,10), dpi=100)\n",
        "    ax = plt.axes(projection='3d')\n",
        "    X = np.arange(0, 120, 1)\n",
        "    X = np.arange(0, mdp_h.transition.shape[0], 1)\n",
        "    Y = np.arange(0, mdp_h.transition.shape[1], 1)\n",
        "    Y, X = np.meshgrid(Y, X)\n",
        "    Z = data\n",
        "    ax.plot_surface(X, Y, Z, cmap='magma', rstride=1, cstride=1, linewidth=0, alpha=0.7)\n",
        "    ax.view_init(x_deg, y_deg)\n",
        "    plt.xlabel(\"States\")\n",
        "    plt.ylabel(\"Actions\")\n",
        "    plt.savefig('output/'+img_name)\n",
        "    # To switch off the display output of plot.\n",
        "    if show_flag == False:\n",
        "        plt.close(fig)"
      ],
      "execution_count": 6,
      "outputs": []
    },
    {
      "cell_type": "code",
      "metadata": {
        "id": "n0Z0SBDFESm0"
      },
      "source": [
        "# plotting the deterministic MDP's transition matrix outputs for all states\n",
        "plot_3d_fig(mdp_h.transition, 'lane_change_task_transition_matrix.png', -25, -45)"
      ],
      "execution_count": 7,
      "outputs": []
    },
    {
      "cell_type": "code",
      "metadata": {
        "id": "5V2ufEzf_Wmi"
      },
      "source": [
        "# plotting the deterministic MDP's reward matrix outputs for all states\n",
        "plot_3d_fig(mdp_h.reward, 'lane_change_task_reward_matrix.png', -25, -45)"
      ],
      "execution_count": 8,
      "outputs": []
    },
    {
      "cell_type": "code",
      "metadata": {
        "id": "Zq7wKaP-DYca"
      },
      "source": [
        "# storing the value function calculated w/ value iteration algorithm\n",
        "val_func_array = np.zeros((mdp_h.transition.shape[0], 5))\n",
        "val_cumu_array = np.zeros((mdp_h.transition.shape[0], 5))"
      ],
      "execution_count": 9,
      "outputs": []
    },
    {
      "cell_type": "code",
      "metadata": {
        "id": "mfQMjPvv3Npt"
      },
      "source": [
        "# this calculates evaluates the deterministic policy\n",
        "# for the deterministic version of roundabout environment\n",
        "def determine_policy(mdp,v, gamma=1.0):\n",
        "    policy = np.zeros(mdp.transition.shape[0])\n",
        "    for s in range(mdp.transition.shape[0]):\n",
        "        q_sa = np.zeros(env.action_space.n)\n",
        "        for a in range(env.action_space.n):\n",
        "            s_ = mdp.transition[s][a]\n",
        "            r = mdp.reward[s][a]\n",
        "            q_sa[a] += (1 * (r + gamma * v[s_]))\n",
        "        policy[s] = np.argmax(q_sa)\n",
        "    return policy"
      ],
      "execution_count": 10,
      "outputs": []
    },
    {
      "cell_type": "code",
      "metadata": {
        "id": "EZSPiRGY95qC"
      },
      "source": [
        "# value iteration algorithm's baseline implementation\n",
        "def value_iteration(mdp, env, gamma=0.99):\n",
        "    value = np.zeros(mdp.transition.shape[0])\n",
        "    max_iterations = 10000\n",
        "    eps = 1e-10\n",
        "\n",
        "    for i in range(max_iterations):\n",
        "        prev_v = np.copy(value)\n",
        "        for s in range(mdp.transition.shape[0]):\n",
        "            q_sa = np.zeros(env.action_space.n)\n",
        "            for a in range(env.action_space.n):\n",
        "                s_ = mdp.transition[s][a]\n",
        "                r = mdp.reward[s][a]\n",
        "                q_sa[a] += (1 * (r + gamma * prev_v[s_]))\n",
        "            value[s] = max(q_sa)\n",
        "            ind_ = np.argmax(q_sa)\n",
        "            val_func_array[s,ind_] = max(q_sa)\n",
        "            val_cumu_array[s,:] = q_sa\n",
        "        if (np.sum(np.fabs(prev_v - value)) <= eps):\n",
        "            print('Problem converged at iteration %d.' % (i + 1))\n",
        "            break\n",
        "    return value"
      ],
      "execution_count": 11,
      "outputs": []
    },
    {
      "cell_type": "code",
      "metadata": {
        "id": "8N7oCcjx3Nxt",
        "colab": {
          "base_uri": "https://localhost:8080/"
        },
        "outputId": "09eba001-3da4-4943-93b2-984b8f685fa4"
      },
      "source": [
        "# inline code execution for value iteration\n",
        "# and policy determination functions\n",
        "gamma = 0.99\n",
        "env = gym.make('highway-v0')\n",
        "mdp = env.unwrapped.to_finite_mdp()\n",
        "optimal_value_func = value_iteration(mdp, env, gamma)\n",
        "start_time = time.time()\n",
        "policy = determine_policy(mdp, optimal_value_func, gamma)\n",
        "print(\"Best Policy Values Determined for the MDP.\\n\")\n",
        "print(policy)"
      ],
      "execution_count": 12,
      "outputs": [
        {
          "output_type": "stream",
          "text": [
            "Problem converged at iteration 2646.\n",
            "Best Policy Values Determined for the MDP.\n",
            "\n",
            "[3. 2. 2. 2. 2. 2. 2. 2. 2. 2. 3. 2. 2. 2. 2. 2. 2. 2. 2. 2. 3. 2. 2. 2.\n",
            " 2. 2. 2. 2. 2. 2. 3. 1. 1. 1. 1. 1. 1. 1. 1. 1. 3. 2. 2. 2. 2. 2. 2. 2.\n",
            " 2. 2. 3. 2. 2. 2. 2. 2. 2. 2. 2. 2. 3. 2. 2. 2. 2. 2. 2. 1. 1. 1. 3. 1.\n",
            " 1. 1. 1. 1. 1. 0. 0. 0. 2. 2. 2. 0. 0. 0. 2. 2. 2. 2. 2. 2. 2. 2. 2. 2.\n",
            " 2. 2. 2. 2. 2. 1. 1. 1. 2. 2. 1. 1. 1. 1. 1. 0. 0. 0. 1. 1. 0. 0. 0. 0.]\n"
          ],
          "name": "stdout"
        }
      ]
    },
    {
      "cell_type": "code",
      "metadata": {
        "id": "anCi2ny31dl-"
      },
      "source": [
        "# plotting the value function as output\n",
        "plot_3d_fig(val_func_array, 'value_func_array.png', 40, -45)"
      ],
      "execution_count": 13,
      "outputs": []
    },
    {
      "cell_type": "code",
      "metadata": {
        "id": "Pi7jIrexevGR"
      },
      "source": [
        "plot_3d_fig(val_cumu_array, 'value_cumu_array.png', 40, 145)"
      ],
      "execution_count": 14,
      "outputs": []
    },
    {
      "cell_type": "code",
      "metadata": {
        "id": "cXM7j-8vmyTd",
        "colab": {
          "base_uri": "https://localhost:8080/",
          "height": 104
        },
        "outputId": "cbd2acc5-4f61-437f-a301-57430d684aec"
      },
      "source": [
        "# downloading the zip files from the output directory\n",
        "!zip -r /content/output.zip /content/output/\n",
        "from google.colab import files\n",
        "files.download(\"/content/output.zip\")"
      ],
      "execution_count": null,
      "outputs": [
        {
          "output_type": "stream",
          "text": [
            "updating: content/output/ (stored 0%)\n",
            "updating: content/output/lane_change_task_transition_matrix.png (deflated 4%)\n",
            "updating: content/output/lane_change_task_reward_matrix.png (deflated 5%)\n",
            "updating: content/output/value_func_array.png (deflated 4%)\n",
            "updating: content/output/value_cumu_array.png (deflated 4%)\n"
          ],
          "name": "stdout"
        },
        {
          "output_type": "display_data",
          "data": {
            "application/javascript": [
              "\n",
              "    async function download(id, filename, size) {\n",
              "      if (!google.colab.kernel.accessAllowed) {\n",
              "        return;\n",
              "      }\n",
              "      const div = document.createElement('div');\n",
              "      const label = document.createElement('label');\n",
              "      label.textContent = `Downloading \"${filename}\": `;\n",
              "      div.appendChild(label);\n",
              "      const progress = document.createElement('progress');\n",
              "      progress.max = size;\n",
              "      div.appendChild(progress);\n",
              "      document.body.appendChild(div);\n",
              "\n",
              "      const buffers = [];\n",
              "      let downloaded = 0;\n",
              "\n",
              "      const channel = await google.colab.kernel.comms.open(id);\n",
              "      // Send a message to notify the kernel that we're ready.\n",
              "      channel.send({})\n",
              "\n",
              "      for await (const message of channel.messages) {\n",
              "        // Send a message to notify the kernel that we're ready.\n",
              "        channel.send({})\n",
              "        if (message.buffers) {\n",
              "          for (const buffer of message.buffers) {\n",
              "            buffers.push(buffer);\n",
              "            downloaded += buffer.byteLength;\n",
              "            progress.value = downloaded;\n",
              "          }\n",
              "        }\n",
              "      }\n",
              "      const blob = new Blob(buffers, {type: 'application/binary'});\n",
              "      const a = document.createElement('a');\n",
              "      a.href = window.URL.createObjectURL(blob);\n",
              "      a.download = filename;\n",
              "      div.appendChild(a);\n",
              "      a.click();\n",
              "      div.remove();\n",
              "    }\n",
              "  "
            ],
            "text/plain": [
              "<IPython.core.display.Javascript object>"
            ]
          },
          "metadata": {
            "tags": []
          }
        },
        {
          "output_type": "display_data",
          "data": {
            "application/javascript": [
              "download(\"download_0cf070be-7d76-4186-97d5-dc97215ab85f\", \"output.zip\", 907252)"
            ],
            "text/plain": [
              "<IPython.core.display.Javascript object>"
            ]
          },
          "metadata": {
            "tags": []
          }
        }
      ]
    }
  ]
}
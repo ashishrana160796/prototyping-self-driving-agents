{
  "nbformat": 4,
  "nbformat_minor": 0,
  "metadata": {
    "colab": {
      "name": "value_iteration_lane_change_task.ipynb",
      "provenance": [],
      "collapsed_sections": []
    },
    "kernelspec": {
      "name": "python3",
      "display_name": "Python 3"
    }
  },
  "cells": [
    {
      "cell_type": "code",
      "metadata": {
        "id": "oj5v5ffjx_Zd",
        "colab": {
          "base_uri": "https://localhost:8080/"
        },
        "outputId": "2ec06b0b-b660-430e-c8b0-321e95e28a51"
      },
      "source": [
        "# Cloning the github branch in the '/content/' directory.\n",
        "!git clone https://github.com/eleurent/highway-env.git\n",
        "!git clone https://github.com/eleurent/finite-mdp.git"
      ],
      "execution_count": 1,
      "outputs": [
        {
          "output_type": "stream",
          "text": [
            "Cloning into 'highway-env'...\n",
            "remote: Enumerating objects: 7516, done.\u001b[K\n",
            "remote: Counting objects: 100% (155/155), done.\u001b[K\n",
            "remote: Compressing objects: 100% (91/91), done.\u001b[K\n",
            "remote: Total 7516 (delta 70), reused 123 (delta 61), pack-reused 7361\u001b[K\n",
            "Receiving objects: 100% (7516/7516), 22.15 MiB | 32.82 MiB/s, done.\n",
            "Resolving deltas: 100% (5146/5146), done.\n",
            "Cloning into 'finite-mdp'...\n",
            "remote: Enumerating objects: 141, done.\u001b[K\n",
            "remote: Counting objects: 100% (12/12), done.\u001b[K\n",
            "remote: Compressing objects: 100% (12/12), done.\u001b[K\n",
            "remote: Total 141 (delta 1), reused 4 (delta 0), pack-reused 129\u001b[K\n",
            "Receiving objects: 100% (141/141), 25.21 KiB | 12.60 MiB/s, done.\n",
            "Resolving deltas: 100% (45/45), done.\n"
          ],
          "name": "stdout"
        }
      ]
    },
    {
      "cell_type": "code",
      "metadata": {
        "colab": {
          "base_uri": "https://localhost:8080/"
        },
        "id": "6ZV4ufe6AVRr",
        "outputId": "a7f8717a-e9e7-49f1-a307-b53b1996fecd"
      },
      "source": [
        "# Uninstalling the highway-env package in case an issue has happened\n",
        "# while coding your new environment.\n",
        "# Ucomment the command below for execution.\n",
        "# !pip uninstall -y highway-env"
      ],
      "execution_count": null,
      "outputs": [
        {
          "output_type": "stream",
          "text": [
            "Uninstalling highway-env-1.1:\n",
            "  Successfully uninstalled highway-env-1.1\n"
          ],
          "name": "stdout"
        }
      ]
    },
    {
      "cell_type": "code",
      "metadata": {
        "colab": {
          "base_uri": "https://localhost:8080/"
        },
        "id": "KFgCc7V4bai1",
        "outputId": "18aa897a-b83b-4abf-abcc-2f02cf285b74"
      },
      "source": [
        "# installing the highway-env package.\n",
        "!pip install /content/highway-env/\n",
        "!pip install /content/finite-mdp/\n",
        "# Note: Press the restart button when reinstalling the highway-env\n",
        "# package as/if prompted by the output text below."
      ],
      "execution_count": 2,
      "outputs": [
        {
          "output_type": "stream",
          "text": [
            "Processing ./highway-env\n",
            "  Installing build dependencies ... \u001b[?25l\u001b[?25hdone\n",
            "  Getting requirements to build wheel ... \u001b[?25l\u001b[?25hdone\n",
            "  Installing backend dependencies ... \u001b[?25l\u001b[?25hdone\n",
            "    Preparing wheel metadata ... \u001b[?25l\u001b[?25hdone\n",
            "Requirement already satisfied: gym in /usr/local/lib/python3.7/dist-packages (from highway-env==1.2) (0.17.3)\n",
            "Requirement already satisfied: numpy in /usr/local/lib/python3.7/dist-packages (from highway-env==1.2) (1.19.5)\n",
            "Requirement already satisfied: matplotlib in /usr/local/lib/python3.7/dist-packages (from highway-env==1.2) (3.2.2)\n",
            "Collecting pygame\n",
            "\u001b[?25l  Downloading https://files.pythonhosted.org/packages/4b/9e/c400554dd1d0e562bd4379f35ad5023c68fc120003a58991405850f56f95/pygame-2.0.1-cp37-cp37m-manylinux1_x86_64.whl (11.8MB)\n",
            "\u001b[K     |████████████████████████████████| 11.8MB 20.4MB/s \n",
            "\u001b[?25hRequirement already satisfied: pandas in /usr/local/lib/python3.7/dist-packages (from highway-env==1.2) (1.1.5)\n",
            "Requirement already satisfied: cloudpickle<1.7.0,>=1.2.0 in /usr/local/lib/python3.7/dist-packages (from gym->highway-env==1.2) (1.3.0)\n",
            "Requirement already satisfied: pyglet<=1.5.0,>=1.4.0 in /usr/local/lib/python3.7/dist-packages (from gym->highway-env==1.2) (1.5.0)\n",
            "Requirement already satisfied: scipy in /usr/local/lib/python3.7/dist-packages (from gym->highway-env==1.2) (1.4.1)\n",
            "Requirement already satisfied: cycler>=0.10 in /usr/local/lib/python3.7/dist-packages (from matplotlib->highway-env==1.2) (0.10.0)\n",
            "Requirement already satisfied: kiwisolver>=1.0.1 in /usr/local/lib/python3.7/dist-packages (from matplotlib->highway-env==1.2) (1.3.1)\n",
            "Requirement already satisfied: python-dateutil>=2.1 in /usr/local/lib/python3.7/dist-packages (from matplotlib->highway-env==1.2) (2.8.1)\n",
            "Requirement already satisfied: pyparsing!=2.0.4,!=2.1.2,!=2.1.6,>=2.0.1 in /usr/local/lib/python3.7/dist-packages (from matplotlib->highway-env==1.2) (2.4.7)\n",
            "Requirement already satisfied: pytz>=2017.2 in /usr/local/lib/python3.7/dist-packages (from pandas->highway-env==1.2) (2018.9)\n",
            "Requirement already satisfied: future in /usr/local/lib/python3.7/dist-packages (from pyglet<=1.5.0,>=1.4.0->gym->highway-env==1.2) (0.16.0)\n",
            "Requirement already satisfied: six in /usr/local/lib/python3.7/dist-packages (from cycler>=0.10->matplotlib->highway-env==1.2) (1.15.0)\n",
            "Building wheels for collected packages: highway-env\n",
            "  Building wheel for highway-env (PEP 517) ... \u001b[?25l\u001b[?25hdone\n",
            "  Created wheel for highway-env: filename=highway_env-1.2-cp37-none-any.whl size=92221 sha256=e6714f23b62f847c964c65e0ded17650575150a21b7e9dafd549a6d98b4b2c32\n",
            "  Stored in directory: /root/.cache/pip/wheels/86/f8/1a/561333f2df5a08999032373dfa6641cc1cd21b091cc818e8ff\n",
            "Successfully built highway-env\n",
            "Installing collected packages: pygame, highway-env\n",
            "Successfully installed highway-env-1.2 pygame-2.0.1\n",
            "Processing ./finite-mdp\n",
            "Requirement already satisfied: gym in /usr/local/lib/python3.7/dist-packages (from finite-mdp==1.0.dev0) (0.17.3)\n",
            "Requirement already satisfied: numpy in /usr/local/lib/python3.7/dist-packages (from finite-mdp==1.0.dev0) (1.19.5)\n",
            "Requirement already satisfied: matplotlib in /usr/local/lib/python3.7/dist-packages (from finite-mdp==1.0.dev0) (3.2.2)\n",
            "Requirement already satisfied: torch>=1.2.0 in /usr/local/lib/python3.7/dist-packages (from finite-mdp==1.0.dev0) (1.8.1+cu101)\n",
            "Requirement already satisfied: networkx in /usr/local/lib/python3.7/dist-packages (from finite-mdp==1.0.dev0) (2.5.1)\n",
            "Requirement already satisfied: scipy in /usr/local/lib/python3.7/dist-packages (from gym->finite-mdp==1.0.dev0) (1.4.1)\n",
            "Requirement already satisfied: pyglet<=1.5.0,>=1.4.0 in /usr/local/lib/python3.7/dist-packages (from gym->finite-mdp==1.0.dev0) (1.5.0)\n",
            "Requirement already satisfied: cloudpickle<1.7.0,>=1.2.0 in /usr/local/lib/python3.7/dist-packages (from gym->finite-mdp==1.0.dev0) (1.3.0)\n",
            "Requirement already satisfied: pyparsing!=2.0.4,!=2.1.2,!=2.1.6,>=2.0.1 in /usr/local/lib/python3.7/dist-packages (from matplotlib->finite-mdp==1.0.dev0) (2.4.7)\n",
            "Requirement already satisfied: cycler>=0.10 in /usr/local/lib/python3.7/dist-packages (from matplotlib->finite-mdp==1.0.dev0) (0.10.0)\n",
            "Requirement already satisfied: kiwisolver>=1.0.1 in /usr/local/lib/python3.7/dist-packages (from matplotlib->finite-mdp==1.0.dev0) (1.3.1)\n",
            "Requirement already satisfied: python-dateutil>=2.1 in /usr/local/lib/python3.7/dist-packages (from matplotlib->finite-mdp==1.0.dev0) (2.8.1)\n",
            "Requirement already satisfied: typing-extensions in /usr/local/lib/python3.7/dist-packages (from torch>=1.2.0->finite-mdp==1.0.dev0) (3.7.4.3)\n",
            "Requirement already satisfied: decorator<5,>=4.3 in /usr/local/lib/python3.7/dist-packages (from networkx->finite-mdp==1.0.dev0) (4.4.2)\n",
            "Requirement already satisfied: future in /usr/local/lib/python3.7/dist-packages (from pyglet<=1.5.0,>=1.4.0->gym->finite-mdp==1.0.dev0) (0.16.0)\n",
            "Requirement already satisfied: six in /usr/local/lib/python3.7/dist-packages (from cycler>=0.10->matplotlib->finite-mdp==1.0.dev0) (1.15.0)\n",
            "Building wheels for collected packages: finite-mdp\n",
            "  Building wheel for finite-mdp (setup.py) ... \u001b[?25l\u001b[?25hdone\n",
            "  Created wheel for finite-mdp: filename=finite_mdp-1.0.dev0-cp37-none-any.whl size=6062 sha256=d9fcbe17f80e2e2358a165217bca5cdb1bf93c8480791fbcd463e8bc9e0390b0\n",
            "  Stored in directory: /root/.cache/pip/wheels/4e/bc/41/491a4747100f3b4c3eca507f3b8954eb8c9a6e9c583aa537c9\n",
            "Successfully built finite-mdp\n",
            "Installing collected packages: finite-mdp\n",
            "Successfully installed finite-mdp-1.0.dev0\n"
          ],
          "name": "stdout"
        }
      ]
    },
    {
      "cell_type": "code",
      "metadata": {
        "id": "NsrAzGBpmPVs"
      },
      "source": [
        "# general package imports\n",
        "import os\n",
        "import time\n",
        "# RL specific package imports\n",
        "import gym\n",
        "import highway_env"
      ],
      "execution_count": 3,
      "outputs": []
    },
    {
      "cell_type": "code",
      "metadata": {
        "colab": {
          "base_uri": "https://localhost:8080/"
        },
        "id": "2aEG1Avx6fGl",
        "outputId": "8b7e4b85-9751-446c-87f1-8b779eb43dee"
      },
      "source": [
        "# plotting specific import statements\n",
        "import numpy as np\n",
        "print('numpy: '+np.version.full_version)\n",
        "import matplotlib.pyplot as plt\n",
        "plt.rcParams.update({'font.size': 20})\n",
        "import matplotlib.image as mpimg\n",
        "from mpl_toolkits.mplot3d import Axes3D \n",
        "import matplotlib.animation as animation\n",
        "import matplotlib\n",
        "print('matplotlib: '+matplotlib.__version__)"
      ],
      "execution_count": 4,
      "outputs": [
        {
          "output_type": "stream",
          "text": [
            "numpy: 1.19.5\n",
            "matplotlib: 3.2.2\n"
          ],
          "name": "stdout"
        }
      ]
    },
    {
      "cell_type": "code",
      "metadata": {
        "id": "OWqRIFwubdqX"
      },
      "source": [
        "# creating an instance of roundabout environment\n",
        "env_h = gym.make(\"highway-v0\")\n",
        "# converting the roundabout environment into a finite mdp\n",
        "mdp_h = env_h.unwrapped.to_finite_mdp()"
      ],
      "execution_count": 5,
      "outputs": []
    },
    {
      "cell_type": "code",
      "metadata": {
        "colab": {
          "base_uri": "https://localhost:8080/"
        },
        "id": "RXxmRIDqTYdy",
        "outputId": "bdb2377e-195c-4184-c4b5-c40dded1b487"
      },
      "source": [
        "print(\"Lane change task MDP shape: \"+str(mdp_h.transition.shape))"
      ],
      "execution_count": 6,
      "outputs": [
        {
          "output_type": "stream",
          "text": [
            "Lane change task MDP shape: (120, 5)\n"
          ],
          "name": "stdout"
        }
      ]
    },
    {
      "cell_type": "code",
      "metadata": {
        "id": "zdq7X4vh9LAS"
      },
      "source": [
        "# generic function implementation for MDP data plotting \n",
        "def plot_3d_fig(data, img_name, x_deg=-20, y_deg=-40, show_flag=False):\n",
        "\n",
        "    if not os.path.exists('output'):\n",
        "        os.makedirs('output')\n",
        "\n",
        "    fig = plt.figure(figsize=(10,10), dpi=100)\n",
        "    ax = plt.axes(projection='3d')\n",
        "    X = np.arange(0, 120, 1)\n",
        "    X = np.arange(0, mdp_h.transition.shape[0], 1)\n",
        "    Y = np.arange(0, mdp_h.transition.shape[1], 1)\n",
        "    Y, X = np.meshgrid(Y, X)\n",
        "    Z = data\n",
        "    ax.plot_surface(X, Y, Z, cmap='magma', rstride=1, cstride=1, linewidth=0, alpha=0.7)\n",
        "    ax.view_init(x_deg, y_deg)\n",
        "    plt.xlabel(\"States\")\n",
        "    plt.ylabel(\"Actions\")\n",
        "    plt.savefig('output/'+img_name)\n",
        "    # To switch off the display output of plot.\n",
        "    if show_flag == False:\n",
        "        plt.close(fig)"
      ],
      "execution_count": 7,
      "outputs": []
    },
    {
      "cell_type": "code",
      "metadata": {
        "id": "n0Z0SBDFESm0"
      },
      "source": [
        "# plotting the deterministic MDP's transition matrix outputs for all states\n",
        "plot_3d_fig(mdp_h.transition, 'lane_change_task_transition_matrix.png', -25, -45)"
      ],
      "execution_count": 8,
      "outputs": []
    },
    {
      "cell_type": "code",
      "metadata": {
        "id": "5V2ufEzf_Wmi"
      },
      "source": [
        "# plotting the deterministic MDP's reward matrix outputs for all states\n",
        "plot_3d_fig(mdp_h.reward, 'lane_change_task_reward_matrix.png', -25, -45)"
      ],
      "execution_count": 9,
      "outputs": []
    },
    {
      "cell_type": "code",
      "metadata": {
        "id": "Zq7wKaP-DYca"
      },
      "source": [
        "# storing the value function calculated w/ value iteration algorithm\n",
        "val_func_array = np.zeros((mdp_h.transition.shape[0], 5))\n",
        "val_cumu_array = np.zeros((mdp_h.transition.shape[0], 5))"
      ],
      "execution_count": 10,
      "outputs": []
    },
    {
      "cell_type": "code",
      "metadata": {
        "id": "mfQMjPvv3Npt"
      },
      "source": [
        "# this calculates evaluates the deterministic policy\n",
        "# for the deterministic version of roundabout environment\n",
        "def determine_policy(v, gamma=1.0):\n",
        "    policy = np.zeros(mdp.transition.shape[0])\n",
        "    for s in range(mdp.transition.shape[0]):\n",
        "        q_sa = np.zeros(env.action_space.n)\n",
        "        for a in range(env.action_space.n):\n",
        "            s_ = mdp.transition[s][a]\n",
        "            r = mdp.reward[s][a]\n",
        "            q_sa[a] += (1 * (r + gamma * v[s_]))\n",
        "        policy[s] = np.argmax(q_sa)\n",
        "    return policy"
      ],
      "execution_count": 11,
      "outputs": []
    },
    {
      "cell_type": "code",
      "metadata": {
        "id": "EZSPiRGY95qC"
      },
      "source": [
        "# value iteration algorithm's baseline implementation\n",
        "def value_iteration(env, gamma=0.99):\n",
        "    value = np.zeros(mdp.transition.shape[0])\n",
        "    max_iterations = 10000\n",
        "    eps = 1e-10\n",
        "\n",
        "    for i in range(max_iterations):\n",
        "        prev_v = np.copy(value)\n",
        "        for s in range(mdp.transition.shape[0]):\n",
        "            q_sa = np.zeros(env.action_space.n)\n",
        "            for a in range(env.action_space.n):\n",
        "                s_ = mdp.transition[s][a]\n",
        "                r = mdp.reward[s][a]\n",
        "                q_sa[a] += (1 * (r + gamma * prev_v[s_]))\n",
        "            value[s] = max(q_sa)\n",
        "            ind_ = np.argmax(q_sa)\n",
        "            val_func_array[s,ind_] = max(q_sa)\n",
        "            val_cumu_array[s,:] = q_sa\n",
        "        if (np.sum(np.fabs(prev_v - value)) <= eps):\n",
        "            print('Problem converged at iteration %d.' % (i + 1))\n",
        "            break\n",
        "    return value"
      ],
      "execution_count": 12,
      "outputs": []
    },
    {
      "cell_type": "code",
      "metadata": {
        "id": "8N7oCcjx3Nxt",
        "colab": {
          "base_uri": "https://localhost:8080/"
        },
        "outputId": "e67c3f67-7103-4d0a-a60a-a7ab3dd6e5b5"
      },
      "source": [
        "# inline code execution for value iteration\n",
        "# and policy determination functions\n",
        "gamma = 0.99\n",
        "env = gym.make('highway-v0')\n",
        "mdp = env.unwrapped.to_finite_mdp()\n",
        "optimal_value_func = value_iteration(env, gamma)\n",
        "start_time = time.time()\n",
        "policy = determine_policy(optimal_value_func, gamma)\n",
        "print(\"Best Policy Values Determined for the MDP.\\n\")\n",
        "print(policy)"
      ],
      "execution_count": 13,
      "outputs": [
        {
          "output_type": "stream",
          "text": [
            "Problem converged at iteration 2645.\n",
            "Best Policy Values Determined for the MDP.\n",
            "\n",
            "[3. 2. 2. 2. 2. 2. 2. 2. 2. 2. 3. 2. 2. 2. 2. 2. 2. 2. 2. 2. 3. 2. 2. 2.\n",
            " 2. 2. 2. 2. 2. 2. 3. 1. 1. 1. 1. 1. 1. 1. 1. 1. 3. 2. 2. 2. 2. 2. 0. 0.\n",
            " 2. 2. 3. 2. 2. 2. 2. 2. 2. 2. 2. 2. 3. 2. 2. 2. 2. 2. 2. 2. 2. 2. 3. 1.\n",
            " 1. 1. 1. 1. 1. 1. 1. 1. 2. 0. 0. 0. 2. 2. 2. 2. 2. 2. 2. 2. 2. 2. 2. 2.\n",
            " 2. 2. 1. 1. 2. 2. 2. 2. 1. 1. 1. 1. 0. 0. 1. 1. 1. 1. 0. 0. 0. 0. 0. 0.]\n"
          ],
          "name": "stdout"
        }
      ]
    },
    {
      "cell_type": "code",
      "metadata": {
        "id": "anCi2ny31dl-"
      },
      "source": [
        "# plotting the value function as output\n",
        "plot_3d_fig(val_func_array, 'value_func_array.png', 40, -45)"
      ],
      "execution_count": 14,
      "outputs": []
    },
    {
      "cell_type": "code",
      "metadata": {
        "id": "Pi7jIrexevGR"
      },
      "source": [
        "plot_3d_fig(val_cumu_array, 'value_cumu_array.png', 40, 145)"
      ],
      "execution_count": 15,
      "outputs": []
    },
    {
      "cell_type": "code",
      "metadata": {
        "id": "cXM7j-8vmyTd",
        "colab": {
          "base_uri": "https://localhost:8080/",
          "height": 104
        },
        "outputId": "cbd2acc5-4f61-437f-a301-57430d684aec"
      },
      "source": [
        "# downloading the zip files from the output directory\n",
        "!zip -r /content/output.zip /content/output/\n",
        "from google.colab import files\n",
        "files.download(\"/content/output.zip\")"
      ],
      "execution_count": null,
      "outputs": [
        {
          "output_type": "stream",
          "text": [
            "updating: content/output/ (stored 0%)\n",
            "updating: content/output/lane_change_task_transition_matrix.png (deflated 4%)\n",
            "updating: content/output/lane_change_task_reward_matrix.png (deflated 5%)\n",
            "updating: content/output/value_func_array.png (deflated 4%)\n",
            "updating: content/output/value_cumu_array.png (deflated 4%)\n"
          ],
          "name": "stdout"
        },
        {
          "output_type": "display_data",
          "data": {
            "application/javascript": [
              "\n",
              "    async function download(id, filename, size) {\n",
              "      if (!google.colab.kernel.accessAllowed) {\n",
              "        return;\n",
              "      }\n",
              "      const div = document.createElement('div');\n",
              "      const label = document.createElement('label');\n",
              "      label.textContent = `Downloading \"${filename}\": `;\n",
              "      div.appendChild(label);\n",
              "      const progress = document.createElement('progress');\n",
              "      progress.max = size;\n",
              "      div.appendChild(progress);\n",
              "      document.body.appendChild(div);\n",
              "\n",
              "      const buffers = [];\n",
              "      let downloaded = 0;\n",
              "\n",
              "      const channel = await google.colab.kernel.comms.open(id);\n",
              "      // Send a message to notify the kernel that we're ready.\n",
              "      channel.send({})\n",
              "\n",
              "      for await (const message of channel.messages) {\n",
              "        // Send a message to notify the kernel that we're ready.\n",
              "        channel.send({})\n",
              "        if (message.buffers) {\n",
              "          for (const buffer of message.buffers) {\n",
              "            buffers.push(buffer);\n",
              "            downloaded += buffer.byteLength;\n",
              "            progress.value = downloaded;\n",
              "          }\n",
              "        }\n",
              "      }\n",
              "      const blob = new Blob(buffers, {type: 'application/binary'});\n",
              "      const a = document.createElement('a');\n",
              "      a.href = window.URL.createObjectURL(blob);\n",
              "      a.download = filename;\n",
              "      div.appendChild(a);\n",
              "      a.click();\n",
              "      div.remove();\n",
              "    }\n",
              "  "
            ],
            "text/plain": [
              "<IPython.core.display.Javascript object>"
            ]
          },
          "metadata": {
            "tags": []
          }
        },
        {
          "output_type": "display_data",
          "data": {
            "application/javascript": [
              "download(\"download_0cf070be-7d76-4186-97d5-dc97215ab85f\", \"output.zip\", 907252)"
            ],
            "text/plain": [
              "<IPython.core.display.Javascript object>"
            ]
          },
          "metadata": {
            "tags": []
          }
        }
      ]
    }
  ]
}
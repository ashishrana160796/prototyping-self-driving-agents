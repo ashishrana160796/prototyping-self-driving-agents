{
  "nbformat": 4,
  "nbformat_minor": 0,
  "metadata": {
    "colab": {
      "name": "her-parking-task-highway-env-tensorflow-backend.ipynb",
      "provenance": [],
      "collapsed_sections": []
    },
    "kernelspec": {
      "name": "python3",
      "display_name": "Python 3"
    },
    "accelerator": "GPU",
    "widgets": {
      "application/vnd.jupyter.widget-state+json": {
        "49e57814861f4eeca7c4907cc06c80da": {
          "model_module": "@jupyter-widgets/controls",
          "model_name": "HBoxModel",
          "state": {
            "_view_name": "HBoxView",
            "_dom_classes": [],
            "_model_name": "HBoxModel",
            "_view_module": "@jupyter-widgets/controls",
            "_model_module_version": "1.5.0",
            "_view_count": null,
            "_view_module_version": "1.5.0",
            "box_style": "",
            "layout": "IPY_MODEL_4e534d9ae9d649378dbd2554e78fc389",
            "_model_module": "@jupyter-widgets/controls",
            "children": [
              "IPY_MODEL_1fa206e3b90d43f4a3d195d9cfa89163",
              "IPY_MODEL_6353b3800bbc4cf1b30c30e50d4979ab"
            ]
          }
        },
        "4e534d9ae9d649378dbd2554e78fc389": {
          "model_module": "@jupyter-widgets/base",
          "model_name": "LayoutModel",
          "state": {
            "_view_name": "LayoutView",
            "grid_template_rows": null,
            "right": null,
            "justify_content": null,
            "_view_module": "@jupyter-widgets/base",
            "overflow": null,
            "_model_module_version": "1.2.0",
            "_view_count": null,
            "flex_flow": null,
            "width": null,
            "min_width": null,
            "border": null,
            "align_items": null,
            "bottom": null,
            "_model_module": "@jupyter-widgets/base",
            "top": null,
            "grid_column": null,
            "overflow_y": null,
            "overflow_x": null,
            "grid_auto_flow": null,
            "grid_area": null,
            "grid_template_columns": null,
            "flex": null,
            "_model_name": "LayoutModel",
            "justify_items": null,
            "grid_row": null,
            "max_height": null,
            "align_content": null,
            "visibility": null,
            "align_self": null,
            "height": null,
            "min_height": null,
            "padding": null,
            "grid_auto_rows": null,
            "grid_gap": null,
            "max_width": null,
            "order": null,
            "_view_module_version": "1.2.0",
            "grid_template_areas": null,
            "object_position": null,
            "object_fit": null,
            "grid_auto_columns": null,
            "margin": null,
            "display": null,
            "left": null
          }
        },
        "1fa206e3b90d43f4a3d195d9cfa89163": {
          "model_module": "@jupyter-widgets/controls",
          "model_name": "FloatProgressModel",
          "state": {
            "_view_name": "ProgressView",
            "style": "IPY_MODEL_803cca0dbe6a461694019bc9f014e84f",
            "_dom_classes": [],
            "description": "Output Episodes: 100%",
            "_model_name": "FloatProgressModel",
            "bar_style": "success",
            "max": 5,
            "_view_module": "@jupyter-widgets/controls",
            "_model_module_version": "1.5.0",
            "value": 5,
            "_view_count": null,
            "_view_module_version": "1.5.0",
            "orientation": "horizontal",
            "min": 0,
            "description_tooltip": null,
            "_model_module": "@jupyter-widgets/controls",
            "layout": "IPY_MODEL_14096f7b835948ef9f1767b872ad6df0"
          }
        },
        "6353b3800bbc4cf1b30c30e50d4979ab": {
          "model_module": "@jupyter-widgets/controls",
          "model_name": "HTMLModel",
          "state": {
            "_view_name": "HTMLView",
            "style": "IPY_MODEL_12a47b61e0c14e589f2b22102c63901f",
            "_dom_classes": [],
            "description": "",
            "_model_name": "HTMLModel",
            "placeholder": "​",
            "_view_module": "@jupyter-widgets/controls",
            "_model_module_version": "1.5.0",
            "value": " 5/5 [01:32&lt;00:00, 18.47s/it]",
            "_view_count": null,
            "_view_module_version": "1.5.0",
            "description_tooltip": null,
            "_model_module": "@jupyter-widgets/controls",
            "layout": "IPY_MODEL_2943917459d94a0faa233214878b6deb"
          }
        },
        "803cca0dbe6a461694019bc9f014e84f": {
          "model_module": "@jupyter-widgets/controls",
          "model_name": "ProgressStyleModel",
          "state": {
            "_view_name": "StyleView",
            "_model_name": "ProgressStyleModel",
            "description_width": "initial",
            "_view_module": "@jupyter-widgets/base",
            "_model_module_version": "1.5.0",
            "_view_count": null,
            "_view_module_version": "1.2.0",
            "bar_color": null,
            "_model_module": "@jupyter-widgets/controls"
          }
        },
        "14096f7b835948ef9f1767b872ad6df0": {
          "model_module": "@jupyter-widgets/base",
          "model_name": "LayoutModel",
          "state": {
            "_view_name": "LayoutView",
            "grid_template_rows": null,
            "right": null,
            "justify_content": null,
            "_view_module": "@jupyter-widgets/base",
            "overflow": null,
            "_model_module_version": "1.2.0",
            "_view_count": null,
            "flex_flow": null,
            "width": null,
            "min_width": null,
            "border": null,
            "align_items": null,
            "bottom": null,
            "_model_module": "@jupyter-widgets/base",
            "top": null,
            "grid_column": null,
            "overflow_y": null,
            "overflow_x": null,
            "grid_auto_flow": null,
            "grid_area": null,
            "grid_template_columns": null,
            "flex": null,
            "_model_name": "LayoutModel",
            "justify_items": null,
            "grid_row": null,
            "max_height": null,
            "align_content": null,
            "visibility": null,
            "align_self": null,
            "height": null,
            "min_height": null,
            "padding": null,
            "grid_auto_rows": null,
            "grid_gap": null,
            "max_width": null,
            "order": null,
            "_view_module_version": "1.2.0",
            "grid_template_areas": null,
            "object_position": null,
            "object_fit": null,
            "grid_auto_columns": null,
            "margin": null,
            "display": null,
            "left": null
          }
        },
        "12a47b61e0c14e589f2b22102c63901f": {
          "model_module": "@jupyter-widgets/controls",
          "model_name": "DescriptionStyleModel",
          "state": {
            "_view_name": "StyleView",
            "_model_name": "DescriptionStyleModel",
            "description_width": "",
            "_view_module": "@jupyter-widgets/base",
            "_model_module_version": "1.5.0",
            "_view_count": null,
            "_view_module_version": "1.2.0",
            "_model_module": "@jupyter-widgets/controls"
          }
        },
        "2943917459d94a0faa233214878b6deb": {
          "model_module": "@jupyter-widgets/base",
          "model_name": "LayoutModel",
          "state": {
            "_view_name": "LayoutView",
            "grid_template_rows": null,
            "right": null,
            "justify_content": null,
            "_view_module": "@jupyter-widgets/base",
            "overflow": null,
            "_model_module_version": "1.2.0",
            "_view_count": null,
            "flex_flow": null,
            "width": null,
            "min_width": null,
            "border": null,
            "align_items": null,
            "bottom": null,
            "_model_module": "@jupyter-widgets/base",
            "top": null,
            "grid_column": null,
            "overflow_y": null,
            "overflow_x": null,
            "grid_auto_flow": null,
            "grid_area": null,
            "grid_template_columns": null,
            "flex": null,
            "_model_name": "LayoutModel",
            "justify_items": null,
            "grid_row": null,
            "max_height": null,
            "align_content": null,
            "visibility": null,
            "align_self": null,
            "height": null,
            "min_height": null,
            "padding": null,
            "grid_auto_rows": null,
            "grid_gap": null,
            "max_width": null,
            "order": null,
            "_view_module_version": "1.2.0",
            "grid_template_areas": null,
            "object_position": null,
            "object_fit": null,
            "grid_auto_columns": null,
            "margin": null,
            "display": null,
            "left": null
          }
        }
      }
    }
  },
  "cells": [
    {
      "cell_type": "markdown",
      "metadata": {
        "id": "qBcj3aMxtjWb"
      },
      "source": [
        "### **Setting up the environment**\n",
        "\n",
        "* __Downgrading tensorflow for `stable-baselines` support.__\n",
        "* __Installing `highway-env` & `stable-baselines`.__\n",
        "* __Setting up virtual display for google colab.__\n",
        "* __Importing plotting and progress measurement packages.__\n",
        "\n"
      ]
    },
    {
      "cell_type": "code",
      "metadata": {
        "id": "GoPP2EUO8mwu",
        "colab": {
          "base_uri": "https://localhost:8080/"
        },
        "outputId": "2019fef6-9591-4ac2-a936-36d8fdd25caa"
      },
      "source": [
        "# Downgrading tensorflow version for compatability with stable-baselines package.\n",
        "# stable-baselines hasn't been made compatible with Tensorflow-2.0.\n",
        "# Hence, it can't be used directly with Tensorflow version installed in Colab. \n",
        "!pip install tensorflow==1.15.3\n",
        "# After this restart runtime and print the version output of tensorflow."
      ],
      "execution_count": null,
      "outputs": [
        {
          "output_type": "stream",
          "text": [
            "Collecting tensorflow==1.15.3\n",
            "\u001b[?25l  Downloading https://files.pythonhosted.org/packages/02/36/9a02e27f0ec248b676a380ffe910c1858e3af3027c0d4d513dd0b56a5613/tensorflow-1.15.3-cp36-cp36m-manylinux2010_x86_64.whl (110.5MB)\n",
            "\u001b[K     |████████████████████████████████| 110.5MB 36kB/s \n",
            "\u001b[?25hRequirement already satisfied: six>=1.10.0 in /usr/local/lib/python3.6/dist-packages (from tensorflow==1.15.3) (1.15.0)\n",
            "Collecting tensorboard<1.16.0,>=1.15.0\n",
            "\u001b[?25l  Downloading https://files.pythonhosted.org/packages/1e/e9/d3d747a97f7188f48aa5eda486907f3b345cd409f0a0850468ba867db246/tensorboard-1.15.0-py3-none-any.whl (3.8MB)\n",
            "\u001b[K     |████████████████████████████████| 3.8MB 54.8MB/s \n",
            "\u001b[?25hRequirement already satisfied: absl-py>=0.7.0 in /usr/local/lib/python3.6/dist-packages (from tensorflow==1.15.3) (0.10.0)\n",
            "Requirement already satisfied: grpcio>=1.8.6 in /usr/local/lib/python3.6/dist-packages (from tensorflow==1.15.3) (1.32.0)\n",
            "Collecting tensorflow-estimator==1.15.1\n",
            "\u001b[?25l  Downloading https://files.pythonhosted.org/packages/de/62/2ee9cd74c9fa2fa450877847ba560b260f5d0fb70ee0595203082dafcc9d/tensorflow_estimator-1.15.1-py2.py3-none-any.whl (503kB)\n",
            "\u001b[K     |████████████████████████████████| 512kB 54.2MB/s \n",
            "\u001b[?25hRequirement already satisfied: protobuf>=3.6.1 in /usr/local/lib/python3.6/dist-packages (from tensorflow==1.15.3) (3.12.4)\n",
            "Requirement already satisfied: astor>=0.6.0 in /usr/local/lib/python3.6/dist-packages (from tensorflow==1.15.3) (0.8.1)\n",
            "Requirement already satisfied: wrapt>=1.11.1 in /usr/local/lib/python3.6/dist-packages (from tensorflow==1.15.3) (1.12.1)\n",
            "Requirement already satisfied: opt-einsum>=2.3.2 in /usr/local/lib/python3.6/dist-packages (from tensorflow==1.15.3) (3.3.0)\n",
            "Requirement already satisfied: keras-preprocessing>=1.0.5 in /usr/local/lib/python3.6/dist-packages (from tensorflow==1.15.3) (1.1.2)\n",
            "Requirement already satisfied: wheel>=0.26; python_version >= \"3\" in /usr/local/lib/python3.6/dist-packages (from tensorflow==1.15.3) (0.36.2)\n",
            "Collecting gast==0.2.2\n",
            "  Downloading https://files.pythonhosted.org/packages/4e/35/11749bf99b2d4e3cceb4d55ca22590b0d7c2c62b9de38ac4a4a7f4687421/gast-0.2.2.tar.gz\n",
            "Requirement already satisfied: google-pasta>=0.1.6 in /usr/local/lib/python3.6/dist-packages (from tensorflow==1.15.3) (0.2.0)\n",
            "Collecting keras-applications>=1.0.8\n",
            "\u001b[?25l  Downloading https://files.pythonhosted.org/packages/71/e3/19762fdfc62877ae9102edf6342d71b28fbfd9dea3d2f96a882ce099b03f/Keras_Applications-1.0.8-py3-none-any.whl (50kB)\n",
            "\u001b[K     |████████████████████████████████| 51kB 8.8MB/s \n",
            "\u001b[?25hRequirement already satisfied: termcolor>=1.1.0 in /usr/local/lib/python3.6/dist-packages (from tensorflow==1.15.3) (1.1.0)\n",
            "Requirement already satisfied: numpy<2.0,>=1.16.0 in /usr/local/lib/python3.6/dist-packages (from tensorflow==1.15.3) (1.19.5)\n",
            "Requirement already satisfied: werkzeug>=0.11.15 in /usr/local/lib/python3.6/dist-packages (from tensorboard<1.16.0,>=1.15.0->tensorflow==1.15.3) (1.0.1)\n",
            "Requirement already satisfied: markdown>=2.6.8 in /usr/local/lib/python3.6/dist-packages (from tensorboard<1.16.0,>=1.15.0->tensorflow==1.15.3) (3.3.3)\n",
            "Requirement already satisfied: setuptools>=41.0.0 in /usr/local/lib/python3.6/dist-packages (from tensorboard<1.16.0,>=1.15.0->tensorflow==1.15.3) (51.3.3)\n",
            "Requirement already satisfied: h5py in /usr/local/lib/python3.6/dist-packages (from keras-applications>=1.0.8->tensorflow==1.15.3) (2.10.0)\n",
            "Requirement already satisfied: importlib-metadata; python_version < \"3.8\" in /usr/local/lib/python3.6/dist-packages (from markdown>=2.6.8->tensorboard<1.16.0,>=1.15.0->tensorflow==1.15.3) (3.3.0)\n",
            "Requirement already satisfied: zipp>=0.5 in /usr/local/lib/python3.6/dist-packages (from importlib-metadata; python_version < \"3.8\"->markdown>=2.6.8->tensorboard<1.16.0,>=1.15.0->tensorflow==1.15.3) (3.4.0)\n",
            "Requirement already satisfied: typing-extensions>=3.6.4; python_version < \"3.8\" in /usr/local/lib/python3.6/dist-packages (from importlib-metadata; python_version < \"3.8\"->markdown>=2.6.8->tensorboard<1.16.0,>=1.15.0->tensorflow==1.15.3) (3.7.4.3)\n",
            "Building wheels for collected packages: gast\n",
            "  Building wheel for gast (setup.py) ... \u001b[?25l\u001b[?25hdone\n",
            "  Created wheel for gast: filename=gast-0.2.2-cp36-none-any.whl size=7540 sha256=8b1f2c520a625dbf7fe998969a9146c61538010c1cc92e4a79f3d238e8c2d696\n",
            "  Stored in directory: /root/.cache/pip/wheels/5c/2e/7e/a1d4d4fcebe6c381f378ce7743a3ced3699feb89bcfbdadadd\n",
            "Successfully built gast\n",
            "\u001b[31mERROR: tensorflow-probability 0.12.1 has requirement gast>=0.3.2, but you'll have gast 0.2.2 which is incompatible.\u001b[0m\n",
            "Installing collected packages: tensorboard, tensorflow-estimator, gast, keras-applications, tensorflow\n",
            "  Found existing installation: tensorboard 2.4.0\n",
            "    Uninstalling tensorboard-2.4.0:\n",
            "      Successfully uninstalled tensorboard-2.4.0\n",
            "  Found existing installation: tensorflow-estimator 2.4.0\n",
            "    Uninstalling tensorflow-estimator-2.4.0:\n",
            "      Successfully uninstalled tensorflow-estimator-2.4.0\n",
            "  Found existing installation: gast 0.3.3\n",
            "    Uninstalling gast-0.3.3:\n",
            "      Successfully uninstalled gast-0.3.3\n",
            "  Found existing installation: tensorflow 2.4.0\n",
            "    Uninstalling tensorflow-2.4.0:\n",
            "      Successfully uninstalled tensorflow-2.4.0\n",
            "Successfully installed gast-0.2.2 keras-applications-1.0.8 tensorboard-1.15.0 tensorflow-1.15.3 tensorflow-estimator-1.15.1\n"
          ],
          "name": "stdout"
        }
      ]
    },
    {
      "cell_type": "code",
      "metadata": {
        "id": "dCYF5tNJ9Zkx",
        "colab": {
          "base_uri": "https://localhost:8080/"
        },
        "outputId": "852bf2d9-5034-42a8-b26a-8ca2a7dd695a"
      },
      "source": [
        "# Confirming that the model version has downgraded from Tensorflow-2.0\n",
        "import tensorflow as tf\n",
        "print(tf.__version__)\n",
        "# Output: 1.15.3"
      ],
      "execution_count": null,
      "outputs": [
        {
          "output_type": "stream",
          "text": [
            "1.15.3\n"
          ],
          "name": "stdout"
        }
      ]
    },
    {
      "cell_type": "code",
      "metadata": {
        "id": "OOwH-ygkpqf2",
        "colab": {
          "base_uri": "https://localhost:8080/"
        },
        "outputId": "d8c6d15d-eead-46fa-873f-e8693d77a783"
      },
      "source": [
        "# Package download statements.\n",
        "# Note 1: This time we also use ffmpeg package for handling video recording related tasks.\n",
        "# Note 2: The package version are generic and doesn't require any specific package version downloads.\n",
        "!pip install git+https://github.com/eleurent/highway-env\n",
        "!apt-get update\n",
        "!pip install pyvirtualdisplay\n",
        "!apt-get install -y xvfb python-opengl ffmpeg\n",
        "# importing gym and high_env for loading different environment scenarios.\n",
        "import gym\n",
        "import highway_env\n",
        "\n",
        "# Agent related import statements.\n",
        "!pip install stable-baselines==2.10.0\n",
        "# HER: stands for Hindsight Experience Replay, in stable-baselines it is a \n",
        "# wrapper package for algorithms like TD3, SAC, DDPG etc.\n",
        "\n",
        "# Note: HER works only on goal environment and works only gym env inherits from gym.GoalEnv.\n",
        "\n",
        "# Agent related pip install command.\n",
        "!pip install stable-baselines[mpi] --upgrade\n",
        "# Restart runtime one more time 'ONLY IF' DDPG import error exists\n",
        "# for completing mpi4py package se\n",
        "\n",
        "# SAC: stands for Soft Actor Critic, This algorithm optimizes stochastic policy\n",
        "# with off-policy approach. The policy is designed to maximize trade-off between\n",
        "# expected rewards and entropy i.e. randomness by this algorithm.\n",
        "from stable_baselines import HER, DQN, SAC, DDPG, TD3\n",
        "\n",
        "# tqdm: gives progress bars to loops.\n",
        "from tqdm.notebook import trange"
      ],
      "execution_count": null,
      "outputs": [
        {
          "output_type": "stream",
          "text": [
            "Collecting git+https://github.com/eleurent/highway-env\n",
            "  Cloning https://github.com/eleurent/highway-env to /tmp/pip-req-build-x0861r8d\n",
            "  Running command git clone -q https://github.com/eleurent/highway-env /tmp/pip-req-build-x0861r8d\n",
            "Requirement already satisfied: gym in /usr/local/lib/python3.6/dist-packages (from highway-env==1.0.dev0) (0.17.3)\n",
            "Requirement already satisfied: numpy in /usr/local/lib/python3.6/dist-packages (from highway-env==1.0.dev0) (1.19.5)\n",
            "Collecting pygame\n",
            "\u001b[?25l  Downloading https://files.pythonhosted.org/packages/01/da/4ff439558641a26dd29b04c25947e6c0ace041f56b2aa2ef1134edab06b8/pygame-2.0.1-cp36-cp36m-manylinux1_x86_64.whl (11.8MB)\n",
            "\u001b[K     |████████████████████████████████| 11.8MB 270kB/s \n",
            "\u001b[?25hRequirement already satisfied: matplotlib in /usr/local/lib/python3.6/dist-packages (from highway-env==1.0.dev0) (3.2.2)\n",
            "Requirement already satisfied: pandas in /usr/local/lib/python3.6/dist-packages (from highway-env==1.0.dev0) (1.1.5)\n",
            "Requirement already satisfied: cloudpickle<1.7.0,>=1.2.0 in /usr/local/lib/python3.6/dist-packages (from gym->highway-env==1.0.dev0) (1.3.0)\n",
            "Requirement already satisfied: scipy in /usr/local/lib/python3.6/dist-packages (from gym->highway-env==1.0.dev0) (1.4.1)\n",
            "Requirement already satisfied: pyglet<=1.5.0,>=1.4.0 in /usr/local/lib/python3.6/dist-packages (from gym->highway-env==1.0.dev0) (1.5.0)\n",
            "Requirement already satisfied: python-dateutil>=2.1 in /usr/local/lib/python3.6/dist-packages (from matplotlib->highway-env==1.0.dev0) (2.8.1)\n",
            "Requirement already satisfied: kiwisolver>=1.0.1 in /usr/local/lib/python3.6/dist-packages (from matplotlib->highway-env==1.0.dev0) (1.3.1)\n",
            "Requirement already satisfied: pyparsing!=2.0.4,!=2.1.2,!=2.1.6,>=2.0.1 in /usr/local/lib/python3.6/dist-packages (from matplotlib->highway-env==1.0.dev0) (2.4.7)\n",
            "Requirement already satisfied: cycler>=0.10 in /usr/local/lib/python3.6/dist-packages (from matplotlib->highway-env==1.0.dev0) (0.10.0)\n",
            "Requirement already satisfied: pytz>=2017.2 in /usr/local/lib/python3.6/dist-packages (from pandas->highway-env==1.0.dev0) (2018.9)\n",
            "Requirement already satisfied: future in /usr/local/lib/python3.6/dist-packages (from pyglet<=1.5.0,>=1.4.0->gym->highway-env==1.0.dev0) (0.16.0)\n",
            "Requirement already satisfied: six>=1.5 in /usr/local/lib/python3.6/dist-packages (from python-dateutil>=2.1->matplotlib->highway-env==1.0.dev0) (1.15.0)\n",
            "Building wheels for collected packages: highway-env\n",
            "  Building wheel for highway-env (setup.py) ... \u001b[?25l\u001b[?25hdone\n",
            "  Created wheel for highway-env: filename=highway_env-1.0.dev0-cp36-none-any.whl size=80900 sha256=07a36e9548a41006e4394891f1df62cc93597a427097c5b8c7fdb6fce4fdd6b5\n",
            "  Stored in directory: /tmp/pip-ephem-wheel-cache-bf6dubfj/wheels/e6/10/d8/02a077ca221bbac1c6fc12c1370c2f773a8cd602d4be3df0cc\n",
            "Successfully built highway-env\n",
            "Installing collected packages: pygame, highway-env\n",
            "Successfully installed highway-env-1.0.dev0 pygame-2.0.1\n",
            "Get:1 https://cloud.r-project.org/bin/linux/ubuntu bionic-cran40/ InRelease [3,626 B]\n",
            "Ign:2 https://developer.download.nvidia.com/compute/cuda/repos/ubuntu1804/x86_64  InRelease\n",
            "Ign:3 https://developer.download.nvidia.com/compute/machine-learning/repos/ubuntu1804/x86_64  InRelease\n",
            "Hit:4 https://developer.download.nvidia.com/compute/cuda/repos/ubuntu1804/x86_64  Release\n",
            "Hit:5 https://developer.download.nvidia.com/compute/machine-learning/repos/ubuntu1804/x86_64  Release\n",
            "Hit:6 http://archive.ubuntu.com/ubuntu bionic InRelease\n",
            "Get:7 http://security.ubuntu.com/ubuntu bionic-security InRelease [88.7 kB]\n",
            "Get:8 http://ppa.launchpad.net/c2d4u.team/c2d4u4.0+/ubuntu bionic InRelease [15.9 kB]\n",
            "Get:9 http://archive.ubuntu.com/ubuntu bionic-updates InRelease [88.7 kB]\n",
            "Hit:11 http://ppa.launchpad.net/cran/libgit2/ubuntu bionic InRelease\n",
            "Get:13 http://archive.ubuntu.com/ubuntu bionic-backports InRelease [74.6 kB]\n",
            "Hit:14 http://ppa.launchpad.net/graphics-drivers/ppa/ubuntu bionic InRelease\n",
            "Get:15 http://ppa.launchpad.net/c2d4u.team/c2d4u4.0+/ubuntu bionic/main Sources [1,715 kB]\n",
            "Get:16 http://archive.ubuntu.com/ubuntu bionic-updates/universe amd64 Packages [2,149 kB]\n",
            "Get:17 http://ppa.launchpad.net/c2d4u.team/c2d4u4.0+/ubuntu bionic/main amd64 Packages [878 kB]\n",
            "Fetched 5,014 kB in 3s (1,525 kB/s)\n",
            "Reading package lists... Done\n",
            "Collecting pyvirtualdisplay\n",
            "  Downloading https://files.pythonhosted.org/packages/ad/05/6568620fed440941b704664b9cfe5f836ad699ac7694745e7787fbdc8063/PyVirtualDisplay-2.0-py2.py3-none-any.whl\n",
            "Collecting EasyProcess\n",
            "  Downloading https://files.pythonhosted.org/packages/48/3c/75573613641c90c6d094059ac28adb748560d99bd27ee6f80cce398f404e/EasyProcess-0.3-py2.py3-none-any.whl\n",
            "Installing collected packages: EasyProcess, pyvirtualdisplay\n",
            "Successfully installed EasyProcess-0.3 pyvirtualdisplay-2.0\n",
            "Reading package lists... Done\n",
            "Building dependency tree       \n",
            "Reading state information... Done\n",
            "ffmpeg is already the newest version (7:3.4.8-0ubuntu0.2).\n",
            "Suggested packages:\n",
            "  libgle3\n",
            "The following NEW packages will be installed:\n",
            "  python-opengl xvfb\n",
            "0 upgraded, 2 newly installed, 0 to remove and 16 not upgraded.\n",
            "Need to get 1,280 kB of archives.\n",
            "After this operation, 7,686 kB of additional disk space will be used.\n",
            "Get:1 http://archive.ubuntu.com/ubuntu bionic/universe amd64 python-opengl all 3.1.0+dfsg-1 [496 kB]\n",
            "Get:2 http://archive.ubuntu.com/ubuntu bionic-updates/universe amd64 xvfb amd64 2:1.19.6-1ubuntu4.8 [784 kB]\n",
            "Fetched 1,280 kB in 1s (942 kB/s)\n",
            "Selecting previously unselected package python-opengl.\n",
            "(Reading database ... 146374 files and directories currently installed.)\n",
            "Preparing to unpack .../python-opengl_3.1.0+dfsg-1_all.deb ...\n",
            "Unpacking python-opengl (3.1.0+dfsg-1) ...\n",
            "Selecting previously unselected package xvfb.\n",
            "Preparing to unpack .../xvfb_2%3a1.19.6-1ubuntu4.8_amd64.deb ...\n",
            "Unpacking xvfb (2:1.19.6-1ubuntu4.8) ...\n",
            "Setting up python-opengl (3.1.0+dfsg-1) ...\n",
            "Setting up xvfb (2:1.19.6-1ubuntu4.8) ...\n",
            "Processing triggers for man-db (2.8.3-2ubuntu0.1) ...\n",
            "Collecting stable-baselines==2.10.0\n",
            "\u001b[?25l  Downloading https://files.pythonhosted.org/packages/e5/fe/db8159d4d79109c6c8942abe77c7ba6b6e008c32ae55870a35e73fa10db3/stable_baselines-2.10.0-py3-none-any.whl (248kB)\n",
            "\u001b[K     |████████████████████████████████| 256kB 8.6MB/s \n",
            "\u001b[?25hRequirement already satisfied: opencv-python in /usr/local/lib/python3.6/dist-packages (from stable-baselines==2.10.0) (4.1.2.30)\n",
            "Requirement already satisfied: pandas in /usr/local/lib/python3.6/dist-packages (from stable-baselines==2.10.0) (1.1.5)\n",
            "Requirement already satisfied: matplotlib in /usr/local/lib/python3.6/dist-packages (from stable-baselines==2.10.0) (3.2.2)\n",
            "Requirement already satisfied: cloudpickle>=0.5.5 in /usr/local/lib/python3.6/dist-packages (from stable-baselines==2.10.0) (1.3.0)\n",
            "Requirement already satisfied: numpy in /usr/local/lib/python3.6/dist-packages (from stable-baselines==2.10.0) (1.19.5)\n",
            "Requirement already satisfied: gym[atari,classic_control]>=0.11 in /usr/local/lib/python3.6/dist-packages (from stable-baselines==2.10.0) (0.17.3)\n",
            "Requirement already satisfied: joblib in /usr/local/lib/python3.6/dist-packages (from stable-baselines==2.10.0) (1.0.0)\n",
            "Requirement already satisfied: scipy in /usr/local/lib/python3.6/dist-packages (from stable-baselines==2.10.0) (1.4.1)\n",
            "Requirement already satisfied: pytz>=2017.2 in /usr/local/lib/python3.6/dist-packages (from pandas->stable-baselines==2.10.0) (2018.9)\n",
            "Requirement already satisfied: python-dateutil>=2.7.3 in /usr/local/lib/python3.6/dist-packages (from pandas->stable-baselines==2.10.0) (2.8.1)\n",
            "Requirement already satisfied: pyparsing!=2.0.4,!=2.1.2,!=2.1.6,>=2.0.1 in /usr/local/lib/python3.6/dist-packages (from matplotlib->stable-baselines==2.10.0) (2.4.7)\n",
            "Requirement already satisfied: cycler>=0.10 in /usr/local/lib/python3.6/dist-packages (from matplotlib->stable-baselines==2.10.0) (0.10.0)\n",
            "Requirement already satisfied: kiwisolver>=1.0.1 in /usr/local/lib/python3.6/dist-packages (from matplotlib->stable-baselines==2.10.0) (1.3.1)\n",
            "Requirement already satisfied: pyglet<=1.5.0,>=1.4.0 in /usr/local/lib/python3.6/dist-packages (from gym[atari,classic_control]>=0.11->stable-baselines==2.10.0) (1.5.0)\n",
            "Requirement already satisfied: Pillow; extra == \"atari\" in /usr/local/lib/python3.6/dist-packages (from gym[atari,classic_control]>=0.11->stable-baselines==2.10.0) (7.0.0)\n",
            "Requirement already satisfied: atari-py~=0.2.0; extra == \"atari\" in /usr/local/lib/python3.6/dist-packages (from gym[atari,classic_control]>=0.11->stable-baselines==2.10.0) (0.2.6)\n",
            "Requirement already satisfied: six>=1.5 in /usr/local/lib/python3.6/dist-packages (from python-dateutil>=2.7.3->pandas->stable-baselines==2.10.0) (1.15.0)\n",
            "Requirement already satisfied: future in /usr/local/lib/python3.6/dist-packages (from pyglet<=1.5.0,>=1.4.0->gym[atari,classic_control]>=0.11->stable-baselines==2.10.0) (0.16.0)\n",
            "Installing collected packages: stable-baselines\n",
            "Successfully installed stable-baselines-2.10.0\n",
            "Collecting stable-baselines[mpi]\n",
            "\u001b[?25l  Downloading https://files.pythonhosted.org/packages/b0/48/d428b79bd4360727925f9fe34afeea7a9da381da3dc8748df834a349ad1d/stable_baselines-2.10.1-py3-none-any.whl (240kB)\n",
            "\u001b[K     |████████████████████████████████| 245kB 8.4MB/s \n",
            "\u001b[?25hRequirement already satisfied, skipping upgrade: cloudpickle>=0.5.5 in /usr/local/lib/python3.6/dist-packages (from stable-baselines[mpi]) (1.3.0)\n",
            "Requirement already satisfied, skipping upgrade: pandas in /usr/local/lib/python3.6/dist-packages (from stable-baselines[mpi]) (1.1.5)\n",
            "Requirement already satisfied, skipping upgrade: opencv-python in /usr/local/lib/python3.6/dist-packages (from stable-baselines[mpi]) (4.1.2.30)\n",
            "Requirement already satisfied, skipping upgrade: matplotlib in /usr/local/lib/python3.6/dist-packages (from stable-baselines[mpi]) (3.2.2)\n",
            "Requirement already satisfied, skipping upgrade: gym[atari,classic_control]>=0.11 in /usr/local/lib/python3.6/dist-packages (from stable-baselines[mpi]) (0.17.3)\n",
            "Requirement already satisfied, skipping upgrade: numpy in /usr/local/lib/python3.6/dist-packages (from stable-baselines[mpi]) (1.19.5)\n",
            "Requirement already satisfied, skipping upgrade: joblib in /usr/local/lib/python3.6/dist-packages (from stable-baselines[mpi]) (1.0.0)\n",
            "Requirement already satisfied, skipping upgrade: scipy in /usr/local/lib/python3.6/dist-packages (from stable-baselines[mpi]) (1.4.1)\n",
            "Collecting mpi4py; extra == \"mpi\"\n",
            "\u001b[?25l  Downloading https://files.pythonhosted.org/packages/ec/8f/bbd8de5ba566dd77e408d8136e2bab7fdf2b97ce06cab830ba8b50a2f588/mpi4py-3.0.3.tar.gz (1.4MB)\n",
            "\u001b[K     |████████████████████████████████| 1.4MB 10.5MB/s \n",
            "\u001b[?25hRequirement already satisfied, skipping upgrade: python-dateutil>=2.7.3 in /usr/local/lib/python3.6/dist-packages (from pandas->stable-baselines[mpi]) (2.8.1)\n",
            "Requirement already satisfied, skipping upgrade: pytz>=2017.2 in /usr/local/lib/python3.6/dist-packages (from pandas->stable-baselines[mpi]) (2018.9)\n",
            "Requirement already satisfied, skipping upgrade: kiwisolver>=1.0.1 in /usr/local/lib/python3.6/dist-packages (from matplotlib->stable-baselines[mpi]) (1.3.1)\n",
            "Requirement already satisfied, skipping upgrade: cycler>=0.10 in /usr/local/lib/python3.6/dist-packages (from matplotlib->stable-baselines[mpi]) (0.10.0)\n",
            "Requirement already satisfied, skipping upgrade: pyparsing!=2.0.4,!=2.1.2,!=2.1.6,>=2.0.1 in /usr/local/lib/python3.6/dist-packages (from matplotlib->stable-baselines[mpi]) (2.4.7)\n",
            "Requirement already satisfied, skipping upgrade: pyglet<=1.5.0,>=1.4.0 in /usr/local/lib/python3.6/dist-packages (from gym[atari,classic_control]>=0.11->stable-baselines[mpi]) (1.5.0)\n",
            "Requirement already satisfied, skipping upgrade: Pillow; extra == \"atari\" in /usr/local/lib/python3.6/dist-packages (from gym[atari,classic_control]>=0.11->stable-baselines[mpi]) (7.0.0)\n",
            "Requirement already satisfied, skipping upgrade: atari-py~=0.2.0; extra == \"atari\" in /usr/local/lib/python3.6/dist-packages (from gym[atari,classic_control]>=0.11->stable-baselines[mpi]) (0.2.6)\n",
            "Requirement already satisfied, skipping upgrade: six>=1.5 in /usr/local/lib/python3.6/dist-packages (from python-dateutil>=2.7.3->pandas->stable-baselines[mpi]) (1.15.0)\n",
            "Requirement already satisfied, skipping upgrade: future in /usr/local/lib/python3.6/dist-packages (from pyglet<=1.5.0,>=1.4.0->gym[atari,classic_control]>=0.11->stable-baselines[mpi]) (0.16.0)\n",
            "Building wheels for collected packages: mpi4py\n",
            "  Building wheel for mpi4py (setup.py) ... \u001b[?25l\u001b[?25hdone\n",
            "  Created wheel for mpi4py: filename=mpi4py-3.0.3-cp36-cp36m-linux_x86_64.whl size=2074478 sha256=1a4290e6da4cf2902d612bd2ff6cb03fb1a47e997a22f4447f5865ffc1fad409\n",
            "  Stored in directory: /root/.cache/pip/wheels/18/e0/86/2b713dd512199096012ceca61429e12b960888de59818871d6\n",
            "Successfully built mpi4py\n",
            "Installing collected packages: mpi4py, stable-baselines\n",
            "  Found existing installation: stable-baselines 2.10.0\n",
            "    Uninstalling stable-baselines-2.10.0:\n",
            "      Successfully uninstalled stable-baselines-2.10.0\n",
            "Successfully installed mpi4py-3.0.3 stable-baselines-2.10.1\n",
            "WARNING:tensorflow:\n",
            "The TensorFlow contrib module will not be included in TensorFlow 2.0.\n",
            "For more information, please see:\n",
            "  * https://github.com/tensorflow/community/blob/master/rfcs/20180907-contrib-sunset.md\n",
            "  * https://github.com/tensorflow/addons\n",
            "  * https://github.com/tensorflow/io (for I/O related ops)\n",
            "If you depend on functionality not listed there, please file an issue.\n",
            "\n"
          ],
          "name": "stdout"
        }
      ]
    },
    {
      "cell_type": "code",
      "metadata": {
        "id": "S4g3K2OM4d7A"
      },
      "source": [
        "# Similar, to earlier rendering procedures for creating virtual display.\n",
        "from IPython import display as ipythondisplay\n",
        "from pyvirtualdisplay import Display\n",
        "from gym.wrappers import Monitor\n",
        "from pathlib import Path\n",
        "import base64\n",
        "\n",
        "# Declaring display screen size for rendering highway-env environment.\n",
        "display = Display(visible=0, size=(1366, 768))\n",
        "display.start()\n",
        "\n",
        "# These functions are also available in '/highway-env/scripts/' directory in utils.py\n",
        "# file of highway-env github repository. These, can be directly accessed with below\n",
        "# commands but we are using these functions here to fix a specific size of recorded videos.\n",
        "# Note: commands are stated below for directly using these functions.\n",
        "# Also, we have changed these functions slightly. Therefore, refer documentation.\n",
        "\n",
        "# !git clone https://github.com/eleurent/highway-env.git\n",
        "# import sys\n",
        "# sys.path.insert(0, './highway-env/scripts/')\n",
        "# from utils import record_videos, show_videos, capture_intermediate_frames\n",
        "\n",
        "def wrap_env(env):\n",
        "    '''\n",
        "    Monitoring the environment interactions by agent and recording them in video.\n",
        "    '''\n",
        "    return Monitor(env, './video', force=True, video_callable=lambda episode: True)\n",
        "\n",
        "\n",
        "def show_video():\n",
        "    '''\n",
        "    Reading the stored video and display the output inline with code cells.\n",
        "    '''\n",
        "    html = []\n",
        "    for mp4 in Path('./video').glob(\"*.mp4\"):\n",
        "        video_b64 = base64.b64encode(mp4.read_bytes())\n",
        "        html.append('''<video alt=\"{}\" autoplay\n",
        "                      loop controls style=\"height: 212px;\">\n",
        "                      <source src=\"data:video/mp4;base64,{}\" type=\"video/mp4\" />\n",
        "                 </video>'''.format(mp4, video_b64.decode('ascii')))\n",
        "    ipythondisplay.display(ipythondisplay.HTML(data=\"<br>\".join(html)))\n",
        "\n",
        "\n",
        "def capture_intermediate_frames(env):\n",
        "    '''\n",
        "    Sending rendered frames to Monitor for logging video recording of captured frame.\n",
        "    '''\n",
        "    env.unwrapped.automatic_rendering_callback = env.video_recorder.capture_frame"
      ],
      "execution_count": null,
      "outputs": []
    },
    {
      "cell_type": "markdown",
      "metadata": {
        "id": "Mgd8gAaktnew"
      },
      "source": [
        "### **Model training for Soft Actor Critic (SAC) agent**"
      ]
    },
    {
      "cell_type": "code",
      "metadata": {
        "id": "AubtIyFo4lmz",
        "colab": {
          "base_uri": "https://localhost:8080/",
          "height": 1000
        },
        "outputId": "6b2b494e-4889-400b-ffd4-1a07a2fa7d46"
      },
      "source": [
        "env = gym.make(\"parking-v0\")\n",
        "# SAC parses the model class of Off-Policy RL model.\n",
        "# 'MlpPolicy' implements actor-critic with a MLP (2 layers of 64 nodes).\n",
        "model = HER('MlpPolicy', env, SAC, n_sampled_goal=4,\n",
        "            goal_selection_strategy='future',\n",
        "            verbose=1, buffer_size=int(1e6),\n",
        "            learning_rate=1e-3,\n",
        "            gamma=0.9, batch_size=256,\n",
        "            policy_kwargs=dict(layers=[256, 256, 256]))\n",
        "# argument: total_timesteps is passed as approximately 33k.\n",
        "# It gives number of timestamps to train on.\n",
        "model.learn(int(32768))"
      ],
      "execution_count": null,
      "outputs": [
        {
          "output_type": "stream",
          "text": [
            "WARNING:tensorflow:From /usr/local/lib/python3.6/dist-packages/stable_baselines/common/tf_util.py:191: The name tf.ConfigProto is deprecated. Please use tf.compat.v1.ConfigProto instead.\n",
            "\n",
            "WARNING:tensorflow:From /usr/local/lib/python3.6/dist-packages/stable_baselines/common/tf_util.py:200: The name tf.Session is deprecated. Please use tf.compat.v1.Session instead.\n",
            "\n",
            "WARNING:tensorflow:From /usr/local/lib/python3.6/dist-packages/stable_baselines/sac/sac.py:142: The name tf.variable_scope is deprecated. Please use tf.compat.v1.variable_scope instead.\n",
            "\n",
            "WARNING:tensorflow:From /usr/local/lib/python3.6/dist-packages/stable_baselines/common/input.py:25: The name tf.placeholder is deprecated. Please use tf.compat.v1.placeholder instead.\n",
            "\n",
            "WARNING:tensorflow:From /usr/local/lib/python3.6/dist-packages/stable_baselines/sac/policies.py:194: flatten (from tensorflow.python.layers.core) is deprecated and will be removed in a future version.\n",
            "Instructions for updating:\n",
            "Use keras.layers.flatten instead.\n",
            "WARNING:tensorflow:From /usr/local/lib/python3.6/dist-packages/tensorflow_core/python/layers/core.py:332: Layer.apply (from tensorflow.python.keras.engine.base_layer) is deprecated and will be removed in a future version.\n",
            "Instructions for updating:\n",
            "Please use `layer.__call__` method instead.\n",
            "WARNING:tensorflow:From /usr/local/lib/python3.6/dist-packages/stable_baselines/common/tf_layers.py:57: dense (from tensorflow.python.layers.core) is deprecated and will be removed in a future version.\n",
            "Instructions for updating:\n",
            "Use keras.layers.Dense instead.\n",
            "WARNING:tensorflow:From /usr/local/lib/python3.6/dist-packages/stable_baselines/sac/policies.py:216: The name tf.random_normal is deprecated. Please use tf.random.normal instead.\n",
            "\n",
            "WARNING:tensorflow:From /usr/local/lib/python3.6/dist-packages/stable_baselines/sac/policies.py:63: The name tf.log is deprecated. Please use tf.math.log instead.\n",
            "\n",
            "WARNING:tensorflow:From /usr/local/lib/python3.6/dist-packages/stable_baselines/sac/sac.py:197: The name tf.get_variable is deprecated. Please use tf.compat.v1.get_variable instead.\n",
            "\n",
            "WARNING:tensorflow:From /usr/local/lib/python3.6/dist-packages/stable_baselines/sac/sac.py:233: The name tf.train.AdamOptimizer is deprecated. Please use tf.compat.v1.train.AdamOptimizer instead.\n",
            "\n",
            "WARNING:tensorflow:From /usr/local/lib/python3.6/dist-packages/stable_baselines/common/tf_util.py:449: The name tf.get_collection is deprecated. Please use tf.compat.v1.get_collection instead.\n",
            "\n",
            "WARNING:tensorflow:From /usr/local/lib/python3.6/dist-packages/stable_baselines/common/tf_util.py:449: The name tf.GraphKeys is deprecated. Please use tf.compat.v1.GraphKeys instead.\n",
            "\n",
            "WARNING:tensorflow:From /usr/local/lib/python3.6/dist-packages/tensorflow_core/python/ops/math_grad.py:1375: where (from tensorflow.python.ops.array_ops) is deprecated and will be removed in a future version.\n",
            "Instructions for updating:\n",
            "Use tf.where in 2.0, which has the same broadcast rule as np.where\n",
            "WARNING:tensorflow:From /usr/local/lib/python3.6/dist-packages/stable_baselines/sac/sac.py:269: The name tf.assign is deprecated. Please use tf.compat.v1.assign instead.\n",
            "\n",
            "WARNING:tensorflow:From /usr/local/lib/python3.6/dist-packages/stable_baselines/sac/sac.py:296: The name tf.summary.scalar is deprecated. Please use tf.compat.v1.summary.scalar instead.\n",
            "\n",
            "WARNING:tensorflow:From /usr/local/lib/python3.6/dist-packages/stable_baselines/sac/sac.py:313: The name tf.global_variables_initializer is deprecated. Please use tf.compat.v1.global_variables_initializer instead.\n",
            "\n",
            "WARNING:tensorflow:From /usr/local/lib/python3.6/dist-packages/stable_baselines/sac/sac.py:316: The name tf.summary.merge_all is deprecated. Please use tf.compat.v1.summary.merge_all instead.\n",
            "\n",
            "------------------------------------------\n",
            "| current_lr              | 0.001        |\n",
            "| ent_coef                | 0.0042772014 |\n",
            "| ent_coef_loss           | -0.47107145  |\n",
            "| entropy                 | 1.3999009    |\n",
            "| episodes                | 100          |\n",
            "| fps                     | 20           |\n",
            "| mean 100 episode reward | -47.3        |\n",
            "| n_updates               | 9590         |\n",
            "| policy_loss             | 2.6379743    |\n",
            "| qf1_loss                | 0.008341698  |\n",
            "| qf2_loss                | 0.008334148  |\n",
            "| success rate            | 0.0505       |\n",
            "| time_elapsed            | 474          |\n",
            "| total timesteps         | 9689         |\n",
            "| value_loss              | 0.009654267  |\n",
            "------------------------------------------\n",
            "------------------------------------------\n",
            "| current_lr              | 0.001        |\n",
            "| ent_coef                | 0.0038740109 |\n",
            "| ent_coef_loss           | 1.3386219    |\n",
            "| entropy                 | 1.3820814    |\n",
            "| episodes                | 200          |\n",
            "| fps                     | 20           |\n",
            "| mean 100 episode reward | -26.9        |\n",
            "| n_updates               | 17818        |\n",
            "| policy_loss             | 2.1615093    |\n",
            "| qf1_loss                | 0.00514135   |\n",
            "| qf2_loss                | 0.0053834757 |\n",
            "| success rate            | 0.3          |\n",
            "| time_elapsed            | 891          |\n",
            "| total timesteps         | 17917        |\n",
            "| value_loss              | 0.005660517  |\n",
            "------------------------------------------\n",
            "------------------------------------------\n",
            "| current_lr              | 0.001        |\n",
            "| ent_coef                | 0.0034133394 |\n",
            "| ent_coef_loss           | -0.89226633  |\n",
            "| entropy                 | 1.2519128    |\n",
            "| episodes                | 300          |\n",
            "| fps                     | 20           |\n",
            "| mean 100 episode reward | -18.9        |\n",
            "| n_updates               | 25286        |\n",
            "| policy_loss             | 1.8296549    |\n",
            "| qf1_loss                | 0.0072760135 |\n",
            "| qf2_loss                | 0.008057986  |\n",
            "| success rate            | 0.39         |\n",
            "| time_elapsed            | 1267         |\n",
            "| total timesteps         | 25385        |\n",
            "| value_loss              | 0.0026914303 |\n",
            "------------------------------------------\n",
            "------------------------------------------\n",
            "| current_lr              | 0.001        |\n",
            "| ent_coef                | 0.0031635074 |\n",
            "| ent_coef_loss           | 0.083932936  |\n",
            "| entropy                 | 1.313168     |\n",
            "| episodes                | 400          |\n",
            "| fps                     | 20           |\n",
            "| mean 100 episode reward | -15.9        |\n",
            "| n_updates               | 31564        |\n",
            "| policy_loss             | 1.8566014    |\n",
            "| qf1_loss                | 0.010571877  |\n",
            "| qf2_loss                | 0.01157658   |\n",
            "| success rate            | 0.6          |\n",
            "| time_elapsed            | 1582         |\n",
            "| total timesteps         | 31663        |\n",
            "| value_loss              | 0.0050331834 |\n",
            "------------------------------------------\n"
          ],
          "name": "stdout"
        },
        {
          "output_type": "execute_result",
          "data": {
            "text/plain": [
              "<stable_baselines.sac.sac.SAC at 0x7f245a556f98>"
            ]
          },
          "metadata": {
            "tags": []
          },
          "execution_count": 5
        }
      ]
    },
    {
      "cell_type": "code",
      "metadata": {
        "id": "y-R1XRfXzUvK"
      },
      "source": [
        "# If you interested in saving the trained model.\n",
        "# Use 'save' function to save the model & 'load'\n",
        "# for loading model into memory.\n",
        "# model.save(\"./her_model_parking\")\n",
        "# We can also delete the existing model instance if we want to saved instance.\n",
        "# del model\n",
        "# model = HER.load('./her_model_parking', env=env)"
      ],
      "execution_count": null,
      "outputs": []
    },
    {
      "cell_type": "markdown",
      "metadata": {
        "id": "-YQONSypuBzo"
      },
      "source": [
        "### **Displaying output for the trained SAC agent**"
      ]
    },
    {
      "cell_type": "code",
      "metadata": {
        "id": "MUURKngd4d_D",
        "colab": {
          "base_uri": "https://localhost:8080/",
          "height": 66,
          "referenced_widgets": [
            "49e57814861f4eeca7c4907cc06c80da",
            "4e534d9ae9d649378dbd2554e78fc389",
            "1fa206e3b90d43f4a3d195d9cfa89163",
            "6353b3800bbc4cf1b30c30e50d4979ab",
            "803cca0dbe6a461694019bc9f014e84f",
            "14096f7b835948ef9f1767b872ad6df0",
            "12a47b61e0c14e589f2b22102c63901f",
            "2943917459d94a0faa233214878b6deb"
          ]
        },
        "outputId": "e3436b01-5d4d-4b10-fdbc-4a18f6ffa6db"
      },
      "source": [
        "env = wrap_env(gym.make(\"parking-v0\"))\n",
        "\n",
        "for episode in trange(5, desc=\"Output Episodes\"):\n",
        "    # capture_intermediate_frames is inside the loop\n",
        "    # With this we can capture multiple iterations of goal completion\n",
        "    # into our Monitor instance.\n",
        "    obs, done = env.reset(), False\n",
        "    capture_intermediate_frames\n",
        "\n",
        "    while not done:\n",
        "        action, _ = model.predict(obs)\n",
        "        obs, reward, done, info = env.step(action)\n",
        "\n",
        "env.close()\n"
      ],
      "execution_count": null,
      "outputs": [
        {
          "output_type": "display_data",
          "data": {
            "application/vnd.jupyter.widget-view+json": {
              "model_id": "49e57814861f4eeca7c4907cc06c80da",
              "version_minor": 0,
              "version_major": 2
            },
            "text/plain": [
              "HBox(children=(FloatProgress(value=0.0, description='Output Episodes', max=5.0, style=ProgressStyle(descriptio…"
            ]
          },
          "metadata": {
            "tags": []
          }
        },
        {
          "output_type": "stream",
          "text": [
            "\n"
          ],
          "name": "stdout"
        }
      ]
    },
    {
      "cell_type": "code",
      "metadata": {
        "id": "YUPPbInf4eCs",
        "colab": {
          "base_uri": "https://localhost:8080/",
          "height": 1000
        },
        "outputId": "1041ec83-0681-4eed-8c1b-3f2d39aefc56"
      },
      "source": [
        "# Outputting all the goal completion videos.\n",
        "show_video()"
      ],
      "execution_count": null,
      "outputs": [
        {
          "output_type": "display_data",
          "data": {
            "text/html": [
              "<video alt=\"video/openaigym.video.1.101.video000004.mp4\" autoplay\n",
              "                      loop controls style=\"height: 212px;\">\n",
              "                      <source src=\"data:video/mp4;base64,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\" type=\"video/mp4\" />\n",
              "                 </video><br><video alt=\"video/openaigym.video.1.101.video000002.mp4\" autoplay\n",
              "                      loop controls style=\"height: 212px;\">\n",
              "                      <source src=\"data:video/mp4;base64,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\" type=\"video/mp4\" />\n",
              "                 </video><br><video alt=\"video/openaigym.video.1.101.video000000.mp4\" autoplay\n",
              "                      loop controls style=\"height: 212px;\">\n",
              "                      <source src=\"data:video/mp4;base64,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\" type=\"video/mp4\" />\n",
              "                 </video><br><video alt=\"video/openaigym.video.1.101.video000001.mp4\" autoplay\n",
              "                      loop controls style=\"height: 212px;\">\n",
              "                      <source src=\"data:video/mp4;base64,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\" type=\"video/mp4\" />\n",
              "                 </video><br><video alt=\"video/openaigym.video.1.101.video000003.mp4\" autoplay\n",
              "                      loop controls style=\"height: 212px;\">\n",
              "                      <source src=\"data:video/mp4;base64,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\" type=\"video/mp4\" />\n",
              "                 </video>"
            ],
            "text/plain": [
              "<IPython.core.display.HTML object>"
            ]
          },
          "metadata": {
            "tags": []
          }
        }
      ]
    },
    {
      "cell_type": "markdown",
      "metadata": {
        "id": "poA8rW0vuKWk"
      },
      "source": [
        "### **Downloading the created agent videos**"
      ]
    },
    {
      "cell_type": "code",
      "metadata": {
        "id": "RzlyHGsBHWhq",
        "colab": {
          "base_uri": "https://localhost:8080/",
          "height": 243
        },
        "outputId": "e96a860f-2bcf-420c-9193-8cc7cda697d6"
      },
      "source": [
        "# zipping the video folder for the given SARSA agent.\n",
        "!zip -r /content/file.zip /content/video\n",
        "# downloading the file resource.\n",
        "from google.colab import files\n",
        "files.download(\"/content/file.zip\")"
      ],
      "execution_count": null,
      "outputs": [
        {
          "output_type": "stream",
          "text": [
            "  adding: content/video/ (stored 0%)\n",
            "  adding: content/video/openaigym.video.1.101.video000004.mp4 (deflated 13%)\n",
            "  adding: content/video/openaigym.video.1.101.video000002.meta.json (deflated 60%)\n",
            "  adding: content/video/openaigym.video.1.101.video000001.meta.json (deflated 60%)\n",
            "  adding: content/video/openaigym.episode_batch.1.101.stats.json (deflated 43%)\n",
            "  adding: content/video/openaigym.video.1.101.video000003.meta.json (deflated 60%)\n",
            "  adding: content/video/openaigym.video.1.101.video000002.mp4 (deflated 12%)\n",
            "  adding: content/video/openaigym.video.1.101.video000004.meta.json (deflated 60%)\n",
            "  adding: content/video/openaigym.video.1.101.video000000.mp4 (deflated 6%)\n",
            "  adding: content/video/openaigym.video.1.101.video000001.mp4 (deflated 7%)\n",
            "  adding: content/video/openaigym.video.1.101.video000003.mp4 (deflated 16%)\n",
            "  adding: content/video/openaigym.video.1.101.video000000.meta.json (deflated 60%)\n",
            "  adding: content/video/openaigym.manifest.1.101.manifest.json (deflated 72%)\n"
          ],
          "name": "stdout"
        },
        {
          "output_type": "display_data",
          "data": {
            "application/javascript": [
              "\n",
              "    async function download(id, filename, size) {\n",
              "      if (!google.colab.kernel.accessAllowed) {\n",
              "        return;\n",
              "      }\n",
              "      const div = document.createElement('div');\n",
              "      const label = document.createElement('label');\n",
              "      label.textContent = `Downloading \"${filename}\": `;\n",
              "      div.appendChild(label);\n",
              "      const progress = document.createElement('progress');\n",
              "      progress.max = size;\n",
              "      div.appendChild(progress);\n",
              "      document.body.appendChild(div);\n",
              "\n",
              "      const buffers = [];\n",
              "      let downloaded = 0;\n",
              "\n",
              "      const channel = await google.colab.kernel.comms.open(id);\n",
              "      // Send a message to notify the kernel that we're ready.\n",
              "      channel.send({})\n",
              "\n",
              "      for await (const message of channel.messages) {\n",
              "        // Send a message to notify the kernel that we're ready.\n",
              "        channel.send({})\n",
              "        if (message.buffers) {\n",
              "          for (const buffer of message.buffers) {\n",
              "            buffers.push(buffer);\n",
              "            downloaded += buffer.byteLength;\n",
              "            progress.value = downloaded;\n",
              "          }\n",
              "        }\n",
              "      }\n",
              "      const blob = new Blob(buffers, {type: 'application/binary'});\n",
              "      const a = document.createElement('a');\n",
              "      a.href = window.URL.createObjectURL(blob);\n",
              "      a.download = filename;\n",
              "      div.appendChild(a);\n",
              "      a.click();\n",
              "      div.remove();\n",
              "    }\n",
              "  "
            ],
            "text/plain": [
              "<IPython.core.display.Javascript object>"
            ]
          },
          "metadata": {
            "tags": []
          }
        },
        {
          "output_type": "display_data",
          "data": {
            "application/javascript": [
              "download(\"download_a1451a01-d49c-4b78-937c-99472abe10dd\", \"file.zip\", 69489)"
            ],
            "text/plain": [
              "<IPython.core.display.Javascript object>"
            ]
          },
          "metadata": {
            "tags": []
          }
        }
      ]
    }
  ]
}
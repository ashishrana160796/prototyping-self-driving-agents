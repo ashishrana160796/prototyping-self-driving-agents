{
  "nbformat": 4,
  "nbformat_minor": 0,
  "metadata": {
    "colab": {
      "name": "rendering-alternatives-for-highway-env.ipynb",
      "provenance": [],
      "collapsed_sections": []
    },
    "kernelspec": {
      "name": "python3",
      "display_name": "Python 3"
    }
  },
  "cells": [
    {
      "cell_type": "markdown",
      "metadata": {
        "id": "VqfmFFtd2GP8"
      },
      "source": [
        "### **Rendering component declaration for `highway-env`**\n",
        "\n",
        "__This section declares all the necessary import statements for rendering display on Google colab server and package installation commands for running highway-env.__\n",
        "\n",
        "__Note: These import statements are different from the ones used in default OpenAI environments. Also, we present method to use matplotlib as well as last resort option in case this rendering options stops working in future.__"
      ]
    },
    {
      "cell_type": "code",
      "metadata": {
        "id": "hmW-CMb5j-uR",
        "colab": {
          "base_uri": "https://localhost:8080/"
        },
        "outputId": "47f811be-aace-4947-fb1b-7da2bd956de2"
      },
      "source": [
        "# Package download statements.\n",
        "# Note 1: This time we also use ffmpeg package for handling video recording related tasks.\n",
        "# Note 2: The package versions are generic and doesn't require any specific package version downloads.\n",
        "!pip install git+https://github.com/eleurent/highway-env\n",
        "!apt-get update\n",
        "!pip install pyvirtualdisplay\n",
        "!apt-get install -y xvfb python-opengl ffmpeg\n",
        "# importing gym and highway_env for loading different environment scenarios.\n",
        "import gym\n",
        "import highway_env"
      ],
      "execution_count": 1,
      "outputs": [
        {
          "output_type": "stream",
          "text": [
            "Collecting git+https://github.com/eleurent/highway-env\n",
            "  Cloning https://github.com/eleurent/highway-env to /tmp/pip-req-build-q8tosftu\n",
            "  Running command git clone -q https://github.com/eleurent/highway-env /tmp/pip-req-build-q8tosftu\n",
            "  Installing build dependencies ... \u001b[?25l\u001b[?25hdone\n",
            "  Getting requirements to build wheel ... \u001b[?25l\u001b[?25hdone\n",
            "  Installing backend dependencies ... \u001b[?25l\u001b[?25hdone\n",
            "    Preparing wheel metadata ... \u001b[?25l\u001b[?25hdone\n",
            "Requirement already satisfied: pandas in /usr/local/lib/python3.7/dist-packages (from highway-env==1.2) (1.1.5)\n",
            "Requirement already satisfied: matplotlib in /usr/local/lib/python3.7/dist-packages (from highway-env==1.2) (3.2.2)\n",
            "Requirement already satisfied: gym in /usr/local/lib/python3.7/dist-packages (from highway-env==1.2) (0.17.3)\n",
            "Requirement already satisfied: numpy in /usr/local/lib/python3.7/dist-packages (from highway-env==1.2) (1.19.5)\n",
            "Collecting pygame\n",
            "\u001b[?25l  Downloading https://files.pythonhosted.org/packages/4b/9e/c400554dd1d0e562bd4379f35ad5023c68fc120003a58991405850f56f95/pygame-2.0.1-cp37-cp37m-manylinux1_x86_64.whl (11.8MB)\n",
            "\u001b[K     |████████████████████████████████| 11.8MB 6.8MB/s \n",
            "\u001b[?25hRequirement already satisfied: pytz>=2017.2 in /usr/local/lib/python3.7/dist-packages (from pandas->highway-env==1.2) (2018.9)\n",
            "Requirement already satisfied: python-dateutil>=2.7.3 in /usr/local/lib/python3.7/dist-packages (from pandas->highway-env==1.2) (2.8.1)\n",
            "Requirement already satisfied: pyparsing!=2.0.4,!=2.1.2,!=2.1.6,>=2.0.1 in /usr/local/lib/python3.7/dist-packages (from matplotlib->highway-env==1.2) (2.4.7)\n",
            "Requirement already satisfied: cycler>=0.10 in /usr/local/lib/python3.7/dist-packages (from matplotlib->highway-env==1.2) (0.10.0)\n",
            "Requirement already satisfied: kiwisolver>=1.0.1 in /usr/local/lib/python3.7/dist-packages (from matplotlib->highway-env==1.2) (1.3.1)\n",
            "Requirement already satisfied: cloudpickle<1.7.0,>=1.2.0 in /usr/local/lib/python3.7/dist-packages (from gym->highway-env==1.2) (1.3.0)\n",
            "Requirement already satisfied: scipy in /usr/local/lib/python3.7/dist-packages (from gym->highway-env==1.2) (1.4.1)\n",
            "Requirement already satisfied: pyglet<=1.5.0,>=1.4.0 in /usr/local/lib/python3.7/dist-packages (from gym->highway-env==1.2) (1.5.0)\n",
            "Requirement already satisfied: six>=1.5 in /usr/local/lib/python3.7/dist-packages (from python-dateutil>=2.7.3->pandas->highway-env==1.2) (1.15.0)\n",
            "Requirement already satisfied: future in /usr/local/lib/python3.7/dist-packages (from pyglet<=1.5.0,>=1.4.0->gym->highway-env==1.2) (0.16.0)\n",
            "Building wheels for collected packages: highway-env\n",
            "  Building wheel for highway-env (PEP 517) ... \u001b[?25l\u001b[?25hdone\n",
            "  Created wheel for highway-env: filename=highway_env-1.2-cp37-none-any.whl size=92195 sha256=7c061e5858bdfa269b3d2637f722295fd18df080d9b5ad1a54746fa1b595fd1e\n",
            "  Stored in directory: /tmp/pip-ephem-wheel-cache-2oejety2/wheels/e6/10/d8/02a077ca221bbac1c6fc12c1370c2f773a8cd602d4be3df0cc\n",
            "Successfully built highway-env\n",
            "Installing collected packages: pygame, highway-env\n",
            "Successfully installed highway-env-1.2 pygame-2.0.1\n",
            "Get:1 http://security.ubuntu.com/ubuntu bionic-security InRelease [88.7 kB]\n",
            "Ign:2 https://developer.download.nvidia.com/compute/cuda/repos/ubuntu1804/x86_64  InRelease\n",
            "Get:3 https://cloud.r-project.org/bin/linux/ubuntu bionic-cran40/ InRelease [3,626 B]\n",
            "Ign:4 https://developer.download.nvidia.com/compute/machine-learning/repos/ubuntu1804/x86_64  InRelease\n",
            "Get:5 https://developer.download.nvidia.com/compute/cuda/repos/ubuntu1804/x86_64  Release [697 B]\n",
            "Hit:6 https://developer.download.nvidia.com/compute/machine-learning/repos/ubuntu1804/x86_64  Release\n",
            "Hit:7 http://archive.ubuntu.com/ubuntu bionic InRelease\n",
            "Get:8 https://developer.download.nvidia.com/compute/cuda/repos/ubuntu1804/x86_64  Release.gpg [836 B]\n",
            "Get:9 http://ppa.launchpad.net/c2d4u.team/c2d4u4.0+/ubuntu bionic InRelease [15.9 kB]\n",
            "Get:10 http://archive.ubuntu.com/ubuntu bionic-updates InRelease [88.7 kB]\n",
            "Get:11 http://security.ubuntu.com/ubuntu bionic-security/main amd64 Packages [2,148 kB]\n",
            "Hit:12 http://ppa.launchpad.net/cran/libgit2/ubuntu bionic InRelease\n",
            "Get:13 http://archive.ubuntu.com/ubuntu bionic-backports InRelease [74.6 kB]\n",
            "Get:14 http://security.ubuntu.com/ubuntu bionic-security/restricted amd64 Packages [422 kB]\n",
            "Get:15 http://security.ubuntu.com/ubuntu bionic-security/universe amd64 Packages [1,411 kB]\n",
            "Hit:16 http://ppa.launchpad.net/deadsnakes/ppa/ubuntu bionic InRelease\n",
            "Get:17 https://cloud.r-project.org/bin/linux/ubuntu bionic-cran40/ Packages [56.8 kB]\n",
            "Get:18 http://ppa.launchpad.net/graphics-drivers/ppa/ubuntu bionic InRelease [21.3 kB]\n",
            "Ign:20 https://developer.download.nvidia.com/compute/cuda/repos/ubuntu1804/x86_64  Packages\n",
            "Get:20 https://developer.download.nvidia.com/compute/cuda/repos/ubuntu1804/x86_64  Packages [770 kB]\n",
            "Get:21 http://ppa.launchpad.net/c2d4u.team/c2d4u4.0+/ubuntu bionic/main Sources [1,760 kB]\n",
            "Get:22 http://archive.ubuntu.com/ubuntu bionic-updates/main amd64 Packages [2,581 kB]\n",
            "Get:23 http://archive.ubuntu.com/ubuntu bionic-updates/restricted amd64 Packages [452 kB]\n",
            "Get:24 http://archive.ubuntu.com/ubuntu bionic-updates/universe amd64 Packages [2,183 kB]\n",
            "Get:25 http://ppa.launchpad.net/c2d4u.team/c2d4u4.0+/ubuntu bionic/main amd64 Packages [900 kB]\n",
            "Get:26 http://ppa.launchpad.net/graphics-drivers/ppa/ubuntu bionic/main amd64 Packages [41.5 kB]\n",
            "Fetched 13.0 MB in 4s (3,538 kB/s)\n",
            "Reading package lists... Done\n",
            "Collecting pyvirtualdisplay\n",
            "  Downloading https://files.pythonhosted.org/packages/19/88/7a198a5ee3baa3d547f5a49574cd8c3913b216f5276b690b028f89ffb325/PyVirtualDisplay-2.1-py3-none-any.whl\n",
            "Collecting EasyProcess\n",
            "  Downloading https://files.pythonhosted.org/packages/48/3c/75573613641c90c6d094059ac28adb748560d99bd27ee6f80cce398f404e/EasyProcess-0.3-py2.py3-none-any.whl\n",
            "Installing collected packages: EasyProcess, pyvirtualdisplay\n",
            "Successfully installed EasyProcess-0.3 pyvirtualdisplay-2.1\n",
            "Reading package lists... Done\n",
            "Building dependency tree       \n",
            "Reading state information... Done\n",
            "ffmpeg is already the newest version (7:3.4.8-0ubuntu0.2).\n",
            "The following package was automatically installed and is no longer required:\n",
            "  libnvidia-common-460\n",
            "Use 'apt autoremove' to remove it.\n",
            "Suggested packages:\n",
            "  libgle3\n",
            "The following NEW packages will be installed:\n",
            "  python-opengl xvfb\n",
            "0 upgraded, 2 newly installed, 0 to remove and 60 not upgraded.\n",
            "Need to get 1,281 kB of archives.\n",
            "After this operation, 7,686 kB of additional disk space will be used.\n",
            "Get:1 http://archive.ubuntu.com/ubuntu bionic/universe amd64 python-opengl all 3.1.0+dfsg-1 [496 kB]\n",
            "Get:2 http://archive.ubuntu.com/ubuntu bionic-updates/universe amd64 xvfb amd64 2:1.19.6-1ubuntu4.9 [784 kB]\n",
            "Fetched 1,281 kB in 1s (1,429 kB/s)\n",
            "Selecting previously unselected package python-opengl.\n",
            "(Reading database ... 160706 files and directories currently installed.)\n",
            "Preparing to unpack .../python-opengl_3.1.0+dfsg-1_all.deb ...\n",
            "Unpacking python-opengl (3.1.0+dfsg-1) ...\n",
            "Selecting previously unselected package xvfb.\n",
            "Preparing to unpack .../xvfb_2%3a1.19.6-1ubuntu4.9_amd64.deb ...\n",
            "Unpacking xvfb (2:1.19.6-1ubuntu4.9) ...\n",
            "Setting up python-opengl (3.1.0+dfsg-1) ...\n",
            "Setting up xvfb (2:1.19.6-1ubuntu4.9) ...\n",
            "Processing triggers for man-db (2.8.3-2ubuntu0.1) ...\n"
          ],
          "name": "stdout"
        }
      ]
    },
    {
      "cell_type": "code",
      "metadata": {
        "id": "XwgM6TJdpOgf"
      },
      "source": [
        "# Similar to earlier rendering procedures for creating virtual display.\n",
        "from IPython import display as ipythondisplay\n",
        "from pyvirtualdisplay import Display\n",
        "from gym.wrappers import Monitor\n",
        "from pathlib import Path\n",
        "import base64\n",
        "\n",
        "# Declaring display screen size for rendering highway-env environment.\n",
        "display = Display(visible=0, size=(1366, 768))\n",
        "display.start()\n",
        "\n",
        "# These functions are also available in '/highway-env/scripts/' directory in utils.py\n",
        "# file of highway-env github repository. These can be directly accessed with below\n",
        "# commands but we are using the below stated functions here.\n",
        "# Note: commands are stated below for directly using these functions.\n",
        "# Also, we have changed these functions slightly. Therefore, refer the documentation for more details.\n",
        "\n",
        "# !git clone https://github.com/eleurent/highway-env.git\n",
        "# import sys\n",
        "# sys.path.insert(0, './highway-env/scripts/')\n",
        "# from utils import record_videos, show_videos, capture_intermediate_frames\n",
        "\n",
        "def wrap_env(env):\n",
        "    return Monitor(env, './video', force=True, video_callable=lambda episode: True)\n",
        "\n",
        "\n",
        "def show_video():\n",
        "    html = []\n",
        "    for mp4 in Path('./video').glob(\"*.mp4\"):\n",
        "        video_b64 = base64.b64encode(mp4.read_bytes())\n",
        "        html.append('''<video alt=\"{}\" autoplay\n",
        "                      loop controls style=\"height: 150px;\">\n",
        "                      <source src=\"data:video/mp4;base64,{}\" type=\"video/mp4\" />\n",
        "                 </video>'''.format(mp4, video_b64.decode('ascii')))\n",
        "    ipythondisplay.display(ipythondisplay.HTML(data=\"<br>\".join(html)))\n",
        "\n",
        "\n",
        "def capture_intermediate_frames(env):\n",
        "    env.unwrapped.automatic_rendering_callback = env.video_recorder.capture_frame"
      ],
      "execution_count": 2,
      "outputs": []
    },
    {
      "cell_type": "code",
      "metadata": {
        "id": "QG9aacB8kaOk",
        "colab": {
          "base_uri": "https://localhost:8080/",
          "height": 171
        },
        "outputId": "f1ef5d56-d620-4d18-99f8-f7ab446f1e62"
      },
      "source": [
        "env = gym.make(\"merge-v0\")\n",
        "env = wrap_env(env)\n",
        "obs, done = env.reset(), False\n",
        "capture_intermediate_frames(env)\n",
        "for _ in range(10):\n",
        "    action = env.action_space.sample()\n",
        "    obs, reward, done, info = env.step(action)\n",
        "    # env.render(), using render() function here will produce error.\n",
        "    # As we are already making a 'automatic_rendering_callback' to capture intermediate frames.\n",
        "env.close()\n",
        "show_video()"
      ],
      "execution_count": 3,
      "outputs": [
        {
          "output_type": "display_data",
          "data": {
            "text/html": [
              "<video alt=\"video/openaigym.video.0.64.video000000.mp4\" autoplay\n",
              "                      loop controls style=\"height: 150px;\">\n",
              "                      <source src=\"data:video/mp4;base64,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\" type=\"video/mp4\" />\n",
              "                 </video>"
            ],
            "text/plain": [
              "<IPython.core.display.HTML object>"
            ]
          },
          "metadata": {
            "tags": []
          }
        }
      ]
    },
    {
      "cell_type": "code",
      "metadata": {
        "id": "luR4LZYQx3mA",
        "colab": {
          "base_uri": "https://localhost:8080/",
          "height": 121
        },
        "outputId": "e02a3ca0-4c64-47a2-fa4f-c1d222fb7dfd"
      },
      "source": [
        "!zip -r /content/file.zip /content/video\n",
        "from google.colab import files\n",
        "files.download(\"/content/file.zip\")"
      ],
      "execution_count": 4,
      "outputs": [
        {
          "output_type": "stream",
          "text": [
            "  adding: content/video/ (stored 0%)\n",
            "  adding: content/video/openaigym.video.0.64.video000000.mp4 (deflated 5%)\n",
            "  adding: content/video/openaigym.manifest.0.64.manifest.json (deflated 39%)\n",
            "  adding: content/video/openaigym.episode_batch.0.64.stats.json (deflated 31%)\n",
            "  adding: content/video/openaigym.video.0.64.video000000.meta.json (deflated 60%)\n"
          ],
          "name": "stdout"
        },
        {
          "output_type": "display_data",
          "data": {
            "application/javascript": [
              "\n",
              "    async function download(id, filename, size) {\n",
              "      if (!google.colab.kernel.accessAllowed) {\n",
              "        return;\n",
              "      }\n",
              "      const div = document.createElement('div');\n",
              "      const label = document.createElement('label');\n",
              "      label.textContent = `Downloading \"${filename}\": `;\n",
              "      div.appendChild(label);\n",
              "      const progress = document.createElement('progress');\n",
              "      progress.max = size;\n",
              "      div.appendChild(progress);\n",
              "      document.body.appendChild(div);\n",
              "\n",
              "      const buffers = [];\n",
              "      let downloaded = 0;\n",
              "\n",
              "      const channel = await google.colab.kernel.comms.open(id);\n",
              "      // Send a message to notify the kernel that we're ready.\n",
              "      channel.send({})\n",
              "\n",
              "      for await (const message of channel.messages) {\n",
              "        // Send a message to notify the kernel that we're ready.\n",
              "        channel.send({})\n",
              "        if (message.buffers) {\n",
              "          for (const buffer of message.buffers) {\n",
              "            buffers.push(buffer);\n",
              "            downloaded += buffer.byteLength;\n",
              "            progress.value = downloaded;\n",
              "          }\n",
              "        }\n",
              "      }\n",
              "      const blob = new Blob(buffers, {type: 'application/binary'});\n",
              "      const a = document.createElement('a');\n",
              "      a.href = window.URL.createObjectURL(blob);\n",
              "      a.download = filename;\n",
              "      div.appendChild(a);\n",
              "      a.click();\n",
              "      div.remove();\n",
              "    }\n",
              "  "
            ],
            "text/plain": [
              "<IPython.core.display.Javascript object>"
            ]
          },
          "metadata": {
            "tags": []
          }
        },
        {
          "output_type": "display_data",
          "data": {
            "application/javascript": [
              "download(\"download_36866a1a-9804-4d54-aeb4-0d7a81a650c4\", \"file.zip\", 13082)"
            ],
            "text/plain": [
              "<IPython.core.display.Javascript object>"
            ]
          },
          "metadata": {
            "tags": []
          }
        }
      ]
    },
    {
      "cell_type": "markdown",
      "metadata": {
        "id": "p1KHtEi7wGLI"
      },
      "source": [
        "### **Rendering `highway-env` with matplotlib package**\n",
        "\n",
        "__In this method renders graphics from gym environment into matplotlib graph figures that are static in nature. We loop over these figures to create video like effect.__\n",
        "\n",
        "__Note: The package download process is same as above stated method. But, here we need to render the environment as we are not making automatic rendering calls.__"
      ]
    },
    {
      "cell_type": "code",
      "metadata": {
        "id": "4jMqgA0SkF05"
      },
      "source": [
        "import gym\n",
        "import highway_env\n",
        "from matplotlib import pyplot as plt\n",
        "%matplotlib inline"
      ],
      "execution_count": 5,
      "outputs": []
    },
    {
      "cell_type": "code",
      "metadata": {
        "id": "7unjyzk0kF6g",
        "colab": {
          "base_uri": "https://localhost:8080/",
          "height": 135
        },
        "outputId": "192b2ca5-2374-466d-e9a4-5eeae807406f"
      },
      "source": [
        "env = wrap_env(gym.make('highway-v0'))\n",
        "env.reset()\n",
        "prev_screen = env.render(mode='rgb_array')\n",
        "plt.imshow(prev_screen)\n",
        "\n",
        "for _ in range(4):\n",
        "    action = env.action_space.sample()\n",
        "    obs, reward, done, info = env.step(action)\n",
        "    screen = env.render(mode='rgb_array')\n",
        "    plt.imshow(screen)\n",
        "    ipythondisplay.clear_output(wait=True)\n",
        "    ipythondisplay.display(plt.gcf())\n",
        "ipythondisplay.clear_output(wait=True)\n",
        "env.close()"
      ],
      "execution_count": 8,
      "outputs": [
        {
          "output_type": "display_data",
          "data": {
            "image/png": "[encoded data removed]",
            "text/plain": [
              "<Figure size 432x288 with 1 Axes>"
            ]
          },
          "metadata": {
            "tags": [],
            "needs_background": "light"
          }
        }
      ]
    },
    {
      "cell_type": "code",
      "metadata": {
        "id": "oj5v5ffjx_Zd"
      },
      "source": [
        ""
      ],
      "execution_count": null,
      "outputs": []
    }
  ]
}
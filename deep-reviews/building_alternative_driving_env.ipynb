{
  "nbformat": 4,
  "nbformat_minor": 0,
  "metadata": {
    "colab": {
      "name": "building-alternative-driving-env.ipynb",
      "provenance": [],
      "collapsed_sections": []
    },
    "kernelspec": {
      "name": "python3",
      "display_name": "Python 3"
    }
  },
  "cells": [
    {
      "cell_type": "markdown",
      "metadata": {
        "id": "_yyhSorpEK0J"
      },
      "source": [
        "## **Creating Your Custom Environment for `highway-env` package**"
      ]
    },
    {
      "cell_type": "markdown",
      "metadata": {
        "id": "VqfmFFtd2GP8"
      },
      "source": [
        "### **Rendering component declaration for `highway-env` outputs**\n",
        "\n",
        "__This section declares all the necessary import statements for rendering display on Google colab server and package installation commands for running highway-env.__\n",
        "\n",
        "__Note: These import statements are different from the ones used in default OpenAI environments.__"
      ]
    },
    {
      "cell_type": "code",
      "metadata": {
        "id": "hmW-CMb5j-uR",
        "colab": {
          "base_uri": "https://localhost:8080/"
        },
        "outputId": "9cc29b70-4059-4bcb-e746-bfa4332ca8e7"
      },
      "source": [
        "# Package download statements.\n",
        "# Note 1: This time we also use ffmpeg package for handling video recording related tasks.\n",
        "# Note 2: The package version are generic and doesn't require any specific package version downloads.\n",
        "\n",
        "# We are building our own version of highway-env having new driving scenarios.\n",
        "# !pip install git+https://github.com/eleurent/highway-env\n",
        "\n",
        "!apt-get update\n",
        "!pip install pyvirtualdisplay\n",
        "!apt-get install -y xvfb python-opengl ffmpeg\n",
        "# importing gym and high_env for loading different environment scenarios.\n",
        "# import gym\n",
        "# import highway_env"
      ],
      "execution_count": 2,
      "outputs": [
        {
          "output_type": "stream",
          "text": [
            "Get:1 https://cloud.r-project.org/bin/linux/ubuntu bionic-cran40/ InRelease [3,626 B]\n",
            "Ign:2 https://developer.download.nvidia.com/compute/cuda/repos/ubuntu1804/x86_64  InRelease\n",
            "Get:3 http://security.ubuntu.com/ubuntu bionic-security InRelease [88.7 kB]\n",
            "Ign:4 https://developer.download.nvidia.com/compute/machine-learning/repos/ubuntu1804/x86_64  InRelease\n",
            "Hit:5 https://developer.download.nvidia.com/compute/cuda/repos/ubuntu1804/x86_64  Release\n",
            "Hit:6 https://developer.download.nvidia.com/compute/machine-learning/repos/ubuntu1804/x86_64  Release\n",
            "Hit:7 http://archive.ubuntu.com/ubuntu bionic InRelease\n",
            "Get:8 http://ppa.launchpad.net/c2d4u.team/c2d4u4.0+/ubuntu bionic InRelease [15.9 kB]\n",
            "Get:10 http://archive.ubuntu.com/ubuntu bionic-updates InRelease [88.7 kB]\n",
            "Hit:12 http://ppa.launchpad.net/cran/libgit2/ubuntu bionic InRelease\n",
            "Get:13 http://security.ubuntu.com/ubuntu bionic-security/main amd64 Packages [1,929 kB]\n",
            "Get:14 http://archive.ubuntu.com/ubuntu bionic-backports InRelease [74.6 kB]\n",
            "Hit:15 http://ppa.launchpad.net/graphics-drivers/ppa/ubuntu bionic InRelease\n",
            "Get:16 http://archive.ubuntu.com/ubuntu bionic-updates/universe amd64 Packages [2,162 kB]\n",
            "Get:17 http://ppa.launchpad.net/c2d4u.team/c2d4u4.0+/ubuntu bionic/main Sources [1,732 kB]\n",
            "Get:18 http://security.ubuntu.com/ubuntu bionic-security/universe amd64 Packages [1,391 kB]\n",
            "Get:19 http://archive.ubuntu.com/ubuntu bionic-updates/main amd64 Packages [2,360 kB]\n",
            "Get:20 http://ppa.launchpad.net/c2d4u.team/c2d4u4.0+/ubuntu bionic/main amd64 Packages [887 kB]\n",
            "Fetched 10.7 MB in 6s (1,896 kB/s)\n",
            "Reading package lists... Done\n",
            "Collecting pyvirtualdisplay\n",
            "  Downloading https://files.pythonhosted.org/packages/ad/05/6568620fed440941b704664b9cfe5f836ad699ac7694745e7787fbdc8063/PyVirtualDisplay-2.0-py2.py3-none-any.whl\n",
            "Collecting EasyProcess\n",
            "  Downloading https://files.pythonhosted.org/packages/48/3c/75573613641c90c6d094059ac28adb748560d99bd27ee6f80cce398f404e/EasyProcess-0.3-py2.py3-none-any.whl\n",
            "Installing collected packages: EasyProcess, pyvirtualdisplay\n",
            "Successfully installed EasyProcess-0.3 pyvirtualdisplay-2.0\n",
            "Reading package lists... Done\n",
            "Building dependency tree       \n",
            "Reading state information... Done\n",
            "ffmpeg is already the newest version (7:3.4.8-0ubuntu0.2).\n",
            "Suggested packages:\n",
            "  libgle3\n",
            "The following NEW packages will be installed:\n",
            "  python-opengl xvfb\n",
            "0 upgraded, 2 newly installed, 0 to remove and 18 not upgraded.\n",
            "Need to get 1,280 kB of archives.\n",
            "After this operation, 7,686 kB of additional disk space will be used.\n",
            "Get:1 http://archive.ubuntu.com/ubuntu bionic/universe amd64 python-opengl all 3.1.0+dfsg-1 [496 kB]\n",
            "Get:2 http://archive.ubuntu.com/ubuntu bionic-updates/universe amd64 xvfb amd64 2:1.19.6-1ubuntu4.8 [784 kB]\n",
            "Fetched 1,280 kB in 3s (483 kB/s)\n",
            "Selecting previously unselected package python-opengl.\n",
            "(Reading database ... 146442 files and directories currently installed.)\n",
            "Preparing to unpack .../python-opengl_3.1.0+dfsg-1_all.deb ...\n",
            "Unpacking python-opengl (3.1.0+dfsg-1) ...\n",
            "Selecting previously unselected package xvfb.\n",
            "Preparing to unpack .../xvfb_2%3a1.19.6-1ubuntu4.8_amd64.deb ...\n",
            "Unpacking xvfb (2:1.19.6-1ubuntu4.8) ...\n",
            "Setting up python-opengl (3.1.0+dfsg-1) ...\n",
            "Setting up xvfb (2:1.19.6-1ubuntu4.8) ...\n",
            "Processing triggers for man-db (2.8.3-2ubuntu0.1) ...\n"
          ],
          "name": "stdout"
        }
      ]
    },
    {
      "cell_type": "code",
      "metadata": {
        "id": "XwgM6TJdpOgf"
      },
      "source": [
        "# Similar, to earlier rendering procedures for creating virtual display.\n",
        "from IPython import display as ipythondisplay\n",
        "from pyvirtualdisplay import Display\n",
        "from gym.wrappers import Monitor\n",
        "from pathlib import Path\n",
        "import base64\n",
        "\n",
        "# Declaring display screen size for rendering highway-env environment.\n",
        "display = Display(visible=0, size=(1366, 768))\n",
        "display.start()\n",
        "\n",
        "# These functions are also available in '/highway-env/scripts/' directory in utils.py\n",
        "# file of highway-env github repository. These, can be directly accessed with below\n",
        "# commands but we are using these functions here to fix a specific size of recorded videos.\n",
        "# Note: commands are stated below for directly using these functions.\n",
        "# Also, we have changed these functions slightly. Therefore, refer documentation.\n",
        "\n",
        "# !git clone https://github.com/eleurent/highway-env.git\n",
        "# import sys\n",
        "# sys.path.insert(0, './highway-env/scripts/')\n",
        "# from utils import record_videos, show_videos, capture_intermediate_frames\n",
        "\n",
        "def wrap_env(env):\n",
        "    return Monitor(env, './video', force=True, video_callable=lambda episode: True)\n",
        "\n",
        "\n",
        "def show_video():\n",
        "    html = []\n",
        "    for mp4 in Path('./video').glob(\"*.mp4\"):\n",
        "        video_b64 = base64.b64encode(mp4.read_bytes())\n",
        "        html.append('''<video alt=\"{}\" autoplay\n",
        "                      loop controls style=\"height: 252px;\">\n",
        "                      <source src=\"data:video/mp4;base64,{}\" type=\"video/mp4\" />\n",
        "                 </video>'''.format(mp4, video_b64.decode('ascii')))\n",
        "    ipythondisplay.display(ipythondisplay.HTML(data=\"<br>\".join(html)))\n",
        "\n",
        "\n",
        "def capture_intermediate_frames(env):\n",
        "    env.unwrapped.automatic_rendering_callback = env.video_recorder.capture_frame"
      ],
      "execution_count": 7,
      "outputs": []
    },
    {
      "cell_type": "markdown",
      "metadata": {
        "id": "pw6ve3P3YmhS"
      },
      "source": [
        "### **Creating new environments in highway-env package**\n",
        "\n",
        "__Below we are creating U-Turn environment for simulating the collision avoidance scenarios at high speed. We'll create the environment with the provided documentation's help and pip install the `highway-env` after that.__\n",
        "\n",
        "__Note: When reinstalling the package after executing the `pip uninstall` command restart the runtime environment for using the updated `highway-env` package. And define the rendering alternative functions as well again in the new runtime.__"
      ]
    },
    {
      "cell_type": "code",
      "metadata": {
        "id": "oj5v5ffjx_Zd",
        "colab": {
          "base_uri": "https://localhost:8080/"
        },
        "outputId": "4dc0978d-7554-4278-b180-f427da749a13"
      },
      "source": [
        "# Cloning the gitub branch in the '/content/' directory.\n",
        "!git clone https://github.com/eleurent/highway-env.git"
      ],
      "execution_count": 3,
      "outputs": [
        {
          "output_type": "stream",
          "text": [
            "Cloning into 'highway-env'...\n",
            "remote: Enumerating objects: 112, done.\u001b[K\n",
            "remote: Counting objects: 100% (112/112), done.\u001b[K\n",
            "remote: Compressing objects: 100% (77/77), done.\u001b[K\n",
            "remote: Total 7190 (delta 59), reused 67 (delta 35), pack-reused 7078\u001b[K\n",
            "Receiving objects: 100% (7190/7190), 22.06 MiB | 10.74 MiB/s, done.\n",
            "Resolving deltas: 100% (4926/4926), done.\n"
          ],
          "name": "stdout"
        }
      ]
    },
    {
      "cell_type": "code",
      "metadata": {
        "colab": {
          "base_uri": "https://localhost:8080/"
        },
        "id": "G7W4915nkl0k",
        "outputId": "1cc76249-9806-4bd4-8c65-1b4c3ac1cb5e"
      },
      "source": [
        "# Checking the already existing environments.\n",
        "# Note: Since, 'u_turn_env.py' is already commited into highway-env\n",
        "# package it's listed below.\n",
        "!ls /content/highway-env/highway_env/envs/"
      ],
      "execution_count": 6,
      "outputs": [
        {
          "output_type": "stream",
          "text": [
            "common\t\tintersection_env.py  parking_env.py\ttwo_way_env.py\n",
            "highway_env.py\tlane_keeping_env.py  roundabout_env.py\tu_turn_env.py\n",
            "__init__.py\tmerge_env.py\t     summon_env.py\n"
          ],
          "name": "stdout"
        }
      ]
    },
    {
      "cell_type": "code",
      "metadata": {
        "colab": {
          "base_uri": "https://localhost:8080/"
        },
        "id": "o9QqJiQ-llwE",
        "outputId": "90d97a61-9d28-4de1-f813-599bbc3ecd05"
      },
      "source": [
        "# exploring the __init__.py file\n",
        "# We have to register our environment in the __init__.py file.\n",
        "!cat /content/highway-env/highway_env/envs/__init__.py\n",
        "# We write the last statement\n",
        "# Note: Since, 'u_turn_env.py' is already commited into highway-env\n",
        "# package it's listed below. Otherwise, we have to add modules from\n",
        "# newly added environment coded in xx-env.py file."
      ],
      "execution_count": 7,
      "outputs": [
        {
          "output_type": "stream",
          "text": [
            "from highway_env.envs.highway_env import *\n",
            "from highway_env.envs.merge_env import *\n",
            "from highway_env.envs.parking_env import *\n",
            "from highway_env.envs.summon_env import *\n",
            "from highway_env.envs.roundabout_env import *\n",
            "from highway_env.envs.two_way_env import *\n",
            "from highway_env.envs.intersection_env import *\n",
            "from highway_env.envs.lane_keeping_env import *\n",
            "from highway_env.envs.u_turn_env import *\n"
          ],
          "name": "stdout"
        }
      ]
    },
    {
      "cell_type": "code",
      "metadata": {
        "colab": {
          "base_uri": "https://localhost:8080/"
        },
        "id": "lCLc3cjrlqIh",
        "outputId": "8e0efccf-5211-457f-ec88-36cb3a066eaa"
      },
      "source": [
        "%%writefile /content/highway-env/highway_env/envs/__init__.py\n",
        "\n",
        "from highway_env.envs.highway_env import *\n",
        "from highway_env.envs.merge_env import *\n",
        "from highway_env.envs.parking_env import *\n",
        "from highway_env.envs.summon_env import *\n",
        "from highway_env.envs.roundabout_env import *\n",
        "from highway_env.envs.two_way_env import *\n",
        "from highway_env.envs.intersection_env import *\n",
        "from highway_env.envs.lane_keeping_env import *\n",
        "from highway_env.envs.u_turn_env import *"
      ],
      "execution_count": 5,
      "outputs": [
        {
          "output_type": "stream",
          "text": [
            "Overwriting /content/highway-env/highway_env/envs/__init__.py\n"
          ],
          "name": "stdout"
        }
      ]
    },
    {
      "cell_type": "code",
      "metadata": {
        "colab": {
          "base_uri": "https://localhost:8080/"
        },
        "id": "fA-gOWGmoscT",
        "outputId": "000cf50c-5486-4f26-a568-3edeecb26182"
      },
      "source": [
        "# Checking the __init__.py file after making our changes.\n",
        "!cat /content/highway-env/highway_env/envs/__init__.py"
      ],
      "execution_count": 9,
      "outputs": [
        {
          "output_type": "stream",
          "text": [
            "\n",
            "from highway_env.envs.highway_env import *\n",
            "from highway_env.envs.merge_env import *\n",
            "from highway_env.envs.parking_env import *\n",
            "from highway_env.envs.summon_env import *\n",
            "from highway_env.envs.roundabout_env import *\n",
            "from highway_env.envs.two_way_env import *\n",
            "from highway_env.envs.intersection_env import *\n",
            "from highway_env.envs.lane_keeping_env import *\n",
            "from highway_env.envs.u_turn_env import *"
          ],
          "name": "stdout"
        }
      ]
    },
    {
      "cell_type": "code",
      "metadata": {
        "colab": {
          "base_uri": "https://localhost:8080/"
        },
        "id": "MLuZjUY959Ip",
        "outputId": "178f4f83-bcf6-4315-96a4-d04a8cee23d2"
      },
      "source": [
        "%%writefile /content/highway-env/highway_env/envs/u_turn_env.py\n",
        "\n",
        "import numpy as np\n",
        "from gym.envs.registration import register\n",
        "\n",
        "\n",
        "from highway_env import utils\n",
        "from highway_env.envs.common.abstract import AbstractEnv\n",
        "from highway_env.road.lane import LineType, StraightLane, CircularLane\n",
        "from highway_env.road.road import Road, RoadNetwork\n",
        "from highway_env.vehicle.controller import MDPVehicle\n",
        "\n",
        "\n",
        "class UTurnEnv(AbstractEnv):\n",
        "\n",
        "    \"\"\"\n",
        "    U-Turn risk analysis task: the agent overtakes vehicles that are blocking the\n",
        "    traffic. High speed overtaking must be balanced with ensuring safety.\n",
        "    \"\"\"\n",
        "\n",
        "    \"\"\"Penalization received for vehicle collision.\"\"\"\n",
        "    COLLISION_REWARD: float = -1.0\n",
        "    \"\"\"Reward received for maintaining left most lane.\"\"\"\n",
        "    LEFT_LANE_REWARD: float = 0.1\n",
        "    \"\"\"Reward received for maintaining cruising speed.\"\"\"\n",
        "    HIGH_SPEED_REWARD: float = 0.4\n",
        "\n",
        "    @classmethod\n",
        "    def default_config(cls) -> dict:\n",
        "        config = super().default_config()\n",
        "        config.update({\n",
        "            \"observation\": {\n",
        "                \"type\": \"TimeToCollision\",\n",
        "                \"horizon\": 16\n",
        "            },\n",
        "            \"action\": {\n",
        "                \"type\": \"DiscreteMetaAction\",\n",
        "            },\n",
        "            \"screen_width\": 789,\n",
        "            \"screen_height\": 289,\n",
        "            \"duration\": 10,\n",
        "            \"reward_speed_range\": [8, 24],\n",
        "            \"offroad_terminal\": False\n",
        "        })\n",
        "        return config\n",
        "\n",
        "    def _reward(self, action: int) -> float:\n",
        "        \"\"\"\n",
        "        The vehicle is rewarded for driving with high speed and collision avoidance.\n",
        "        :param action: the action performed\n",
        "        :return: the reward of the state-action transition\n",
        "        \"\"\"\n",
        "        neighbours = self.road.network.all_side_lanes(self.vehicle.lane_index)\n",
        "        lane = self.vehicle.lane_index[2]\n",
        "        scaled_speed = utils.lmap(self.vehicle.speed, self.config[\"reward_speed_range\"], [0, 1])\n",
        "        reward = \\\n",
        "            + self.COLLISION_REWARD * self.vehicle.crashed \\\n",
        "            + self.LEFT_LANE_REWARD * lane / max(len(neighbours) - 1, 1) \\\n",
        "            + self.HIGH_SPEED_REWARD * np.clip(scaled_speed, 0, 1)\n",
        "        reward = utils.lmap(reward, [self.COLLISION_REWARD, self.HIGH_SPEED_REWARD + self.LEFT_LANE_REWARD], [0, 1])\n",
        "        reward = 0 if not self.vehicle.on_road else reward\n",
        "        return reward\n",
        "\n",
        "    def _is_terminal(self) -> bool:\n",
        "        \"\"\"\n",
        "        The episode is over if the ego vehicle crashed or the time is out.\n",
        "        \"\"\"\n",
        "        return self.vehicle.crashed or \\\n",
        "            self.steps >= self.config[\"duration\"]\n",
        "\n",
        "    def _cost(self, action: int) -> float:\n",
        "        \"\"\"\n",
        "        The constraint signal is the time spent driving on the opposite lane\n",
        "        and occurrence of collisions.\n",
        "        \"\"\"\n",
        "        return float(self.vehicle.crashed)\n",
        "\n",
        "    def _reset(self) -> np.ndarray:\n",
        "        self._make_road()\n",
        "        self._make_vehicles()\n",
        "\n",
        "    def _make_road(self, length=128):\n",
        "        \"\"\"\n",
        "        Making double lane road with counter-clockwise U-Turn.\n",
        "        :return: the road\n",
        "        \"\"\"\n",
        "        net = RoadNetwork()\n",
        "\n",
        "        # Defining upper starting lanes after the U-Turn.\n",
        "        # These Lanes are defined from x-coordinate 'length' to 0.\n",
        "        net.add_lane(\"c\", \"d\", StraightLane([length, StraightLane.DEFAULT_WIDTH], [0, StraightLane.DEFAULT_WIDTH],\n",
        "                                            line_types=(LineType.CONTINUOUS_LINE, LineType.STRIPED)))\n",
        "        net.add_lane(\"c\", \"d\", StraightLane([length, 0], [0, 0],\n",
        "                                            line_types=(LineType.NONE, LineType.CONTINUOUS_LINE)))\n",
        "\n",
        "        # Defining counter-clockwise circular U-Turn lanes.\n",
        "        center = [length, StraightLane.DEFAULT_WIDTH + 20]  # [m]\n",
        "        radius = 20  # [m]\n",
        "        alpha = 0  # [deg]\n",
        "\n",
        "        radii = [radius, radius+StraightLane.DEFAULT_WIDTH]\n",
        "        n, c, s = LineType.NONE, LineType.CONTINUOUS, LineType.STRIPED\n",
        "        line = [[c, s], [n, c]]\n",
        "        for lane in [0, 1]:\n",
        "            net.add_lane(\"b\", \"c\",\n",
        "                         CircularLane(center, radii[lane], np.deg2rad(90 - alpha), np.deg2rad(-90+alpha),\n",
        "                                      clockwise=False, line_types=line[lane]))\n",
        "\n",
        "        offset = 2*radius\n",
        "\n",
        "        # Defining lower starting lanes before the U-Turn.\n",
        "        # These Lanes are defined from x-coordinate 0 to 'length'.\n",
        "        net.add_lane(\"a\", \"b\", StraightLane([0, ((2 * StraightLane.DEFAULT_WIDTH + offset) - StraightLane.DEFAULT_WIDTH)],\n",
        "                                            [length, ((2 * StraightLane.DEFAULT_WIDTH + offset) - StraightLane.DEFAULT_WIDTH)],\n",
        "                                            line_types=(LineType.CONTINUOUS_LINE,\n",
        "                                                        LineType.STRIPED)))\n",
        "        net.add_lane(\"a\", \"b\", StraightLane([0, (2 * StraightLane.DEFAULT_WIDTH + offset)],\n",
        "                                            [length, (2 * StraightLane.DEFAULT_WIDTH + offset)],\n",
        "                                            line_types=(LineType.NONE,\n",
        "                                                        LineType.CONTINUOUS_LINE)))\n",
        "\n",
        "        road = Road(network=net, np_random=self.np_random, record_history=self.config[\"show_trajectories\"])\n",
        "        self.road = road\n",
        "\n",
        "    def _make_vehicles(self) -> None:\n",
        "        \"\"\"\n",
        "        Strategic addition of vehicles for testing safety behavior limits\n",
        "        while performing U-Turn manoeuvre at given cruising interval.\n",
        "\n",
        "        :return: the ego-vehicle\n",
        "        \"\"\"\n",
        "\n",
        "        # These variables add small variations to the driving behavior.\n",
        "        position_deviation = 2\n",
        "        speed_deviation = 2\n",
        "\n",
        "        ego_lane = self.road.network.get_lane((\"a\", \"b\", 0))\n",
        "        ego_vehicle = self.action_type.vehicle_class(self.road,\n",
        "                                                     ego_lane.position(0, 0),\n",
        "                                                     speed=16)\n",
        "        # Stronger anticipation for the turn\n",
        "        ego_vehicle.PURSUIT_TAU = MDPVehicle.TAU_DS\n",
        "        # Lower speed range\n",
        "        ego_vehicle.SPEED_MIN = 8\n",
        "        ego_vehicle.SPEED_MAX = 24\n",
        "        ego_vehicle.SPEED_COUNT = 3\n",
        "        try:\n",
        "            ego_vehicle.plan_route_to(\"d\")\n",
        "        except AttributeError:\n",
        "            pass\n",
        "\n",
        "        self.road.vehicles.append(ego_vehicle)\n",
        "        self.vehicle = ego_vehicle\n",
        "\n",
        "        vehicles_type = utils.class_from_path(self.config[\"other_vehicles_type\"])\n",
        "\n",
        "        # Note: randomize_behavior() can be commented out if more randomized\n",
        "        # vehicle interactions are deemed necessary for the experimentation.\n",
        "\n",
        "        # Vehicle 1: Blocking the ego vehicle\n",
        "        vehicle = vehicles_type.make_on_lane(self.road,\n",
        "                                                   (\"a\", \"b\", 0),\n",
        "                                                   longitudinal=25 + self.np_random.randn()*position_deviation,\n",
        "                                                   speed=13.5 + self.np_random.randn() * speed_deviation)\n",
        "        vehicle.plan_route_to('d')\n",
        "        vehicle.randomize_behavior()\n",
        "        self.road.vehicles.append(vehicle)\n",
        "\n",
        "        # Vehicle 2: Forcing risky overtake\n",
        "        vehicle = vehicles_type.make_on_lane(self.road,\n",
        "                                                   (\"a\", \"b\", 1),\n",
        "                                                   longitudinal=56 + self.np_random.randn()*position_deviation,\n",
        "                                                   speed=14.5 + self.np_random.randn() * speed_deviation)\n",
        "        vehicle.plan_route_to('d')\n",
        "        # vehicle.randomize_behavior()\n",
        "        self.road.vehicles.append(vehicle)\n",
        "\n",
        "        # Vehicle 3: Blocking the ego vehicle\n",
        "        vehicle = vehicles_type.make_on_lane(self.road,\n",
        "                                                   (\"b\", \"c\", 1),\n",
        "                                                   longitudinal=0.5 + self.np_random.randn()*position_deviation,\n",
        "                                                   speed=4.5 + self.np_random.randn() * speed_deviation)\n",
        "        vehicle.plan_route_to('d')\n",
        "        # vehicle.randomize_behavior()\n",
        "        self.road.vehicles.append(vehicle)\n",
        "\n",
        "        # Vehicle 4: Forcing risky overtake\n",
        "        vehicle = vehicles_type.make_on_lane(self.road,\n",
        "                                                   (\"b\", \"c\", 0),\n",
        "                                                   longitudinal=17.5 + self.np_random.randn()*position_deviation,\n",
        "                                                   speed=5.5 + self.np_random.randn() * speed_deviation)\n",
        "        vehicle.plan_route_to('d')\n",
        "        # vehicle.randomize_behavior()\n",
        "        self.road.vehicles.append(vehicle)\n",
        "\n",
        "        # Vehicle 5: Blocking the ego vehicle\n",
        "        vehicle = vehicles_type.make_on_lane(self.road,\n",
        "                                                   (\"c\", \"d\", 0),\n",
        "                                                   longitudinal=1 + self.np_random.randn()*position_deviation,\n",
        "                                                   speed=3.5 + self.np_random.randn() * speed_deviation)\n",
        "        vehicle.plan_route_to('d')\n",
        "        # vehicle.randomize_behavior()\n",
        "        self.road.vehicles.append(vehicle)\n",
        "\n",
        "        # Vehicle 6: Forcing risky overtake\n",
        "        vehicle = vehicles_type.make_on_lane(self.road,\n",
        "                                                   (\"c\", \"d\", 1),\n",
        "                                                   longitudinal=30 + self.np_random.randn()*position_deviation,\n",
        "                                                   speed=5.5 + self.np_random.randn() * speed_deviation)\n",
        "        vehicle.plan_route_to('d')\n",
        "        # vehicle.randomize_behavior()\n",
        "        self.road.vehicles.append(vehicle)\n",
        "\n",
        "\n",
        "register(\n",
        "    id='u-turn-v0',\n",
        "    entry_point='highway_env.envs:UTurnEnv'\n",
        ")\n"
      ],
      "execution_count": 10,
      "outputs": [
        {
          "output_type": "stream",
          "text": [
            "Overwriting /content/highway-env/highway_env/envs/u_turn_env.py\n"
          ],
          "name": "stdout"
        }
      ]
    },
    {
      "cell_type": "code",
      "metadata": {
        "colab": {
          "base_uri": "https://localhost:8080/"
        },
        "id": "6ZV4ufe6AVRr",
        "outputId": "0b709c57-585c-4462-c713-61826ae1c173"
      },
      "source": [
        "# Uninstalling the highway-env package in case an issue has happened\n",
        "# While coding your new environment.\n",
        "\n",
        "# !pip uninstall -y highway-env\n",
        "\n",
        "# Note: This command comes in handy as we are not sure of the compilation, semantic\n",
        "# or functional errors till later stages."
      ],
      "execution_count": 7,
      "outputs": [
        {
          "output_type": "stream",
          "text": [
            "Uninstalling highway-env-1.0.dev0:\n",
            "  Successfully uninstalled highway-env-1.0.dev0\n"
          ],
          "name": "stdout"
        }
      ]
    },
    {
      "cell_type": "code",
      "metadata": {
        "colab": {
          "base_uri": "https://localhost:8080/",
          "height": 525
        },
        "id": "KFgCc7V4bai1",
        "outputId": "9ee24434-bd8e-4771-8abd-84e83244f982"
      },
      "source": [
        "# installing the highway-env package.\n",
        "!pip install /content/highway-env/\n",
        "\n",
        "# Note: Press the restart button when reinstalling the highway-env\n",
        "# package as prompted by the output text below."
      ],
      "execution_count": 8,
      "outputs": [
        {
          "output_type": "stream",
          "text": [
            "Processing ./highway-env\n",
            "Requirement already satisfied: gym in /usr/local/lib/python3.6/dist-packages (from highway-env==1.0.dev0) (0.17.3)\n",
            "Requirement already satisfied: numpy in /usr/local/lib/python3.6/dist-packages (from highway-env==1.0.dev0) (1.19.5)\n",
            "Requirement already satisfied: pygame in /usr/local/lib/python3.6/dist-packages (from highway-env==1.0.dev0) (2.0.1)\n",
            "Requirement already satisfied: matplotlib in /usr/local/lib/python3.6/dist-packages (from highway-env==1.0.dev0) (3.2.2)\n",
            "Requirement already satisfied: pandas in /usr/local/lib/python3.6/dist-packages (from highway-env==1.0.dev0) (1.1.5)\n",
            "Requirement already satisfied: scipy in /usr/local/lib/python3.6/dist-packages (from gym->highway-env==1.0.dev0) (1.4.1)\n",
            "Requirement already satisfied: cloudpickle<1.7.0,>=1.2.0 in /usr/local/lib/python3.6/dist-packages (from gym->highway-env==1.0.dev0) (1.3.0)\n",
            "Requirement already satisfied: pyglet<=1.5.0,>=1.4.0 in /usr/local/lib/python3.6/dist-packages (from gym->highway-env==1.0.dev0) (1.5.0)\n",
            "Requirement already satisfied: pyparsing!=2.0.4,!=2.1.2,!=2.1.6,>=2.0.1 in /usr/local/lib/python3.6/dist-packages (from matplotlib->highway-env==1.0.dev0) (2.4.7)\n",
            "Requirement already satisfied: cycler>=0.10 in /usr/local/lib/python3.6/dist-packages (from matplotlib->highway-env==1.0.dev0) (0.10.0)\n",
            "Requirement already satisfied: kiwisolver>=1.0.1 in /usr/local/lib/python3.6/dist-packages (from matplotlib->highway-env==1.0.dev0) (1.3.1)\n",
            "Requirement already satisfied: python-dateutil>=2.1 in /usr/local/lib/python3.6/dist-packages (from matplotlib->highway-env==1.0.dev0) (2.8.1)\n",
            "Requirement already satisfied: pytz>=2017.2 in /usr/local/lib/python3.6/dist-packages (from pandas->highway-env==1.0.dev0) (2018.9)\n",
            "Requirement already satisfied: future in /usr/local/lib/python3.6/dist-packages (from pyglet<=1.5.0,>=1.4.0->gym->highway-env==1.0.dev0) (0.16.0)\n",
            "Requirement already satisfied: six in /usr/local/lib/python3.6/dist-packages (from cycler>=0.10->matplotlib->highway-env==1.0.dev0) (1.15.0)\n",
            "Building wheels for collected packages: highway-env\n",
            "  Building wheel for highway-env (setup.py) ... \u001b[?25l\u001b[?25hdone\n",
            "  Created wheel for highway-env: filename=highway_env-1.0.dev0-cp36-none-any.whl size=86227 sha256=bd10419f642d1e338e4baed64fa54575f95ab14cf16b2fac609e808e33de78b2\n",
            "  Stored in directory: /root/.cache/pip/wheels/86/f8/1a/561333f2df5a08999032373dfa6641cc1cd21b091cc818e8ff\n",
            "Successfully built highway-env\n",
            "Installing collected packages: highway-env\n",
            "Successfully installed highway-env-1.0.dev0\n"
          ],
          "name": "stdout"
        },
        {
          "output_type": "display_data",
          "data": {
            "application/vnd.colab-display-data+json": {
              "pip_warning": {
                "packages": [
                  "highway_env"
                ]
              }
            }
          },
          "metadata": {
            "tags": []
          }
        }
      ]
    },
    {
      "cell_type": "markdown",
      "metadata": {
        "id": "KvC_W7ocNE21"
      },
      "source": [
        "### **Sample Environment Output**\n",
        "\n",
        "__Below we output basic environment behavior for referencing and reviewing our changes.__"
      ]
    },
    {
      "cell_type": "code",
      "metadata": {
        "id": "NsrAzGBpmPVs"
      },
      "source": [
        "import gym\n",
        "import highway_env"
      ],
      "execution_count": 1,
      "outputs": []
    },
    {
      "cell_type": "code",
      "metadata": {
        "colab": {
          "base_uri": "https://localhost:8080/",
          "height": 273
        },
        "id": "rfSVwrua02bZ",
        "outputId": "c95da2e1-157c-4a6a-c97b-775df0b265fa"
      },
      "source": [
        "env = gym.make(\"u-turn-v0\")\n",
        "env = wrap_env(env)\n",
        "obs, done = env.reset(), False\n",
        "capture_intermediate_frames(env)\n",
        "for _ in range(3):\n",
        "    action = env.action_space.sample()\n",
        "    obs, reward, done, info = env.step(action)\n",
        "    # env.render(), using render() function here will produce error.\n",
        "    # As we are already making a 'automatic_rendering_callback'\n",
        "    # to capture intermediate frames.\n",
        "env.close()\n",
        "show_video()\n",
        "\n",
        "# Note 1: At stage one only add develop the roads and check their functionality.\n",
        "# After that add other vehicles at your desired location."
      ],
      "execution_count": 11,
      "outputs": [
        {
          "output_type": "display_data",
          "data": {
            "text/html": [
              "<video alt=\"video/openaigym.video.6.2968.video000000.mp4\" autoplay\n",
              "                      loop controls style=\"height: 252px;\">\n",
              "                      <source src=\"data:video/mp4;base64,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\" type=\"video/mp4\" />\n",
              "                 </video>"
            ],
            "text/plain": [
              "<IPython.core.display.HTML object>"
            ]
          },
          "metadata": {
            "tags": []
          }
        }
      ]
    },
    {
      "cell_type": "markdown",
      "metadata": {
        "id": "59fYAy7CN099"
      },
      "source": [
        "### **Training baselines for our newly created environment**\n",
        "\n",
        "__Below we are training baseline models from `rl-agents` package for 'u-turn-v0' environment.__\n",
        "\n",
        "```\n",
        "1. We import our whole rl-agent repository code and install the package.\n",
        "2. After this we add necessary configuration files for our baseline models.\n",
        "3. Then we change our execution directory and run the evaluation command.\n",
        "4. Finally, we create a function to output our trained result agents.\n",
        "```"
      ]
    },
    {
      "cell_type": "code",
      "metadata": {
        "colab": {
          "base_uri": "https://localhost:8080/"
        },
        "id": "s09ACuj4m5x_",
        "outputId": "299da003-a067-4a73-fa7e-349dc0435a64"
      },
      "source": [
        "# Cloning rl-agent package and installing it.\n",
        "!git clone https://github.com/eleurent/rl-agents.git\n",
        "!pip install git+https://github.com/eleurent/rl-agents"
      ],
      "execution_count": 16,
      "outputs": [
        {
          "output_type": "stream",
          "text": [
            "Cloning into 'rl-agents'...\n",
            "remote: Enumerating objects: 255, done.\u001b[K\n",
            "remote: Counting objects: 100% (255/255), done.\u001b[K\n",
            "remote: Compressing objects: 100% (138/138), done.\u001b[K\n",
            "remote: Total 6402 (delta 144), reused 184 (delta 117), pack-reused 6147\u001b[K\n",
            "Receiving objects: 100% (6402/6402), 975.47 KiB | 10.06 MiB/s, done.\n",
            "Resolving deltas: 100% (4548/4548), done.\n",
            "Collecting git+https://github.com/eleurent/rl-agents\n",
            "  Cloning https://github.com/eleurent/rl-agents to /tmp/pip-req-build-rmw7_fvd\n",
            "  Running command git clone -q https://github.com/eleurent/rl-agents /tmp/pip-req-build-rmw7_fvd\n",
            "Requirement already satisfied: gym in /usr/local/lib/python3.6/dist-packages (from rl-agents==1.0.dev0) (0.17.3)\n",
            "Requirement already satisfied: numpy in /usr/local/lib/python3.6/dist-packages (from rl-agents==1.0.dev0) (1.19.5)\n",
            "Requirement already satisfied: pandas in /usr/local/lib/python3.6/dist-packages (from rl-agents==1.0.dev0) (1.1.5)\n",
            "Requirement already satisfied: numba in /usr/local/lib/python3.6/dist-packages (from rl-agents==1.0.dev0) (0.51.2)\n",
            "Requirement already satisfied: pygame in /usr/local/lib/python3.6/dist-packages (from rl-agents==1.0.dev0) (2.0.1)\n",
            "Requirement already satisfied: matplotlib in /usr/local/lib/python3.6/dist-packages (from rl-agents==1.0.dev0) (3.2.2)\n",
            "Requirement already satisfied: seaborn in /usr/local/lib/python3.6/dist-packages (from rl-agents==1.0.dev0) (0.11.1)\n",
            "Requirement already satisfied: six in /usr/local/lib/python3.6/dist-packages (from rl-agents==1.0.dev0) (1.15.0)\n",
            "Requirement already satisfied: docopt in /usr/local/lib/python3.6/dist-packages (from rl-agents==1.0.dev0) (0.6.2)\n",
            "Requirement already satisfied: torch>=1.2.0 in /usr/local/lib/python3.6/dist-packages (from rl-agents==1.0.dev0) (1.7.0+cu101)\n",
            "Collecting tensorboardX\n",
            "\u001b[?25l  Downloading https://files.pythonhosted.org/packages/af/0c/4f41bcd45db376e6fe5c619c01100e9b7531c55791b7244815bac6eac32c/tensorboardX-2.1-py2.py3-none-any.whl (308kB)\n",
            "\u001b[K     |████████████████████████████████| 317kB 5.7MB/s \n",
            "\u001b[?25hRequirement already satisfied: scipy in /usr/local/lib/python3.6/dist-packages (from gym->rl-agents==1.0.dev0) (1.4.1)\n",
            "Requirement already satisfied: cloudpickle<1.7.0,>=1.2.0 in /usr/local/lib/python3.6/dist-packages (from gym->rl-agents==1.0.dev0) (1.3.0)\n",
            "Requirement already satisfied: pyglet<=1.5.0,>=1.4.0 in /usr/local/lib/python3.6/dist-packages (from gym->rl-agents==1.0.dev0) (1.5.0)\n",
            "Requirement already satisfied: pytz>=2017.2 in /usr/local/lib/python3.6/dist-packages (from pandas->rl-agents==1.0.dev0) (2018.9)\n",
            "Requirement already satisfied: python-dateutil>=2.7.3 in /usr/local/lib/python3.6/dist-packages (from pandas->rl-agents==1.0.dev0) (2.8.1)\n",
            "Requirement already satisfied: llvmlite<0.35,>=0.34.0.dev0 in /usr/local/lib/python3.6/dist-packages (from numba->rl-agents==1.0.dev0) (0.34.0)\n",
            "Requirement already satisfied: setuptools in /usr/local/lib/python3.6/dist-packages (from numba->rl-agents==1.0.dev0) (53.0.0)\n",
            "Requirement already satisfied: pyparsing!=2.0.4,!=2.1.2,!=2.1.6,>=2.0.1 in /usr/local/lib/python3.6/dist-packages (from matplotlib->rl-agents==1.0.dev0) (2.4.7)\n",
            "Requirement already satisfied: cycler>=0.10 in /usr/local/lib/python3.6/dist-packages (from matplotlib->rl-agents==1.0.dev0) (0.10.0)\n",
            "Requirement already satisfied: kiwisolver>=1.0.1 in /usr/local/lib/python3.6/dist-packages (from matplotlib->rl-agents==1.0.dev0) (1.3.1)\n",
            "Requirement already satisfied: typing-extensions in /usr/local/lib/python3.6/dist-packages (from torch>=1.2.0->rl-agents==1.0.dev0) (3.7.4.3)\n",
            "Requirement already satisfied: future in /usr/local/lib/python3.6/dist-packages (from torch>=1.2.0->rl-agents==1.0.dev0) (0.16.0)\n",
            "Requirement already satisfied: dataclasses in /usr/local/lib/python3.6/dist-packages (from torch>=1.2.0->rl-agents==1.0.dev0) (0.8)\n",
            "Requirement already satisfied: protobuf>=3.8.0 in /usr/local/lib/python3.6/dist-packages (from tensorboardX->rl-agents==1.0.dev0) (3.12.4)\n",
            "Building wheels for collected packages: rl-agents\n",
            "  Building wheel for rl-agents (setup.py) ... \u001b[?25l\u001b[?25hdone\n",
            "  Created wheel for rl-agents: filename=rl_agents-1.0.dev0-cp36-none-any.whl size=101224 sha256=5ee1a753658f3c44534f4dcddc4ba5ebbe6eae33e67da44cfc004a209cb65a67\n",
            "  Stored in directory: /tmp/pip-ephem-wheel-cache-umz2dp10/wheels/be/14/44/bc2b8a73d904f2a421fde80db171e2bae90dfee95f293befca\n",
            "Successfully built rl-agents\n",
            "Installing collected packages: tensorboardX, rl-agents\n",
            "Successfully installed rl-agents-1.0.dev0 tensorboardX-2.1\n"
          ],
          "name": "stdout"
        }
      ]
    },
    {
      "cell_type": "code",
      "metadata": {
        "id": "NEPpb4tGwdej"
      },
      "source": [
        "# Making respective directories for MCTSAgent and writing the json files in it.\n",
        "%mkdir rl-agents/scripts/configs/UTurnEnv/\n",
        "%mkdir rl-agents/scripts/configs/UTurnEnv/agents/\n",
        "%mkdir rl-agents/scripts/configs/UTurnEnv/agents/MCTSAgent/ \n",
        "# Note: These directory and file structure can be referenced from the already\n",
        "# existing agent configurations in `rl-agent` package."
      ],
      "execution_count": 17,
      "outputs": []
    },
    {
      "cell_type": "code",
      "metadata": {
        "colab": {
          "base_uri": "https://localhost:8080/"
        },
        "id": "34QnBQeuwlkH",
        "outputId": "1da207ec-893a-420a-c8e9-7c96a959acdd"
      },
      "source": [
        "%%writefile  rl-agents/scripts/configs/UTurnEnv/env.json\n",
        "\n",
        "{\n",
        "    \"id\": \"u-turn-v0\",\n",
        "    \"import_module\": \"highway_env\"\n",
        "}"
      ],
      "execution_count": 18,
      "outputs": [
        {
          "output_type": "stream",
          "text": [
            "Writing rl-agents/scripts/configs/UTurnEnv/env.json\n"
          ],
          "name": "stdout"
        }
      ]
    },
    {
      "cell_type": "code",
      "metadata": {
        "colab": {
          "base_uri": "https://localhost:8080/"
        },
        "id": "IQ4XHH4EyrjI",
        "outputId": "ca14085b-451c-473b-e466-9af03e1c17bb"
      },
      "source": [
        "%%writefile  rl-agents/scripts/configs/UTurnEnv/agents/MCTSAgent/baseline.json\n",
        "\n",
        "{\n",
        "    \"__class__\": \"<class 'rl_agents.agents.tree_search.mcts.MCTSAgent'>\",\n",
        "    \"env_preprocessors\": [{\"method\":\"simplify\"}]\n",
        "}"
      ],
      "execution_count": 19,
      "outputs": [
        {
          "output_type": "stream",
          "text": [
            "Writing rl-agents/scripts/configs/UTurnEnv/agents/MCTSAgent/baseline.json\n"
          ],
          "name": "stdout"
        }
      ]
    },
    {
      "cell_type": "code",
      "metadata": {
        "colab": {
          "base_uri": "https://localhost:8080/"
        },
        "id": "secgRVy-wmJt",
        "outputId": "abd31a90-0144-44ef-92ad-d9199bb77127"
      },
      "source": [
        "# Outputting the json file for write operation verification.\n",
        "!cat rl-agents/scripts/configs/UTurnEnv/env.json"
      ],
      "execution_count": 20,
      "outputs": [
        {
          "output_type": "stream",
          "text": [
            "\n",
            "{\n",
            "    \"id\": \"u-turn-v0\",\n",
            "    \"import_module\": \"highway_env\"\n",
            "}"
          ],
          "name": "stdout"
        }
      ]
    },
    {
      "cell_type": "code",
      "metadata": {
        "colab": {
          "base_uri": "https://localhost:8080/"
        },
        "id": "3d2xnd0fzIwj",
        "outputId": "6395b7b9-169f-4943-df79-d00d613ab045"
      },
      "source": [
        "# Outputting the json file for write operation verification.\n",
        "!cat  rl-agents/scripts/configs/UTurnEnv/agents/MCTSAgent/baseline.json"
      ],
      "execution_count": 21,
      "outputs": [
        {
          "output_type": "stream",
          "text": [
            "\n",
            "{\n",
            "    \"__class__\": \"<class 'rl_agents.agents.tree_search.mcts.MCTSAgent'>\",\n",
            "    \"env_preprocessors\": [{\"method\":\"simplify\"}]\n",
            "}"
          ],
          "name": "stdout"
        }
      ]
    },
    {
      "cell_type": "code",
      "metadata": {
        "colab": {
          "base_uri": "https://localhost:8080/"
        },
        "id": "luccJexZzpfo",
        "outputId": "f29e19f1-4e04-43bc-cf3c-c13aab00caa5"
      },
      "source": [
        "# Changing to execution directory.\n",
        "%cd rl-agents/scripts/"
      ],
      "execution_count": 22,
      "outputs": [
        {
          "output_type": "stream",
          "text": [
            "/content/rl-agents/scripts\n"
          ],
          "name": "stdout"
        }
      ]
    },
    {
      "cell_type": "code",
      "metadata": {
        "id": "N4HzuALSpxRI"
      },
      "source": [
        "# Running the execution command.\n",
        "!python experiments.py evaluate /content/rl-agents/scripts/configs/UTurnEnv/env.json \\\n",
        "/content/rl-agents/scripts/configs/UTurnEnv/agents/MCTSAgent/baseline.json --train --episodes=10"
      ],
      "execution_count": null,
      "outputs": []
    },
    {
      "cell_type": "code",
      "metadata": {
        "id": "NlW1BSz7pxVo"
      },
      "source": [
        "# Download command for checking agent output videos locally.\n",
        "!zip -r /content/file.zip /content/rl-agents/scripts/out/UTurnEnv/MCTSAgent/\n",
        "\n",
        "from google.colab import files\n",
        "files.download(\"/content/file.zip\")"
      ],
      "execution_count": null,
      "outputs": []
    },
    {
      "cell_type": "code",
      "metadata": {
        "id": "OkNNC6xg3zgJ"
      },
      "source": [
        "# DeterministicPlannerAgent agent configuration setting creation.\n",
        "%mkdir /content/rl-agents/scripts/configs/UTurnEnv/agents/DeterministicPlannerAgent/"
      ],
      "execution_count": null,
      "outputs": []
    },
    {
      "cell_type": "code",
      "metadata": {
        "id": "BIU-KsCz5Vth"
      },
      "source": [
        "%%writefile  /content/rl-agents/scripts/configs/UTurnEnv/agents/DeterministicPlannerAgent/baseline.json\n",
        "\n",
        "{\n",
        "    \"__class__\": \"<class 'rl_agents.agents.tree_search.deterministic.DeterministicPlannerAgent'>\",\n",
        "    \"env_preprocessors\": [{\"method\":\"simplify\"}],\n",
        "    \"budget\": 75,\n",
        "    \"gamma\": 0.7\n",
        "}"
      ],
      "execution_count": null,
      "outputs": []
    },
    {
      "cell_type": "code",
      "metadata": {
        "id": "dW6EPVex5VyU"
      },
      "source": [
        "# Running the execution command.\n",
        "!python experiments.py evaluate /content/rl-agents/scripts/configs/UTurnEnv/env.json \\\n",
        "/content/rl-agents/scripts/configs/UTurnEnv/agents/DeterministicPlannerAgent/baseline.json --train --episodes=10"
      ],
      "execution_count": null,
      "outputs": []
    },
    {
      "cell_type": "code",
      "metadata": {
        "id": "a-x1RdsbETyB"
      },
      "source": [
        "# Download command for checking agent output videos locally.\n",
        "!zip -r /content/file.zip /content/rl-agents/scripts/out/UTurnEnv/DeterministicPlannerAgent/\n",
        "\n",
        "from google.colab import files\n",
        "files.download(\"/content/file.zip\")"
      ],
      "execution_count": null,
      "outputs": []
    },
    {
      "cell_type": "code",
      "metadata": {
        "id": "3_1ZK1do5V2-"
      },
      "source": [
        "# MDPGapEAgent agent configuration setting creation.\n",
        "%mkdir /content/rl-agents/scripts/configs/UTurnEnv/agents/MDPGapEAgent/"
      ],
      "execution_count": null,
      "outputs": []
    },
    {
      "cell_type": "code",
      "metadata": {
        "id": "gbtkobGz5V7d"
      },
      "source": [
        "%%writefile  /content/rl-agents/scripts/configs/UTurnEnv/agents/MDPGapEAgent/baseline.json\n",
        "\n",
        "\n",
        "{\n",
        "    \"__class__\": \"<class 'rl_agents.agents.tree_search.mdp_gape.MDPGapEAgent'>\",\n",
        "    \"env_preprocessors\": [{\"method\":\"simplify\"}],\n",
        "    \"gamma\": 0.8,\n",
        "    \"budget\": 100,\n",
        "    \"accuracy\": 0.1,\n",
        "    \"confidence\": 1,\n",
        "    \"max_next_states_count\": 1,\n",
        "    \"upper_bound\":\n",
        "    {\n",
        "        \"type\": \"kullback-leibler\",\n",
        "        \"time\": \"global\",\n",
        "        \"threshold\": \"1*np.log(time)\"\n",
        "    },\n",
        "    \"continuation_type\": \"uniform\",\n",
        "    \"step_strategy\": \"reset\"\n",
        "}"
      ],
      "execution_count": null,
      "outputs": []
    },
    {
      "cell_type": "code",
      "metadata": {
        "id": "emNeAj1Z5WAG"
      },
      "source": [
        "# Running the execution command.\n",
        "!python experiments.py evaluate /content/rl-agents/scripts/configs/UTurnEnv/env.json \\\n",
        "/content/rl-agents/scripts/configs/UTurnEnv/agents/MDPGapEAgent/baseline.json --train --episodes=64"
      ],
      "execution_count": null,
      "outputs": []
    },
    {
      "cell_type": "code",
      "metadata": {
        "id": "BWRvggyC5WE1"
      },
      "source": [
        "# Download command for checking agent output videos locally.\n",
        "!zip -r /content/file.zip /content/rl-agents/scripts/out/UTurnEnv/MDPGapEAgent/\n",
        "\n",
        "from google.colab import files\n",
        "files.download(\"/content/file.zip\")"
      ],
      "execution_count": null,
      "outputs": []
    },
    {
      "cell_type": "code",
      "metadata": {
        "id": "Ahtv4LbH5D8v"
      },
      "source": [
        "# Outputting specific video files of the trained agent's output directory.\n",
        "def show_trained_video(path, filename):\n",
        "    html = []\n",
        "    for mp4 in Path(path).glob(filename):\n",
        "        video_b64 = base64.b64encode(mp4.read_bytes())\n",
        "        html.append('''<video alt=\"{}\" autoplay\n",
        "                      loop controls style=\"height: 476px;\">\n",
        "                      <source src=\"data:video/mp4;base64,{}\" type=\"video/mp4\" />\n",
        "                 </video>'''.format(mp4, video_b64.decode('ascii')))\n",
        "    ipythondisplay.display(ipythondisplay.HTML(data=\"<br>\".join(html)))"
      ],
      "execution_count": null,
      "outputs": []
    },
    {
      "cell_type": "code",
      "metadata": {
        "id": "_vwR59VyJTPD"
      },
      "source": [
        "# Note: run id will be different than the below stated one.\n",
        "show_trained_video('/content/rl-agents/scripts/out/UTurnEnv/DeterministicPlannerAgent/run_20210211-214834_2398', 'openaigym.video.0.2398.video000000.mp4')"
      ],
      "execution_count": null,
      "outputs": []
    },
    {
      "cell_type": "code",
      "metadata": {
        "id": "Rp7jids0JTWB"
      },
      "source": [
        "# Note: run id will be different than the below stated one.\n",
        "show_trained_video('/content/rl-agents/scripts/out/UTurnEnv/MCTSAgent/run_20210211-210340_1781', 'openaigym.video.0.1781.video000001.mp4')"
      ],
      "execution_count": null,
      "outputs": []
    },
    {
      "cell_type": "code",
      "metadata": {
        "id": "2jMTejlbSsLK"
      },
      "source": [
        ""
      ],
      "execution_count": null,
      "outputs": []
    }
  ]
}
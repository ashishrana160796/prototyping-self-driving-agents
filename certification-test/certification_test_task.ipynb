{
  "nbformat": 4,
  "nbformat_minor": 0,
  "metadata": {
    "colab": {
      "name": "deliverable_milestone_three.ipynb",
      "provenance": [],
      "collapsed_sections": []
    },
    "kernelspec": {
      "name": "python3",
      "display_name": "Python 3"
    }
  },
  "cells": [
    {
      "cell_type": "markdown",
      "metadata": {
        "id": "v80XV0wOJMSj",
        "colab_type": "text"
      },
      "source": [
        "### **Setting Up Virtual Display for Google Colab and Cloning `rl-agents` package.**"
      ]
    },
    {
      "cell_type": "code",
      "metadata": {
        "id": "cZ2PdC0gkUCn",
        "colab_type": "code",
        "colab": {
          "base_uri": "https://localhost:8080/",
          "height": 1000
        },
        "outputId": "9f06a4fb-5bbf-46ce-87c4-0c913ee8bccb"
      },
      "source": [
        "# Package download statements.\n",
        "# Note 1: This time we also use ffmpeg package for handling video recording related tasks.\n",
        "# Note 2: The package version are generic and doesn't require any specific package version downloads.\n",
        "!pip install git+https://github.com/eleurent/highway-env\n",
        "!apt-get update\n",
        "!pip install pyvirtualdisplay\n",
        "!apt-get install -y xvfb python-opengl ffmpeg"
      ],
      "execution_count": 1,
      "outputs": [
        {
          "output_type": "stream",
          "text": [
            "Collecting git+https://github.com/eleurent/highway-env\n",
            "  Cloning https://github.com/eleurent/highway-env to /tmp/pip-req-build-ckab77ze\n",
            "  Running command git clone -q https://github.com/eleurent/highway-env /tmp/pip-req-build-ckab77ze\n",
            "Requirement already satisfied: gym in /usr/local/lib/python3.6/dist-packages (from highway-env==1.0.dev0) (0.17.2)\n",
            "Requirement already satisfied: numpy in /usr/local/lib/python3.6/dist-packages (from highway-env==1.0.dev0) (1.18.5)\n",
            "Collecting pygame\n",
            "\u001b[?25l  Downloading https://files.pythonhosted.org/packages/8e/24/ede6428359f913ed9cd1643dd5533aefeb5a2699cc95bea089de50ead586/pygame-1.9.6-cp36-cp36m-manylinux1_x86_64.whl (11.4MB)\n",
            "\u001b[K     |████████████████████████████████| 11.4MB 3.2MB/s \n",
            "\u001b[?25hRequirement already satisfied: matplotlib in /usr/local/lib/python3.6/dist-packages (from highway-env==1.0.dev0) (3.2.2)\n",
            "Requirement already satisfied: pandas in /usr/local/lib/python3.6/dist-packages (from highway-env==1.0.dev0) (1.0.5)\n",
            "Requirement already satisfied: scipy in /usr/local/lib/python3.6/dist-packages (from gym->highway-env==1.0.dev0) (1.4.1)\n",
            "Requirement already satisfied: cloudpickle<1.4.0,>=1.2.0 in /usr/local/lib/python3.6/dist-packages (from gym->highway-env==1.0.dev0) (1.3.0)\n",
            "Requirement already satisfied: pyglet<=1.5.0,>=1.4.0 in /usr/local/lib/python3.6/dist-packages (from gym->highway-env==1.0.dev0) (1.5.0)\n",
            "Requirement already satisfied: cycler>=0.10 in /usr/local/lib/python3.6/dist-packages (from matplotlib->highway-env==1.0.dev0) (0.10.0)\n",
            "Requirement already satisfied: pyparsing!=2.0.4,!=2.1.2,!=2.1.6,>=2.0.1 in /usr/local/lib/python3.6/dist-packages (from matplotlib->highway-env==1.0.dev0) (2.4.7)\n",
            "Requirement already satisfied: kiwisolver>=1.0.1 in /usr/local/lib/python3.6/dist-packages (from matplotlib->highway-env==1.0.dev0) (1.2.0)\n",
            "Requirement already satisfied: python-dateutil>=2.1 in /usr/local/lib/python3.6/dist-packages (from matplotlib->highway-env==1.0.dev0) (2.8.1)\n",
            "Requirement already satisfied: pytz>=2017.2 in /usr/local/lib/python3.6/dist-packages (from pandas->highway-env==1.0.dev0) (2018.9)\n",
            "Requirement already satisfied: future in /usr/local/lib/python3.6/dist-packages (from pyglet<=1.5.0,>=1.4.0->gym->highway-env==1.0.dev0) (0.16.0)\n",
            "Requirement already satisfied: six in /usr/local/lib/python3.6/dist-packages (from cycler>=0.10->matplotlib->highway-env==1.0.dev0) (1.15.0)\n",
            "Building wheels for collected packages: highway-env\n",
            "  Building wheel for highway-env (setup.py) ... \u001b[?25l\u001b[?25hdone\n",
            "  Created wheel for highway-env: filename=highway_env-1.0.dev0-cp36-none-any.whl size=81225 sha256=d876e488997aef45a3ce73261b9c48983ed4a8395457e417783edb8a302d2ffd\n",
            "  Stored in directory: /tmp/pip-ephem-wheel-cache-22_3fba7/wheels/e6/10/d8/02a077ca221bbac1c6fc12c1370c2f773a8cd602d4be3df0cc\n",
            "Successfully built highway-env\n",
            "Installing collected packages: pygame, highway-env\n",
            "Successfully installed highway-env-1.0.dev0 pygame-1.9.6\n",
            "Get:1 https://cloud.r-project.org/bin/linux/ubuntu bionic-cran35/ InRelease [3,626 B]\n",
            "Ign:2 https://developer.download.nvidia.com/compute/cuda/repos/ubuntu1804/x86_64  InRelease\n",
            "Hit:3 http://ppa.launchpad.net/graphics-drivers/ppa/ubuntu bionic InRelease\n",
            "Hit:4 http://archive.ubuntu.com/ubuntu bionic InRelease\n",
            "Ign:5 https://developer.download.nvidia.com/compute/machine-learning/repos/ubuntu1804/x86_64  InRelease\n",
            "Hit:6 https://developer.download.nvidia.com/compute/cuda/repos/ubuntu1804/x86_64  Release\n",
            "Get:7 http://security.ubuntu.com/ubuntu bionic-security InRelease [88.7 kB]\n",
            "Hit:8 https://developer.download.nvidia.com/compute/machine-learning/repos/ubuntu1804/x86_64  Release\n",
            "Get:9 http://archive.ubuntu.com/ubuntu bionic-updates InRelease [88.7 kB]\n",
            "Get:10 http://ppa.launchpad.net/marutter/c2d4u3.5/ubuntu bionic InRelease [15.4 kB]\n",
            "Get:11 http://archive.ubuntu.com/ubuntu bionic-backports InRelease [74.6 kB]\n",
            "Get:14 http://ppa.launchpad.net/marutter/c2d4u3.5/ubuntu bionic/main Sources [1,876 kB]\n",
            "Get:15 http://security.ubuntu.com/ubuntu bionic-security/main amd64 Packages [1,094 kB]\n",
            "Get:16 http://archive.ubuntu.com/ubuntu bionic-updates/main amd64 Packages [1,385 kB]\n",
            "Get:17 http://security.ubuntu.com/ubuntu bionic-security/universe amd64 Packages [903 kB]\n",
            "Get:18 http://archive.ubuntu.com/ubuntu bionic-updates/universe amd64 Packages [1,430 kB]\n",
            "Get:19 http://ppa.launchpad.net/marutter/c2d4u3.5/ubuntu bionic/main amd64 Packages [906 kB]\n",
            "Fetched 7,866 kB in 3s (2,366 kB/s)\n",
            "Reading package lists... Done\n",
            "Collecting pyvirtualdisplay\n",
            "  Downloading https://files.pythonhosted.org/packages/d0/8a/643043cc70791367bee2d19eb20e00ed1a246ac48e5dbe57bbbcc8be40a9/PyVirtualDisplay-1.3.2-py2.py3-none-any.whl\n",
            "Collecting EasyProcess\n",
            "  Downloading https://files.pythonhosted.org/packages/48/3c/75573613641c90c6d094059ac28adb748560d99bd27ee6f80cce398f404e/EasyProcess-0.3-py2.py3-none-any.whl\n",
            "Installing collected packages: EasyProcess, pyvirtualdisplay\n",
            "Successfully installed EasyProcess-0.3 pyvirtualdisplay-1.3.2\n",
            "Reading package lists... Done\n",
            "Building dependency tree       \n",
            "Reading state information... Done\n",
            "ffmpeg is already the newest version (7:3.4.8-0ubuntu0.2).\n",
            "Suggested packages:\n",
            "  libgle3\n",
            "The following NEW packages will be installed:\n",
            "  python-opengl xvfb\n",
            "0 upgraded, 2 newly installed, 0 to remove and 39 not upgraded.\n",
            "Need to get 1,280 kB of archives.\n",
            "After this operation, 7,682 kB of additional disk space will be used.\n",
            "Get:1 http://archive.ubuntu.com/ubuntu bionic/universe amd64 python-opengl all 3.1.0+dfsg-1 [496 kB]\n",
            "Get:2 http://archive.ubuntu.com/ubuntu bionic-updates/universe amd64 xvfb amd64 2:1.19.6-1ubuntu4.6 [783 kB]\n",
            "Fetched 1,280 kB in 1s (1,338 kB/s)\n",
            "Selecting previously unselected package python-opengl.\n",
            "(Reading database ... 144676 files and directories currently installed.)\n",
            "Preparing to unpack .../python-opengl_3.1.0+dfsg-1_all.deb ...\n",
            "Unpacking python-opengl (3.1.0+dfsg-1) ...\n",
            "Selecting previously unselected package xvfb.\n",
            "Preparing to unpack .../xvfb_2%3a1.19.6-1ubuntu4.6_amd64.deb ...\n",
            "Unpacking xvfb (2:1.19.6-1ubuntu4.6) ...\n",
            "Setting up python-opengl (3.1.0+dfsg-1) ...\n",
            "Setting up xvfb (2:1.19.6-1ubuntu4.6) ...\n",
            "Processing triggers for man-db (2.8.3-2ubuntu0.1) ...\n"
          ],
          "name": "stdout"
        }
      ]
    },
    {
      "cell_type": "code",
      "metadata": {
        "id": "RY3N0gV1rVz_",
        "colab_type": "code",
        "colab": {
          "base_uri": "https://localhost:8080/",
          "height": 34
        },
        "outputId": "2439f203-22fd-4ec5-9ff9-cadfc2715eff"
      },
      "source": [
        "# Similar, to earlier rendering procedures for creating virtual display.\n",
        "from IPython import display as ipythondisplay\n",
        "from pyvirtualdisplay import Display\n",
        "from gym.wrappers import Monitor\n",
        "from pathlib import Path\n",
        "import base64\n",
        "\n",
        "# Declaing display screen size for rendering highway-env environment.\n",
        "display = Display(visible=0, size=(1366, 768))\n",
        "display.start()\n",
        "\n",
        "# Note:\n",
        "# Starting a screen is important for evaluation scripts to work for rl_agents package."
      ],
      "execution_count": 5,
      "outputs": [
        {
          "output_type": "execute_result",
          "data": {
            "text/plain": [
              "<pyvirtualdisplay.display.Display at 0x7fd5f80095c0>"
            ]
          },
          "metadata": {
            "tags": []
          },
          "execution_count": 5
        }
      ]
    },
    {
      "cell_type": "code",
      "metadata": {
        "id": "Zgj2lb3RkYrD",
        "colab_type": "code",
        "colab": {
          "base_uri": "https://localhost:8080/",
          "height": 627
        },
        "outputId": "d6dd364c-ab2e-46f6-9388-2dfe7b27109b"
      },
      "source": [
        "# Cloning rl-agent package as well installing it\n",
        "!git clone https://github.com/eleurent/rl-agents.git\n",
        "!pip install git+https://github.com/eleurent/rl-agents"
      ],
      "execution_count": 2,
      "outputs": [
        {
          "output_type": "stream",
          "text": [
            "fatal: destination path 'rl-agents' already exists and is not an empty directory.\n",
            "Collecting git+https://github.com/eleurent/rl-agents\n",
            "  Cloning https://github.com/eleurent/rl-agents to /tmp/pip-req-build-2ajh3v8q\n",
            "  Running command git clone -q https://github.com/eleurent/rl-agents /tmp/pip-req-build-2ajh3v8q\n",
            "Requirement already satisfied: gym in /usr/local/lib/python3.6/dist-packages (from rl-agents==1.0.dev0) (0.17.2)\n",
            "Requirement already satisfied: numpy in /usr/local/lib/python3.6/dist-packages (from rl-agents==1.0.dev0) (1.18.5)\n",
            "Requirement already satisfied: pandas in /usr/local/lib/python3.6/dist-packages (from rl-agents==1.0.dev0) (1.0.5)\n",
            "Requirement already satisfied: pygame in /usr/local/lib/python3.6/dist-packages (from rl-agents==1.0.dev0) (1.9.6)\n",
            "Requirement already satisfied: matplotlib in /usr/local/lib/python3.6/dist-packages (from rl-agents==1.0.dev0) (3.2.2)\n",
            "Requirement already satisfied: seaborn in /usr/local/lib/python3.6/dist-packages (from rl-agents==1.0.dev0) (0.10.1)\n",
            "Requirement already satisfied: six in /usr/local/lib/python3.6/dist-packages (from rl-agents==1.0.dev0) (1.15.0)\n",
            "Requirement already satisfied: docopt in /usr/local/lib/python3.6/dist-packages (from rl-agents==1.0.dev0) (0.6.2)\n",
            "Requirement already satisfied: torch>=1.2.0 in /usr/local/lib/python3.6/dist-packages (from rl-agents==1.0.dev0) (1.6.0+cu101)\n",
            "Collecting tensorboardX\n",
            "\u001b[?25l  Downloading https://files.pythonhosted.org/packages/af/0c/4f41bcd45db376e6fe5c619c01100e9b7531c55791b7244815bac6eac32c/tensorboardX-2.1-py2.py3-none-any.whl (308kB)\n",
            "\u001b[K     |████████████████████████████████| 317kB 3.3MB/s \n",
            "\u001b[?25hRequirement already satisfied: scipy in /usr/local/lib/python3.6/dist-packages (from gym->rl-agents==1.0.dev0) (1.4.1)\n",
            "Requirement already satisfied: cloudpickle<1.4.0,>=1.2.0 in /usr/local/lib/python3.6/dist-packages (from gym->rl-agents==1.0.dev0) (1.3.0)\n",
            "Requirement already satisfied: pyglet<=1.5.0,>=1.4.0 in /usr/local/lib/python3.6/dist-packages (from gym->rl-agents==1.0.dev0) (1.5.0)\n",
            "Requirement already satisfied: python-dateutil>=2.6.1 in /usr/local/lib/python3.6/dist-packages (from pandas->rl-agents==1.0.dev0) (2.8.1)\n",
            "Requirement already satisfied: pytz>=2017.2 in /usr/local/lib/python3.6/dist-packages (from pandas->rl-agents==1.0.dev0) (2018.9)\n",
            "Requirement already satisfied: pyparsing!=2.0.4,!=2.1.2,!=2.1.6,>=2.0.1 in /usr/local/lib/python3.6/dist-packages (from matplotlib->rl-agents==1.0.dev0) (2.4.7)\n",
            "Requirement already satisfied: cycler>=0.10 in /usr/local/lib/python3.6/dist-packages (from matplotlib->rl-agents==1.0.dev0) (0.10.0)\n",
            "Requirement already satisfied: kiwisolver>=1.0.1 in /usr/local/lib/python3.6/dist-packages (from matplotlib->rl-agents==1.0.dev0) (1.2.0)\n",
            "Requirement already satisfied: future in /usr/local/lib/python3.6/dist-packages (from torch>=1.2.0->rl-agents==1.0.dev0) (0.16.0)\n",
            "Requirement already satisfied: protobuf>=3.8.0 in /usr/local/lib/python3.6/dist-packages (from tensorboardX->rl-agents==1.0.dev0) (3.12.4)\n",
            "Requirement already satisfied: setuptools in /usr/local/lib/python3.6/dist-packages (from protobuf>=3.8.0->tensorboardX->rl-agents==1.0.dev0) (50.3.0)\n",
            "Building wheels for collected packages: rl-agents\n",
            "  Building wheel for rl-agents (setup.py) ... \u001b[?25l\u001b[?25hdone\n",
            "  Created wheel for rl-agents: filename=rl_agents-1.0.dev0-cp36-none-any.whl size=100454 sha256=b02ae76d5da64d2520ddf4a0871a73bb5799c8229b883799f1569a3aa4cbf979\n",
            "  Stored in directory: /tmp/pip-ephem-wheel-cache-g8vzq8mv/wheels/be/14/44/bc2b8a73d904f2a421fde80db171e2bae90dfee95f293befca\n",
            "Successfully built rl-agents\n",
            "Installing collected packages: tensorboardX, rl-agents\n",
            "Successfully installed rl-agents-1.0.dev0 tensorboardX-2.1\n"
          ],
          "name": "stdout"
        }
      ]
    },
    {
      "cell_type": "markdown",
      "metadata": {
        "id": "On9_HogRJVBX",
        "colab_type": "text"
      },
      "source": [
        "### ****"
      ]
    },
    {
      "cell_type": "markdown",
      "metadata": {
        "id": "ocySjojwJevp",
        "colab_type": "text"
      },
      "source": [
        "### **Changing to experimentation directory for agent training and performance evaluation**"
      ]
    },
    {
      "cell_type": "code",
      "metadata": {
        "id": "ayjjKWENqhAG",
        "colab_type": "code",
        "colab": {
          "base_uri": "https://localhost:8080/",
          "height": 34
        },
        "outputId": "938dba86-594a-43da-e636-14e0b2cfc08a"
      },
      "source": [
        "!ls"
      ],
      "execution_count": 1,
      "outputs": [
        {
          "output_type": "stream",
          "text": [
            "rl-agents  sample_data\n"
          ],
          "name": "stdout"
        }
      ]
    },
    {
      "cell_type": "code",
      "metadata": {
        "id": "JVBgIt4PkYw_",
        "colab_type": "code",
        "colab": {
          "base_uri": "https://localhost:8080/",
          "height": 52
        },
        "outputId": "709d3e78-5002-4e5e-fb76-1b6666b81e86"
      },
      "source": [
        "%cd rl-agents/scripts/\n",
        "!pwd"
      ],
      "execution_count": 3,
      "outputs": [
        {
          "output_type": "stream",
          "text": [
            "/content/rl-agents/scripts\n",
            "/content/rl-agents/scripts\n"
          ],
          "name": "stdout"
        }
      ]
    },
    {
      "cell_type": "markdown",
      "metadata": {
        "id": "Zx2x-iD1JntR",
        "colab_type": "text"
      },
      "source": [
        "### **Training and performance evaluation of Vanilla MCTS**"
      ]
    },
    {
      "cell_type": "code",
      "metadata": {
        "id": "CVDuavcqkY9W",
        "colab_type": "code",
        "colab": {
          "base_uri": "https://localhost:8080/",
          "height": 402
        },
        "outputId": "af40eb06-cee1-4a6a-ae56-700b9214a99b"
      },
      "source": [
        "!python experiments.py evaluate configs/HighwayEnv/env.json configs/HighwayEnv/agents/MCTSAgent/baseline.json --train --episodes=5"
      ],
      "execution_count": 6,
      "outputs": [
        {
          "output_type": "stream",
          "text": [
            "/usr/local/lib/python3.6/dist-packages/statsmodels/tools/_testing.py:19: FutureWarning: pandas.util.testing is deprecated. Use the functions in the public API at pandas.testing instead.\n",
            "  import pandas.util.testing as tm\n",
            "INFO: Making new env: highway-v0\n",
            "[INFO] NumExpr defaulting to 2 threads. \n",
            "INFO: Creating monitor directory out/HighwayEnv/MCTSAgent/run_20200920-180149_1253\n",
            "ALSA lib confmisc.c:767:(parse_card) cannot find card '0'\n",
            "ALSA lib conf.c:4528:(_snd_config_evaluate) function snd_func_card_driver returned error: No such file or directory\n",
            "ALSA lib confmisc.c:392:(snd_func_concat) error evaluating strings\n",
            "ALSA lib conf.c:4528:(_snd_config_evaluate) function snd_func_concat returned error: No such file or directory\n",
            "ALSA lib confmisc.c:1246:(snd_func_refer) error evaluating name\n",
            "ALSA lib conf.c:4528:(_snd_config_evaluate) function snd_func_refer returned error: No such file or directory\n",
            "ALSA lib conf.c:5007:(snd_config_expand) Evaluate error: No such file or directory\n",
            "ALSA lib pcm.c:2495:(snd_pcm_open_noupdate) Unknown PCM default\n",
            "INFO: Starting new video recorder writing to /content/rl-agents/scripts/out/HighwayEnv/MCTSAgent/run_20200920-180149_1253/openaigym.video.0.1253.video000000.mp4\n",
            "[INFO] Episode 0 score: 33.6 \n",
            "INFO: Starting new video recorder writing to /content/rl-agents/scripts/out/HighwayEnv/MCTSAgent/run_20200920-180149_1253/openaigym.video.0.1253.video000001.mp4\n",
            "[INFO] Episode 1 score: 34.9 \n",
            "[INFO] Episode 2 score: 35.2 \n",
            "[INFO] Episode 3 score: 36.3 \n",
            "[INFO] Episode 4 score: 37.2 \n",
            "INFO: Finished writing results. You can upload them to the scoreboard via gym.upload('/content/rl-agents/scripts/out/HighwayEnv/MCTSAgent/run_20200920-180149_1253')\n"
          ],
          "name": "stdout"
        }
      ]
    },
    {
      "cell_type": "markdown",
      "metadata": {
        "id": "AVnbci74Js0k",
        "colab_type": "text"
      },
      "source": [
        "### **Training and performance evaluation of OPD MCTS**"
      ]
    },
    {
      "cell_type": "code",
      "metadata": {
        "id": "mztiX8A6kZES",
        "colab_type": "code",
        "colab": {
          "base_uri": "https://localhost:8080/",
          "height": 1000
        },
        "outputId": "04687bdb-ec86-47e3-8ed5-ef5895100c70"
      },
      "source": [
        "!python experiments.py evaluate configs/HighwayEnv/env.json configs/HighwayEnv/agents/DeterministicPlannerAgent/baseline.json --train --episodes=5"
      ],
      "execution_count": 7,
      "outputs": [
        {
          "output_type": "stream",
          "text": [
            "/usr/local/lib/python3.6/dist-packages/statsmodels/tools/_testing.py:19: FutureWarning: pandas.util.testing is deprecated. Use the functions in the public API at pandas.testing instead.\n",
            "  import pandas.util.testing as tm\n",
            "INFO: Making new env: highway-v0\n",
            "[INFO] NumExpr defaulting to 2 threads. \n",
            "INFO: Creating monitor directory out/HighwayEnv/DeterministicPlannerAgent/run_20200920-183416_1760\n",
            "ALSA lib confmisc.c:767:(parse_card) cannot find card '0'\n",
            "ALSA lib conf.c:4528:(_snd_config_evaluate) function snd_func_card_driver returned error: No such file or directory\n",
            "ALSA lib confmisc.c:392:(snd_func_concat) error evaluating strings\n",
            "ALSA lib conf.c:4528:(_snd_config_evaluate) function snd_func_concat returned error: No such file or directory\n",
            "ALSA lib confmisc.c:1246:(snd_func_refer) error evaluating name\n",
            "ALSA lib conf.c:4528:(_snd_config_evaluate) function snd_func_refer returned error: No such file or directory\n",
            "ALSA lib conf.c:5007:(snd_config_expand) Evaluate error: No such file or directory\n",
            "ALSA lib pcm.c:2495:(snd_pcm_open_noupdate) Unknown PCM default\n",
            "INFO: Starting new video recorder writing to /content/rl-agents/scripts/out/HighwayEnv/DeterministicPlannerAgent/run_20200920-183416_1760/openaigym.video.0.1760.video000000.mp4\n",
            "[WARNING] Expanding a terminal state \n",
            "[WARNING] Expanding a terminal state \n",
            "[WARNING] Expanding a terminal state \n",
            "[WARNING] Expanding a terminal state \n",
            "[WARNING] Expanding a terminal state \n",
            "[WARNING] Expanding a terminal state \n",
            "[WARNING] Expanding a terminal state \n",
            "[WARNING] Expanding a terminal state \n",
            "[WARNING] Expanding a terminal state \n",
            "[WARNING] Expanding a terminal state \n",
            "[WARNING] Expanding a terminal state \n",
            "[WARNING] Expanding a terminal state \n",
            "[WARNING] Expanding a terminal state \n",
            "[WARNING] Expanding a terminal state \n",
            "[WARNING] Expanding a terminal state \n",
            "[WARNING] Expanding a terminal state \n",
            "[WARNING] Expanding a terminal state \n",
            "[WARNING] Expanding a terminal state \n",
            "[WARNING] Expanding a terminal state \n",
            "[WARNING] Expanding a terminal state \n",
            "[WARNING] Expanding a terminal state \n",
            "[WARNING] Expanding a terminal state \n",
            "[WARNING] Expanding a terminal state \n",
            "[WARNING] Expanding a terminal state \n",
            "[WARNING] Expanding a terminal state \n",
            "[WARNING] Expanding a terminal state \n",
            "[WARNING] Expanding a terminal state \n",
            "[WARNING] Expanding a terminal state \n",
            "[INFO] Episode 0 score: 39.7 \n",
            "INFO: Starting new video recorder writing to /content/rl-agents/scripts/out/HighwayEnv/DeterministicPlannerAgent/run_20200920-183416_1760/openaigym.video.0.1760.video000001.mp4\n",
            "[WARNING] Expanding a terminal state \n",
            "[WARNING] Expanding a terminal state \n",
            "[WARNING] Expanding a terminal state \n",
            "[WARNING] Expanding a terminal state \n",
            "[WARNING] Expanding a terminal state \n",
            "[WARNING] Expanding a terminal state \n",
            "[WARNING] Expanding a terminal state \n",
            "[WARNING] Expanding a terminal state \n",
            "[WARNING] Expanding a terminal state \n",
            "[WARNING] Expanding a terminal state \n",
            "[WARNING] Expanding a terminal state \n",
            "[WARNING] Expanding a terminal state \n",
            "[WARNING] Expanding a terminal state \n",
            "[WARNING] Expanding a terminal state \n",
            "[WARNING] Expanding a terminal state \n",
            "[WARNING] Expanding a terminal state \n",
            "[WARNING] Expanding a terminal state \n",
            "[WARNING] Expanding a terminal state \n",
            "[WARNING] Expanding a terminal state \n",
            "[WARNING] Expanding a terminal state \n",
            "[WARNING] Expanding a terminal state \n",
            "[WARNING] Expanding a terminal state \n",
            "[WARNING] Expanding a terminal state \n",
            "[WARNING] Expanding a terminal state \n",
            "[WARNING] Expanding a terminal state \n",
            "[INFO] Episode 1 score: 39.8 \n",
            "[WARNING] Expanding a terminal state \n",
            "[WARNING] Expanding a terminal state \n",
            "[WARNING] Expanding a terminal state \n",
            "[WARNING] Expanding a terminal state \n",
            "[WARNING] Expanding a terminal state \n",
            "[WARNING] Expanding a terminal state \n",
            "[WARNING] Expanding a terminal state \n",
            "[WARNING] Expanding a terminal state \n",
            "[WARNING] Expanding a terminal state \n",
            "[WARNING] Expanding a terminal state \n",
            "[WARNING] Expanding a terminal state \n",
            "[WARNING] Expanding a terminal state \n",
            "[WARNING] Expanding a terminal state \n",
            "[WARNING] Expanding a terminal state \n",
            "[WARNING] Expanding a terminal state \n",
            "[WARNING] Expanding a terminal state \n",
            "[WARNING] Expanding a terminal state \n",
            "[WARNING] Expanding a terminal state \n",
            "[WARNING] Expanding a terminal state \n",
            "[WARNING] Expanding a terminal state \n",
            "[WARNING] Expanding a terminal state \n",
            "[WARNING] Expanding a terminal state \n",
            "[WARNING] Expanding a terminal state \n",
            "[WARNING] Expanding a terminal state \n",
            "[WARNING] Expanding a terminal state \n",
            "[WARNING] Expanding a terminal state \n",
            "[INFO] Episode 2 score: 39.5 \n",
            "[WARNING] Expanding a terminal state \n",
            "[WARNING] Expanding a terminal state \n",
            "[WARNING] Expanding a terminal state \n",
            "[WARNING] Expanding a terminal state \n",
            "[WARNING] Expanding a terminal state \n",
            "[WARNING] Expanding a terminal state \n",
            "[WARNING] Expanding a terminal state \n",
            "[WARNING] Expanding a terminal state \n",
            "[WARNING] Expanding a terminal state \n",
            "[WARNING] Expanding a terminal state \n",
            "[WARNING] Expanding a terminal state \n",
            "[WARNING] Expanding a terminal state \n",
            "[WARNING] Expanding a terminal state \n",
            "[WARNING] Expanding a terminal state \n",
            "[WARNING] Expanding a terminal state \n",
            "[WARNING] Expanding a terminal state \n",
            "[WARNING] Expanding a terminal state \n",
            "[WARNING] Expanding a terminal state \n",
            "[WARNING] Expanding a terminal state \n",
            "[WARNING] Expanding a terminal state \n",
            "[WARNING] Expanding a terminal state \n",
            "[WARNING] Expanding a terminal state \n",
            "[WARNING] Expanding a terminal state \n",
            "[WARNING] Expanding a terminal state \n",
            "[WARNING] Expanding a terminal state \n",
            "[WARNING] Expanding a terminal state \n",
            "[WARNING] Expanding a terminal state \n",
            "[WARNING] Expanding a terminal state \n",
            "[WARNING] Expanding a terminal state \n",
            "[WARNING] Expanding a terminal state \n",
            "[WARNING] Expanding a terminal state \n",
            "[WARNING] Expanding a terminal state \n",
            "[WARNING] Expanding a terminal state \n",
            "[INFO] Episode 3 score: 39.8 \n",
            "[WARNING] Expanding a terminal state \n",
            "[WARNING] Expanding a terminal state \n",
            "[WARNING] Expanding a terminal state \n",
            "[WARNING] Expanding a terminal state \n",
            "[WARNING] Expanding a terminal state \n",
            "[WARNING] Expanding a terminal state \n",
            "[WARNING] Expanding a terminal state \n",
            "[WARNING] Expanding a terminal state \n",
            "[WARNING] Expanding a terminal state \n",
            "[WARNING] Expanding a terminal state \n",
            "[WARNING] Expanding a terminal state \n",
            "[WARNING] Expanding a terminal state \n",
            "[WARNING] Expanding a terminal state \n",
            "[WARNING] Expanding a terminal state \n",
            "[WARNING] Expanding a terminal state \n",
            "[WARNING] Expanding a terminal state \n",
            "[WARNING] Expanding a terminal state \n",
            "[WARNING] Expanding a terminal state \n",
            "[WARNING] Expanding a terminal state \n",
            "[WARNING] Expanding a terminal state \n",
            "[WARNING] Expanding a terminal state \n",
            "[WARNING] Expanding a terminal state \n",
            "[WARNING] Expanding a terminal state \n",
            "[WARNING] Expanding a terminal state \n",
            "[WARNING] Expanding a terminal state \n",
            "[WARNING] Expanding a terminal state \n",
            "[WARNING] Expanding a terminal state \n",
            "[WARNING] Expanding a terminal state \n",
            "[WARNING] Expanding a terminal state \n",
            "[WARNING] Expanding a terminal state \n",
            "[WARNING] Expanding a terminal state \n",
            "[WARNING] Expanding a terminal state \n",
            "[WARNING] Expanding a terminal state \n",
            "[INFO] Episode 4 score: 39.2 \n",
            "INFO: Finished writing results. You can upload them to the scoreboard via gym.upload('/content/rl-agents/scripts/out/HighwayEnv/DeterministicPlannerAgent/run_20200920-183416_1760')\n"
          ],
          "name": "stdout"
        }
      ]
    },
    {
      "cell_type": "markdown",
      "metadata": {
        "id": "voTPWb0MJ0Rq",
        "colab_type": "text"
      },
      "source": [
        "### **Training and performance evaluation of GAPE MCTS**"
      ]
    },
    {
      "cell_type": "code",
      "metadata": {
        "id": "cS0Ayd0GkY6s",
        "colab_type": "code",
        "colab": {
          "base_uri": "https://localhost:8080/",
          "height": 402
        },
        "outputId": "33453c4e-462b-49ca-fe28-5d697ae0bcd2"
      },
      "source": [
        "!python experiments.py evaluate configs/HighwayEnv/env.json configs/HighwayEnv/agents/MDPGapEAgent/baseline.json --train --episodes=5"
      ],
      "execution_count": 10,
      "outputs": [
        {
          "output_type": "stream",
          "text": [
            "/usr/local/lib/python3.6/dist-packages/statsmodels/tools/_testing.py:19: FutureWarning: pandas.util.testing is deprecated. Use the functions in the public API at pandas.testing instead.\n",
            "  import pandas.util.testing as tm\n",
            "INFO: Making new env: highway-v0\n",
            "[INFO] NumExpr defaulting to 2 threads. \n",
            "INFO: Creating monitor directory out/HighwayEnv/MDPGapEAgent/run_20200920-190245_1944\n",
            "ALSA lib confmisc.c:767:(parse_card) cannot find card '0'\n",
            "ALSA lib conf.c:4528:(_snd_config_evaluate) function snd_func_card_driver returned error: No such file or directory\n",
            "ALSA lib confmisc.c:392:(snd_func_concat) error evaluating strings\n",
            "ALSA lib conf.c:4528:(_snd_config_evaluate) function snd_func_concat returned error: No such file or directory\n",
            "ALSA lib confmisc.c:1246:(snd_func_refer) error evaluating name\n",
            "ALSA lib conf.c:4528:(_snd_config_evaluate) function snd_func_refer returned error: No such file or directory\n",
            "ALSA lib conf.c:5007:(snd_config_expand) Evaluate error: No such file or directory\n",
            "ALSA lib pcm.c:2495:(snd_pcm_open_noupdate) Unknown PCM default\n",
            "INFO: Starting new video recorder writing to /content/rl-agents/scripts/out/HighwayEnv/MDPGapEAgent/run_20200920-190245_1944/openaigym.video.0.1944.video000000.mp4\n",
            "[INFO] Episode 0 score: 39.1 \n",
            "INFO: Starting new video recorder writing to /content/rl-agents/scripts/out/HighwayEnv/MDPGapEAgent/run_20200920-190245_1944/openaigym.video.0.1944.video000001.mp4\n",
            "[INFO] Episode 1 score: 38.7 \n",
            "[INFO] Episode 2 score: 37.3 \n",
            "[INFO] Episode 3 score: 38.8 \n",
            "[INFO] Episode 4 score: 37.6 \n",
            "INFO: Finished writing results. You can upload them to the scoreboard via gym.upload('/content/rl-agents/scripts/out/HighwayEnv/MDPGapEAgent/run_20200920-190245_1944')\n"
          ],
          "name": "stdout"
        }
      ]
    },
    {
      "cell_type": "markdown",
      "metadata": {
        "id": "3XyNXMx0J_9E",
        "colab_type": "text"
      },
      "source": [
        "### **Downloading output and logs generated from training these agents**"
      ]
    },
    {
      "cell_type": "code",
      "metadata": {
        "id": "5A6QwhQYkY43",
        "colab_type": "code",
        "colab": {
          "base_uri": "https://localhost:8080/",
          "height": 1000
        },
        "outputId": "e57179c5-90a5-4a4d-86da-159a5dd994d6"
      },
      "source": [
        "# zipping the video folder for the given SARSA agent.\n",
        "!zip -r /content/file.zip /content/rl-agents/scripts/out/\n",
        "# downloading the file resource.\n",
        "from google.colab import files\n",
        "files.download(\"/content/file.zip\")"
      ],
      "execution_count": 13,
      "outputs": [
        {
          "output_type": "stream",
          "text": [
            "  adding: content/rl-agents/scripts/out/ (stored 0%)\n",
            "  adding: content/rl-agents/scripts/out/HighwayEnv/ (stored 0%)\n",
            "  adding: content/rl-agents/scripts/out/HighwayEnv/MCTSAgent/ (stored 0%)\n",
            "  adding: content/rl-agents/scripts/out/HighwayEnv/MCTSAgent/run_20200920-180149_1253/ (stored 0%)\n",
            "  adding: content/rl-agents/scripts/out/HighwayEnv/MCTSAgent/run_20200920-180149_1253/openaigym.video.0.1253.video000000.mp4 (deflated 2%)\n",
            "  adding: content/rl-agents/scripts/out/HighwayEnv/MCTSAgent/run_20200920-180149_1253/openaigym.video.0.1253.video000000.meta.json (deflated 59%)\n",
            "  adding: content/rl-agents/scripts/out/HighwayEnv/MCTSAgent/run_20200920-180149_1253/openaigym.episode_batch.0.1253.stats.json (deflated 79%)\n",
            "  adding: content/rl-agents/scripts/out/HighwayEnv/MCTSAgent/run_20200920-180149_1253/logging.0.1253.log (deflated 98%)\n",
            "  adding: content/rl-agents/scripts/out/HighwayEnv/MCTSAgent/run_20200920-180149_1253/openaigym.video.0.1253.video000001.meta.json (deflated 59%)\n",
            "  adding: content/rl-agents/scripts/out/HighwayEnv/MCTSAgent/run_20200920-180149_1253/events.out.tfevents.1600624909.68a53d2ff510 (deflated 61%)\n",
            "  adding: content/rl-agents/scripts/out/HighwayEnv/MCTSAgent/run_20200920-180149_1253/openaigym.video.0.1253.video000001.mp4 (deflated 2%)\n",
            "  adding: content/rl-agents/scripts/out/HighwayEnv/MCTSAgent/run_20200920-180149_1253/metadata.0.1253.json (deflated 62%)\n",
            "  adding: content/rl-agents/scripts/out/HighwayEnv/MCTSAgent/run_20200920-180149_1253/openaigym.manifest.0.1253.manifest.json (deflated 54%)\n",
            "  adding: content/rl-agents/scripts/out/HighwayEnv/MCTSAgent/run_20200920-180051_1219/ (stored 0%)\n",
            "  adding: content/rl-agents/scripts/out/HighwayEnv/MCTSAgent/run_20200920-180051_1219/events.out.tfevents.1600624851.68a53d2ff510 (deflated 5%)\n",
            "  adding: content/rl-agents/scripts/out/HighwayEnv/MCTSAgent/run_20200920-180051_1219/openaigym.manifest.0.1219.manifest.json (deflated 17%)\n",
            "  adding: content/rl-agents/scripts/out/HighwayEnv/MCTSAgent/run_20200920-180051_1219/metadata.0.1219.json (deflated 62%)\n",
            "  adding: content/rl-agents/scripts/out/HighwayEnv/MCTSAgent/run_20200920-180051_1219/openaigym.episode_batch.0.1219.stats.json (deflated 49%)\n",
            "  adding: content/rl-agents/scripts/out/HighwayEnv/MCTSAgent/run_20200920-180051_1219/logging.0.1219.log (stored 0%)\n",
            "  adding: content/rl-agents/scripts/out/HighwayEnv/MCTSAgent/saved_models/ (stored 0%)\n",
            "  adding: content/rl-agents/scripts/out/HighwayEnv/PlaTyPOOSAgent/ (stored 0%)\n",
            "  adding: content/rl-agents/scripts/out/HighwayEnv/PlaTyPOOSAgent/run_20200920-190200_1880/ (stored 0%)\n",
            "  adding: content/rl-agents/scripts/out/HighwayEnv/PlaTyPOOSAgent/run_20200920-190200_1880/metadata.0.1880.json (deflated 59%)\n",
            "  adding: content/rl-agents/scripts/out/HighwayEnv/PlaTyPOOSAgent/run_20200920-190200_1880/openaigym.video.0.1880.video000000.meta.json (deflated 3%)\n",
            "  adding: content/rl-agents/scripts/out/HighwayEnv/PlaTyPOOSAgent/run_20200920-190200_1880/events.out.tfevents.1600628520.68a53d2ff510 (deflated 5%)\n",
            "  adding: content/rl-agents/scripts/out/HighwayEnv/PlaTyPOOSAgent/run_20200920-190200_1880/openaigym.episode_batch.0.1880.stats.json (deflated 43%)\n",
            "  adding: content/rl-agents/scripts/out/HighwayEnv/PlaTyPOOSAgent/run_20200920-190200_1880/openaigym.manifest.0.1880.manifest.json (deflated 40%)\n",
            "  adding: content/rl-agents/scripts/out/HighwayEnv/PlaTyPOOSAgent/run_20200920-190200_1880/logging.0.1880.log (stored 0%)\n",
            "  adding: content/rl-agents/scripts/out/HighwayEnv/PlaTyPOOSAgent/run_20200920-190237_1915/ (stored 0%)\n",
            "  adding: content/rl-agents/scripts/out/HighwayEnv/PlaTyPOOSAgent/run_20200920-190237_1915/openaigym.video.0.1915.video000000.meta.json (deflated 3%)\n",
            "  adding: content/rl-agents/scripts/out/HighwayEnv/PlaTyPOOSAgent/run_20200920-190237_1915/metadata.0.1915.json (deflated 59%)\n",
            "  adding: content/rl-agents/scripts/out/HighwayEnv/PlaTyPOOSAgent/run_20200920-190237_1915/events.out.tfevents.1600628557.68a53d2ff510 (deflated 5%)\n",
            "  adding: content/rl-agents/scripts/out/HighwayEnv/PlaTyPOOSAgent/run_20200920-190237_1915/openaigym.episode_batch.0.1915.stats.json (deflated 43%)\n",
            "  adding: content/rl-agents/scripts/out/HighwayEnv/PlaTyPOOSAgent/run_20200920-190237_1915/openaigym.manifest.0.1915.manifest.json (deflated 40%)\n",
            "  adding: content/rl-agents/scripts/out/HighwayEnv/PlaTyPOOSAgent/run_20200920-190237_1915/logging.0.1915.log (stored 0%)\n",
            "  adding: content/rl-agents/scripts/out/HighwayEnv/DeterministicPlannerAgent/ (stored 0%)\n",
            "  adding: content/rl-agents/scripts/out/HighwayEnv/DeterministicPlannerAgent/run_20200920-183416_1760/ (stored 0%)\n",
            "  adding: content/rl-agents/scripts/out/HighwayEnv/DeterministicPlannerAgent/run_20200920-183416_1760/openaigym.manifest.0.1760.manifest.json (deflated 54%)\n",
            "  adding: content/rl-agents/scripts/out/HighwayEnv/DeterministicPlannerAgent/run_20200920-183416_1760/openaigym.episode_batch.0.1760.stats.json (deflated 92%)\n",
            "  adding: content/rl-agents/scripts/out/HighwayEnv/DeterministicPlannerAgent/run_20200920-183416_1760/metadata.0.1760.json (deflated 60%)\n",
            "  adding: content/rl-agents/scripts/out/HighwayEnv/DeterministicPlannerAgent/run_20200920-183416_1760/events.out.tfevents.1600626856.68a53d2ff510 (deflated 58%)\n",
            "  adding: content/rl-agents/scripts/out/HighwayEnv/DeterministicPlannerAgent/run_20200920-183416_1760/logging.0.1760.log (deflated 99%)\n",
            "  adding: content/rl-agents/scripts/out/HighwayEnv/DeterministicPlannerAgent/run_20200920-183416_1760/openaigym.video.0.1760.video000000.meta.json (deflated 59%)\n",
            "  adding: content/rl-agents/scripts/out/HighwayEnv/DeterministicPlannerAgent/run_20200920-183416_1760/openaigym.video.0.1760.video000001.mp4 (deflated 4%)\n",
            "  adding: content/rl-agents/scripts/out/HighwayEnv/DeterministicPlannerAgent/run_20200920-183416_1760/openaigym.video.0.1760.video000001.meta.json (deflated 59%)\n",
            "  adding: content/rl-agents/scripts/out/HighwayEnv/DeterministicPlannerAgent/run_20200920-183416_1760/openaigym.video.0.1760.video000000.mp4 (deflated 4%)\n",
            "  adding: content/rl-agents/scripts/out/HighwayEnv/DeterministicPlannerAgent/saved_models/ (stored 0%)\n",
            "  adding: content/rl-agents/scripts/out/HighwayEnv/MDPGapEAgent/ (stored 0%)\n",
            "  adding: content/rl-agents/scripts/out/HighwayEnv/MDPGapEAgent/run_20200920-190245_1944/ (stored 0%)\n",
            "  adding: content/rl-agents/scripts/out/HighwayEnv/MDPGapEAgent/run_20200920-190245_1944/events.out.tfevents.1600628565.68a53d2ff510 (deflated 57%)\n",
            "  adding: content/rl-agents/scripts/out/HighwayEnv/MDPGapEAgent/run_20200920-190245_1944/openaigym.video.0.1944.video000001.meta.json (deflated 59%)\n",
            "  adding: content/rl-agents/scripts/out/HighwayEnv/MDPGapEAgent/run_20200920-190245_1944/openaigym.video.0.1944.video000001.mp4 (deflated 6%)\n",
            "  adding: content/rl-agents/scripts/out/HighwayEnv/MDPGapEAgent/run_20200920-190245_1944/openaigym.episode_batch.0.1944.stats.json (deflated 84%)\n",
            "  adding: content/rl-agents/scripts/out/HighwayEnv/MDPGapEAgent/run_20200920-190245_1944/metadata.0.1944.json (deflated 61%)\n",
            "  adding: content/rl-agents/scripts/out/HighwayEnv/MDPGapEAgent/run_20200920-190245_1944/openaigym.manifest.0.1944.manifest.json (deflated 54%)\n",
            "  adding: content/rl-agents/scripts/out/HighwayEnv/MDPGapEAgent/run_20200920-190245_1944/openaigym.video.0.1944.video000000.meta.json (deflated 59%)\n",
            "  adding: content/rl-agents/scripts/out/HighwayEnv/MDPGapEAgent/run_20200920-190245_1944/logging.0.1944.log (deflated 94%)\n",
            "  adding: content/rl-agents/scripts/out/HighwayEnv/MDPGapEAgent/run_20200920-190245_1944/openaigym.video.0.1944.video000000.mp4 (deflated 6%)\n",
            "  adding: content/rl-agents/scripts/out/HighwayEnv/MDPGapEAgent/saved_models/ (stored 0%)\n"
          ],
          "name": "stdout"
        },
        {
          "output_type": "display_data",
          "data": {
            "application/javascript": [
              "\n",
              "    async function download(id, filename, size) {\n",
              "      if (!google.colab.kernel.accessAllowed) {\n",
              "        return;\n",
              "      }\n",
              "      const div = document.createElement('div');\n",
              "      const label = document.createElement('label');\n",
              "      label.textContent = `Downloading \"${filename}\": `;\n",
              "      div.appendChild(label);\n",
              "      const progress = document.createElement('progress');\n",
              "      progress.max = size;\n",
              "      div.appendChild(progress);\n",
              "      document.body.appendChild(div);\n",
              "\n",
              "      const buffers = [];\n",
              "      let downloaded = 0;\n",
              "\n",
              "      const channel = await google.colab.kernel.comms.open(id);\n",
              "      // Send a message to notify the kernel that we're ready.\n",
              "      channel.send({})\n",
              "\n",
              "      for await (const message of channel.messages) {\n",
              "        // Send a message to notify the kernel that we're ready.\n",
              "        channel.send({})\n",
              "        if (message.buffers) {\n",
              "          for (const buffer of message.buffers) {\n",
              "            buffers.push(buffer);\n",
              "            downloaded += buffer.byteLength;\n",
              "            progress.value = downloaded;\n",
              "          }\n",
              "        }\n",
              "      }\n",
              "      const blob = new Blob(buffers, {type: 'application/binary'});\n",
              "      const a = document.createElement('a');\n",
              "      a.href = window.URL.createObjectURL(blob);\n",
              "      a.download = filename;\n",
              "      div.appendChild(a);\n",
              "      a.click();\n",
              "      div.remove();\n",
              "    }\n",
              "  "
            ],
            "text/plain": [
              "<IPython.core.display.Javascript object>"
            ]
          },
          "metadata": {
            "tags": []
          }
        },
        {
          "output_type": "display_data",
          "data": {
            "application/javascript": [
              "download(\"download_2ad5c6e6-7918-45b7-9c60-43b1fb096406\", \"file.zip\", 1643744)"
            ],
            "text/plain": [
              "<IPython.core.display.Javascript object>"
            ]
          },
          "metadata": {
            "tags": []
          }
        }
      ]
    },
    {
      "cell_type": "markdown",
      "metadata": {
        "id": "FY6-S88iKHne",
        "colab_type": "text"
      },
      "source": [
        "### **Commentary about results and model practical outputs**\n",
        "\n",
        "#### **Model training result summary**\n",
        "\n",
        "_From below results we do find out that OPD MCTS out-performs other variant of MCTS algorithms._\n",
        "\n",
        "MCTS Agents | Iter Reward #1 | Iter Reward #2 | Iter Reward #3 | Iter Reward #4 | Iter Reward #5 | #Avg Reward |\n",
        "--- | --- | --- | --- |--- |--- |--- |\n",
        "Vanilla MCTS | 33.6 | 34.9 | 35.2 | 36.3 | 37.2 | 35.44 |\n",
        "OPD MCTS | 39.7 | 39.8 | 39.5 | 39.8 | 39.2 | __39.6__ |\n",
        "GAPE MCTS | 39.1 | 38.7 | 37.3 | 38.8 | 37.6 | 38.3 |\n",
        "\n",
        "---\n",
        "\n",
        "#### **Output Insights**\n",
        "\n",
        "_OPD MCTS_ has the highest reward gained because the agent makes conscious choices to stay at the rightmost lane as much as possible. Whereas, _Vanilla MCTS_ does attempt to explore other lanes as well but eventually fails to achieve maximum speed through traffic leading to reduced rewards. Finally, _GAPE MCTS_ explores other lanes as well along with maintaining a good speed to achieve very good reward results closer to _OPD MCTS_ algorithm.\n"
      ]
    },
    {
      "cell_type": "code",
      "metadata": {
        "id": "gtWs3b96P7_q",
        "colab_type": "code",
        "colab": {}
      },
      "source": [
        ""
      ],
      "execution_count": null,
      "outputs": []
    }
  ]
}
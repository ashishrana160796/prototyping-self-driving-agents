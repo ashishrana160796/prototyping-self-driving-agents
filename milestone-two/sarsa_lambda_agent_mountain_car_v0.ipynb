{
  "nbformat": 4,
  "nbformat_minor": 0,
  "metadata": {
    "colab": {
      "name": "sarsa-lambda-agent-mountain-car-v0.ipynb",
      "provenance": [],
      "collapsed_sections": []
    },
    "kernelspec": {
      "name": "python3",
      "display_name": "Python 3"
    }
  },
  "cells": [
    {
      "cell_type": "markdown",
      "metadata": {
        "id": "rbyBw1JSUqq4",
        "colab_type": "text"
      },
      "source": [
        "### **Rendering component declaration.**"
      ]
    },
    {
      "cell_type": "code",
      "metadata": {
        "id": "v0bElIEbNDBW",
        "colab_type": "code",
        "colab": {}
      },
      "source": [
        "# imports for setting up display for the colab server.\n",
        "!sudo apt-get update  > /dev/null 2>&1\n",
        "!sudo apt-get install -y xvfb x11-utils  > /dev/null 2>&1\n",
        "!pip install gym==0.17.* pyvirtualdisplay==0.2.* PyOpenGL==3.1.* PyOpenGL-accelerate==3.1.*  > /dev/null 2>&1"
      ],
      "execution_count": 1,
      "outputs": []
    },
    {
      "cell_type": "code",
      "metadata": {
        "id": "C2c-Cso8Ncrv",
        "colab_type": "code",
        "colab": {}
      },
      "source": [
        "# gym related import statements.\n",
        "import gym\n",
        "from gym import logger as gymlogger\n",
        "from gym.wrappers import Monitor\n",
        "gymlogger.set_level(40) #error only\n",
        "# RL agent construction related imports.\n",
        "import numpy as np\n",
        "np.random.seed(0)\n",
        "import matplotlib.pyplot as plt\n",
        "from scipy.special import softmax\n",
        "# virtual display related import statements.\n",
        "import math\n",
        "import glob\n",
        "import io\n",
        "import base64\n",
        "import time\n",
        "from time import sleep\n",
        "from tqdm import tqdm\n",
        "from IPython.display import HTML\n",
        "from IPython import display as ipythondisplay"
      ],
      "execution_count": 2,
      "outputs": []
    },
    {
      "cell_type": "code",
      "metadata": {
        "id": "pK-v2iaPNeFC",
        "colab_type": "code",
        "colab": {
          "base_uri": "https://localhost:8080/",
          "height": 54
        },
        "outputId": "c0bdcb01-163d-434e-975c-728f705f3655"
      },
      "source": [
        "# This creates virtual display to send the frames for being rendered.\n",
        "from pyvirtualdisplay import Display\n",
        "display = Display(visible=0, size=(1366, 768))\n",
        "display.start()"
      ],
      "execution_count": 3,
      "outputs": [
        {
          "output_type": "execute_result",
          "data": {
            "text/plain": [
              "<Display cmd_param=['Xvfb', '-br', '-nolisten', 'tcp', '-screen', '0', '1366x768x24', ':1009'] cmd=['Xvfb', '-br', '-nolisten', 'tcp', '-screen', '0', '1366x768x24', ':1009'] oserror=None return_code=None stdout=\"None\" stderr=\"None\" timeout_happened=False>"
            ]
          },
          "metadata": {
            "tags": []
          },
          "execution_count": 3
        }
      ]
    },
    {
      "cell_type": "code",
      "metadata": {
        "id": "bmJAvL9mNeDl",
        "colab_type": "code",
        "colab": {}
      },
      "source": [
        "def show_video():\n",
        "    '''\n",
        "    This function loads the data video inline into the colab notebook.\n",
        "    By reading the video stored by the Monitor class.\n",
        "    '''\n",
        "    mp4list = glob.glob('video/*.mp4')\n",
        "    if len(mp4list) > 0:\n",
        "        mp4 = mp4list[0]\n",
        "        video = io.open(mp4, 'r+b').read()\n",
        "        encoded = base64.b64encode(video)\n",
        "        ipythondisplay.display(HTML(data='''<video alt=\"test\" autoplay \n",
        "                loop controls style=\"height: 400px;\">\n",
        "                <source src=\"data:video/mp4;base64,{0}\" type=\"video/mp4\" />\n",
        "             </video>'''.format(encoded.decode('ascii'))))\n",
        "    else: \n",
        "        print(\"Could not find video\")\n",
        "    \n",
        "\n",
        "def wrap_env(env):\n",
        "    '''\n",
        "    This monitoring tool records the outputs from the output and saves it a\n",
        "    mp4 file in the stated directory. If we don't change the video directory\n",
        "    the videos will get stored in 'content/' directory.\n",
        "    '''\n",
        "    env = Monitor(env, './video', force=True)\n",
        "    return env"
      ],
      "execution_count": 4,
      "outputs": []
    },
    {
      "cell_type": "markdown",
      "metadata": {
        "id": "T_b-FfepUaYf",
        "colab_type": "text"
      },
      "source": [
        "### **SARSA(Lambda) Algorithm Implementation for MountainCarV0 Environment**\n",
        "\n",
        "__The implementation consists of below stated sections:__  \n",
        "* __Agent class decleration and parsing environment.__\n",
        "* __SARSA(LAMBDA) Algorithm Implementation.__\n",
        "* __Plotting results, outputting results and downloading them.__"
      ]
    },
    {
      "cell_type": "markdown",
      "metadata": {
        "id": "HimvaT2cVWtl",
        "colab_type": "text"
      },
      "source": [
        "### **Agent Class Decleration and Parsing Environment**"
      ]
    },
    {
      "cell_type": "code",
      "metadata": {
        "id": "BfFnSKBTNd-3",
        "colab_type": "code",
        "colab": {}
      },
      "source": [
        "# This environment has two degrees of freedom: position and velocity.\n",
        "# Our agent will learn to interact with environment having these two values.\n",
        "class State:\n",
        "    def __init__(self):\n",
        "        self.pos = None\n",
        "        self.vel = None\n",
        "\n",
        "# Agent class defined for storing all the agent related values.\n",
        "# and getting actions from the policy. Here, target policy is same as behavior policy.\n",
        "class Agent:\n",
        "    def __init__(self, env):\n",
        "        self.velocity_lim = np.array([env.observation_space.low[1], env.observation_space.high[1]])\n",
        "        self.position_lim = np.array([env.observation_space.low[0], env.observation_space.high[0]])\n",
        "\n",
        "        self.velocity_step, self.position_step = 0.005, 0.1\n",
        "        self.velocity_space = np.arange(self.velocity_lim[0], self.velocity_lim[1] \n",
        "                                       + self.velocity_step, self.velocity_step)\n",
        "        self.position_space = np.arange(self.position_lim[0], self.position_lim[1] \n",
        "                                       + self.position_step, self.position_step)\n",
        "        self.m, self.n, self.n_action = len(self.velocity_space), len(self.position_space), 3\n",
        "        self.Q_sa = np.full(shape = (self.m, self.n, 3),\n",
        "                                       fill_value = 0.0, dtype = np.float32)\n",
        "        self.collective_record = []\n",
        "        self.success = []\n",
        "        \n",
        "    def get_action_value_index(self, state):\n",
        "        pos_offset = state[0] - self.position_lim[0]\n",
        "        vel_offset = state[1] - self.velocity_lim[0]\n",
        "        pos_ind = pos_offset // self.position_step\n",
        "        vel_ind = vel_offset // self.velocity_step\n",
        "        \n",
        "        return np.array([vel_ind, pos_ind], dtype= np.int)\n",
        "  \n",
        "    def get_action(self, state):\n",
        "        ind = self.get_action_value_index(state, 0)\n",
        "        p = self.Policy[ind[0], ind[1], :]\n",
        "        action = np.random.choice([0, 1, 2], size = 1, p = p)\n",
        "        return action[0]"
      ],
      "execution_count": 5,
      "outputs": []
    },
    {
      "cell_type": "code",
      "metadata": {
        "id": "GGboRMamNd9V",
        "colab_type": "code",
        "colab": {
          "base_uri": "https://localhost:8080/",
          "height": 34
        },
        "outputId": "ea612a40-651e-4e29-925a-7c2d63375e2f"
      },
      "source": [
        "# Wraping the environment in the Monitor class.\n",
        "env = wrap_env(gym.make('MountainCar-v0'))\n",
        "# Fixing the randomness in the environment.\n",
        "env.seed(0)"
      ],
      "execution_count": 6,
      "outputs": [
        {
          "output_type": "execute_result",
          "data": {
            "text/plain": [
              "[0]"
            ]
          },
          "metadata": {
            "tags": []
          },
          "execution_count": 6
        }
      ]
    },
    {
      "cell_type": "code",
      "metadata": {
        "id": "mMOoqYJLNd7b",
        "colab_type": "code",
        "colab": {
          "base_uri": "https://localhost:8080/",
          "height": 34
        },
        "outputId": "fb0c479e-0f8e-4756-ebce-d09c2523cd21"
      },
      "source": [
        "# Parsing the environment onto Agent object.\n",
        "sarsa_agent = Agent(env)\n",
        "# For some information into Q(s,a) table generated.\n",
        "# It's dimension is equal to A(Q(s,a)) = n[D(1)]*n[D(2)]*...*n[D(f)]*n(D(actions))\n",
        "print(\"Q Shape = \",sarsa_agent.Q_sa.shape)"
      ],
      "execution_count": 7,
      "outputs": [
        {
          "output_type": "stream",
          "text": [
            "Q Shape =  (30, 20, 3)\n"
          ],
          "name": "stdout"
        }
      ]
    },
    {
      "cell_type": "markdown",
      "metadata": {
        "id": "i0pdX8PZVhJ_",
        "colab_type": "text"
      },
      "source": [
        "### **SARSA(Lambda) algorithm implementation.**"
      ]
    },
    {
      "cell_type": "code",
      "metadata": {
        "id": "DY1QFYC3Nd5k",
        "colab_type": "code",
        "colab": {
          "base_uri": "https://localhost:8080/",
          "height": 34
        },
        "outputId": "ac43e948-fc90-4b1b-b03d-e0bb7a314bcc"
      },
      "source": [
        "# SARSA(lambda) algorithm takes part from TD(0) and TD(1) algorithm.\n",
        "\n",
        "eps = 0.8 # greedy epsilon exploration-vs-exploitation variable.\n",
        "changed_eps= []\n",
        "changes_alpha= []\n",
        "alpha = 0.2 # learning rate value\n",
        "lambda_val = 0.8 # credit assignment variable to previous states.\n",
        "alpha_decay = 0.999\n",
        "eps_decay = 0.995\n",
        "sarsa_agent.e = np.zeros(shape = (sarsa_agent.m, sarsa_agent.n, 3)) # eligibility of all states.\n",
        "finish = False\n",
        "num_iter = 2000\n",
        "for i_eps in tqdm(range(1, num_iter + 1)):\n",
        "    state = env.reset()\n",
        "    sarsa_agent.e[:, :, :] = 0\n",
        "    gamma = 1.0\n",
        "    ind = sarsa_agent.get_action_value_index(state)\n",
        "    # greedy exploration and exploitation step.\n",
        "    if np.random.random() < 1 - eps:\n",
        "        action = np.argmax(sarsa_agent.Q_sa[ind[0], ind[1], :]) \n",
        "    else:\n",
        "        action = np.random.randint(0, 3)\n",
        "    # running episodes for 200 times for this environment.\n",
        "    for t in range(201):\n",
        "        ind = sarsa_agent.get_action_value_index(state)\n",
        "        next_state, reward, done, info = env.step(action)\n",
        "        next_ind = sarsa_agent.get_action_value_index(next_state)\n",
        "        \n",
        "        if np.random.random() < 1 - eps:\n",
        "            next_action = np.argmax(sarsa_agent.Q_sa[next_ind[0], next_ind[1], :]) \n",
        "        else: \n",
        "            next_action = np.random.randint(0, 3)\n",
        "        \n",
        "        # forward view T(lambda) SARSA equation for making updates.\n",
        "        delta = reward + gamma * sarsa_agent.Q_sa[next_ind[0],next_ind[1], next_action] - sarsa_agent.Q_sa[ind[0],ind[1],action]\n",
        "        sarsa_agent.e[ind[0],ind[1],action] += 1\n",
        "        sarsa_agent.Q_sa = np.add(sarsa_agent.Q_sa, np.multiply(alpha * delta, sarsa_agent.e))\n",
        "        sarsa_agent.e = np.multiply(gamma * lambda_val, sarsa_agent.e)\n",
        "        \n",
        "        if done: \n",
        "            if t < 199:\n",
        "                sarsa_agent.success.append((i_eps, t))\n",
        "            sarsa_agent.collective_record.append(-t)\n",
        "            eps = max(0.0, eps * eps_decay)\n",
        "            alpha = max(0.0, alpha * alpha_decay)\n",
        "            break\n",
        "        state = next_state\n",
        "        action = next_action"
      ],
      "execution_count": 8,
      "outputs": [
        {
          "output_type": "stream",
          "text": [
            "100%|██████████| 2000/2000 [00:52<00:00, 37.97it/s] \n"
          ],
          "name": "stderr"
        }
      ]
    },
    {
      "cell_type": "markdown",
      "metadata": {
        "id": "2HWx94kGVmys",
        "colab_type": "text"
      },
      "source": [
        "### **Plotting reward fuction resuls and displaying output.**"
      ]
    },
    {
      "cell_type": "code",
      "metadata": {
        "id": "w3hpsKxyNd3j",
        "colab_type": "code",
        "colab": {
          "base_uri": "https://localhost:8080/",
          "height": 334
        },
        "outputId": "a64ed290-b1b9-4f49-f42d-c803880937f3"
      },
      "source": [
        "# This graph shows the saturation of rewards to a minimum under 1000 episodes.\n",
        "fig, ax = plt.subplots(figsize = (9, 5))\n",
        "plt.plot(sarsa_agent.collective_record[:],'.')\n",
        "plt.yticks(range(-110, -200, -10))\n",
        "plt.ylabel(\"reward function values\")\n",
        "plt.xlabel(\"episode number count\")\n",
        "plt.grid()\n",
        "plt.show()"
      ],
      "execution_count": 9,
      "outputs": [
        {
          "output_type": "display_data",
          "data": {
            "image/png": "[encoded data removed]",
            "text/plain": [
              "<Figure size 648x360 with 1 Axes>"
            ]
          },
          "metadata": {
            "tags": [],
            "needs_background": "light"
          }
        }
      ]
    },
    {
      "cell_type": "code",
      "metadata": {
        "id": "UTl8JwLQNd0d",
        "colab_type": "code",
        "colab": {}
      },
      "source": [
        "# Calculating the mean performance of the agent.\n",
        "for i_eps in (range(1, 100)):\n",
        "    state = env.reset()\n",
        "    gamma = 1.0\n",
        "    ind = sarsa_agent.get_action_value_index(state)\n",
        "    action = np.argmax(sarsa_agent.Q_sa[ind[0], ind[1], :]) \n",
        "    \n",
        "    for t in range(201):\n",
        "        env.render()\n",
        "        ind = sarsa_agent.get_action_value_index(state)\n",
        "        next_state, reward, done, info = env.step(action)\n",
        "        next_ind = sarsa_agent.get_action_value_index(next_state)\n",
        "        \n",
        "        next_action = np.argmax(sarsa_agent.Q_sa[next_ind[0], next_ind[1], :])\n",
        "        \n",
        "        if done: \n",
        "            if t < 199:\n",
        "                sarsa_agent.success.append((i_eps, t))\n",
        "            sarsa_agent.collective_record.append(-t)\n",
        "            sleep(1)\n",
        "            break\n",
        "        state = next_state\n",
        "        action = next_action\n",
        "        "
      ],
      "execution_count": 10,
      "outputs": []
    },
    {
      "cell_type": "code",
      "metadata": {
        "id": "B5OUOC5xNdyl",
        "colab_type": "code",
        "colab": {
          "base_uri": "https://localhost:8080/",
          "height": 350
        },
        "outputId": "1e22e258-e8f4-4258-d1fc-d5741c080369"
      },
      "source": [
        "# Plotting the mean performance of the agent.\n",
        "fig, ax = plt.subplots(figsize = (9, 5))\n",
        "plt.plot(sarsa_agent.collective_record[-100:], '-')\n",
        "plt.yticks(range(-110, -200, -10))\n",
        "plt.title(\"Test Results\")\n",
        "plt.ylabel(\"Mean reward function value\")\n",
        "plt.xlabel(\"Episode number count\")\n",
        "plt.grid()\n",
        "plt.show()"
      ],
      "execution_count": 11,
      "outputs": [
        {
          "output_type": "display_data",
          "data": {
            "image/png": "[encoded data removed]",
            "text/plain": [
              "<Figure size 648x360 with 1 Axes>"
            ]
          },
          "metadata": {
            "tags": [],
            "needs_background": "light"
          }
        }
      ]
    },
    {
      "cell_type": "code",
      "metadata": {
        "id": "JaA9K5hqNdww",
        "colab_type": "code",
        "colab": {
          "base_uri": "https://localhost:8080/",
          "height": 421
        },
        "outputId": "98ddbd1b-f7f7-48e8-eea0-2a9a916e1661"
      },
      "source": [
        "# Demonstrating the output of the agent's working.\n",
        "show_video()"
      ],
      "execution_count": 12,
      "outputs": [
        {
          "output_type": "display_data",
          "data": {
            "text/html": [
              "<video alt=\"test\" autoplay \n",
              "                loop controls style=\"height: 400px;\">\n",
              "                <source src=\"data:video/mp4;base64,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\" type=\"video/mp4\" />\n",
              "             </video>"
            ],
            "text/plain": [
              "<IPython.core.display.HTML object>"
            ]
          },
          "metadata": {
            "tags": []
          }
        }
      ]
    },
    {
      "cell_type": "code",
      "metadata": {
        "id": "bBpvd7SiNc1u",
        "colab_type": "code",
        "colab": {
          "base_uri": "https://localhost:8080/",
          "height": 451
        },
        "outputId": "4dc3319c-a772-477c-adf5-eb95797f8303"
      },
      "source": [
        "# zipping the video folder for the given SARSA agent.\n",
        "!zip -r /content/file.zip /content/video\n",
        "# downloading the file resource.\n",
        "from google.colab import files\n",
        "files.download(\"/content/file.zip\")"
      ],
      "execution_count": 14,
      "outputs": [
        {
          "output_type": "stream",
          "text": [
            "  adding: content/video/ (stored 0%)\n",
            "  adding: content/video/openaigym.video.0.1649.video000512.meta.json (deflated 60%)\n",
            "  adding: content/video/openaigym.video.0.1649.video002000.mp4 (deflated 7%)\n",
            "  adding: content/video/openaigym.video.0.1649.video000001.meta.json (deflated 60%)\n",
            "  adding: content/video/openaigym.video.0.1649.video000729.meta.json (deflated 60%)\n",
            "  adding: content/video/openaigym.video.0.1649.video001000.meta.json (deflated 60%)\n",
            "  adding: content/video/openaigym.video.0.1649.video000512.mp4 (deflated 6%)\n",
            "  adding: content/video/openaigym.video.0.1649.video001000.mp4 (deflated 7%)\n",
            "  adding: content/video/openaigym.video.0.1649.video000125.mp4 (deflated 7%)\n",
            "  adding: content/video/openaigym.video.0.1649.video000008.meta.json (deflated 60%)\n",
            "  adding: content/video/openaigym.video.0.1649.video000064.mp4 (deflated 9%)\n",
            "  adding: content/video/openaigym.video.0.1649.video000125.meta.json (deflated 60%)\n",
            "  adding: content/video/openaigym.video.0.1649.video000000.mp4 (deflated 12%)\n",
            "  adding: content/video/openaigym.video.0.1649.video000343.meta.json (deflated 60%)\n",
            "  adding: content/video/openaigym.video.0.1649.video000027.meta.json (deflated 60%)\n",
            "  adding: content/video/openaigym.video.0.1649.video000027.mp4 (deflated 9%)\n",
            "  adding: content/video/openaigym.video.0.1649.video000343.mp4 (deflated 7%)\n",
            "  adding: content/video/openaigym.video.0.1649.video000216.meta.json (deflated 60%)\n",
            "  adding: content/video/openaigym.video.0.1649.video000000.meta.json (deflated 60%)\n",
            "  adding: content/video/openaigym.video.0.1649.video000008.mp4 (deflated 9%)\n",
            "  adding: content/video/openaigym.video.0.1649.video000216.mp4 (deflated 7%)\n",
            "  adding: content/video/openaigym.video.0.1649.video000729.mp4 (deflated 7%)\n",
            "  adding: content/video/openaigym.video.0.1649.video000001.mp4 (deflated 9%)\n",
            "  adding: content/video/openaigym.video.0.1649.video002000.meta.json (deflated 60%)\n",
            "  adding: content/video/openaigym.video.0.1649.video000064.meta.json (deflated 60%)\n"
          ],
          "name": "stdout"
        },
        {
          "output_type": "display_data",
          "data": {
            "application/javascript": [
              "\n",
              "    async function download(id, filename, size) {\n",
              "      if (!google.colab.kernel.accessAllowed) {\n",
              "        return;\n",
              "      }\n",
              "      const div = document.createElement('div');\n",
              "      const label = document.createElement('label');\n",
              "      label.textContent = `Downloading \"${filename}\": `;\n",
              "      div.appendChild(label);\n",
              "      const progress = document.createElement('progress');\n",
              "      progress.max = size;\n",
              "      div.appendChild(progress);\n",
              "      document.body.appendChild(div);\n",
              "\n",
              "      const buffers = [];\n",
              "      let downloaded = 0;\n",
              "\n",
              "      const channel = await google.colab.kernel.comms.open(id);\n",
              "      // Send a message to notify the kernel that we're ready.\n",
              "      channel.send({})\n",
              "\n",
              "      for await (const message of channel.messages) {\n",
              "        // Send a message to notify the kernel that we're ready.\n",
              "        channel.send({})\n",
              "        if (message.buffers) {\n",
              "          for (const buffer of message.buffers) {\n",
              "            buffers.push(buffer);\n",
              "            downloaded += buffer.byteLength;\n",
              "            progress.value = downloaded;\n",
              "          }\n",
              "        }\n",
              "      }\n",
              "      const blob = new Blob(buffers, {type: 'application/binary'});\n",
              "      const a = document.createElement('a');\n",
              "      a.href = window.URL.createObjectURL(blob);\n",
              "      a.download = filename;\n",
              "      div.appendChild(a);\n",
              "      a.click();\n",
              "      div.remove();\n",
              "    }\n",
              "  "
            ],
            "text/plain": [
              "<IPython.core.display.Javascript object>"
            ]
          },
          "metadata": {
            "tags": []
          }
        },
        {
          "output_type": "display_data",
          "data": {
            "application/javascript": [
              "download(\"download_cd8fd83a-67b3-4600-95ff-84e132318635\", \"file.zip\", 500811)"
            ],
            "text/plain": [
              "<IPython.core.display.Javascript object>"
            ]
          },
          "metadata": {
            "tags": []
          }
        }
      ]
    },
    {
      "cell_type": "code",
      "metadata": {
        "id": "IhTq5nuDNcvf",
        "colab_type": "code",
        "colab": {}
      },
      "source": [
        ""
      ],
      "execution_count": 13,
      "outputs": []
    }
  ]
}
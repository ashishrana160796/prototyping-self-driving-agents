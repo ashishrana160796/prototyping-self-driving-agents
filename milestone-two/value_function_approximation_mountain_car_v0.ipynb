{
  "nbformat": 4,
  "nbformat_minor": 0,
  "metadata": {
    "colab": {
      "name": "value-function-approximation-mountain-car-v0.ipynb",
      "provenance": [],
      "collapsed_sections": []
    },
    "kernelspec": {
      "name": "python3",
      "display_name": "Python 3"
    }
  },
  "cells": [
    {
      "cell_type": "markdown",
      "metadata": {
        "id": "E_POAYZovslS",
        "colab_type": "text"
      },
      "source": [
        "### **Declaration of rendering components**"
      ]
    },
    {
      "cell_type": "code",
      "metadata": {
        "id": "e8dechWs8xQR",
        "colab_type": "code",
        "colab": {
          "base_uri": "https://localhost:8080/",
          "height": 34
        },
        "outputId": "c76ccd02-dd10-473f-a002-411a757b7400"
      },
      "source": [
        "# imports for setting up diplay for the colab server.\n",
        "!apt-get update is important for updating path for xvfb library.\n",
        "!sudo apt-get update  > /dev/null 2>&1\n",
        "!sudo apt-get install -y xvfb x11-utils  > /dev/null 2>&1 "
      ],
      "execution_count": null,
      "outputs": [
        {
          "output_type": "stream",
          "text": [
            "E: The update command takes no arguments\n"
          ],
          "name": "stdout"
        }
      ]
    },
    {
      "cell_type": "code",
      "metadata": {
        "id": "K4Q-X3VIBEyI",
        "colab_type": "code",
        "colab": {}
      },
      "source": [
        "# version specificity is required for rendering videos.\n",
        "!pip install gym==0.17.* pyvirtualdisplay==0.2.* PyOpenGL==3.1.* PyOpenGL-accelerate==3.1.*  > /dev/null 2>&1"
      ],
      "execution_count": null,
      "outputs": []
    },
    {
      "cell_type": "code",
      "metadata": {
        "id": "ZUHgaJO1CPoM",
        "colab_type": "code",
        "colab": {}
      },
      "source": [
        "# For working with arrays in value approximation.\n",
        "import numpy as np  \n",
        "np.random.seed(0)"
      ],
      "execution_count": null,
      "outputs": []
    },
    {
      "cell_type": "code",
      "metadata": {
        "id": "E6eH3y_BUZBf",
        "colab_type": "code",
        "colab": {}
      },
      "source": [
        "# gym related import statements.\n",
        "import gym\n",
        "from gym import logger as gymlogger\n",
        "from gym.wrappers import Monitor\n",
        "gymlogger.set_level(40) #error only\n",
        "# virtual display related import statements.\n",
        "import math\n",
        "import glob\n",
        "import io\n",
        "import base64\n",
        "from IPython.display import HTML\n",
        "from IPython import display as ipythondisplay"
      ],
      "execution_count": null,
      "outputs": []
    },
    {
      "cell_type": "code",
      "metadata": {
        "id": "bdXiJ3iXUZE3",
        "colab_type": "code",
        "colab": {
          "base_uri": "https://localhost:8080/",
          "height": 54
        },
        "outputId": "7b6763b0-ae35-4bf2-cbf4-a845a6013995"
      },
      "source": [
        "# This creates virtual display to send the frames for being rendered.\n",
        "from pyvirtualdisplay import Display\n",
        "display = Display(visible=0, size=(1366, 768))\n",
        "display.start()"
      ],
      "execution_count": null,
      "outputs": [
        {
          "output_type": "execute_result",
          "data": {
            "text/plain": [
              "<Display cmd_param=['Xvfb', '-br', '-nolisten', 'tcp', '-screen', '0', '1366x768x24', ':1005'] cmd=['Xvfb', '-br', '-nolisten', 'tcp', '-screen', '0', '1366x768x24', ':1005'] oserror=None return_code=None stdout=\"None\" stderr=\"None\" timeout_happened=False>"
            ]
          },
          "metadata": {
            "tags": []
          },
          "execution_count": 3
        }
      ]
    },
    {
      "cell_type": "code",
      "metadata": {
        "id": "NYbrP2lBUZVk",
        "colab_type": "code",
        "colab": {}
      },
      "source": [
        "def show_video():\n",
        "    '''\n",
        "    This function loads the data video inline into the colab notebook.\n",
        "    By reading the video stored by the Monitor class.\n",
        "    '''\n",
        "    mp4list = glob.glob('video/*.mp4')\n",
        "    if len(mp4list) > 0:\n",
        "        mp4 = mp4list[0]\n",
        "        video = io.open(mp4, 'r+b').read()\n",
        "        encoded = base64.b64encode(video)\n",
        "        ipythondisplay.display(HTML(data='''<video alt=\"test\" autoplay \n",
        "                loop controls style=\"height: 400px;\">\n",
        "                <source src=\"data:video/mp4;base64,{0}\" type=\"video/mp4\" />\n",
        "             </video>'''.format(encoded.decode('ascii'))))\n",
        "    else: \n",
        "        print(\"Could not find video\")\n",
        "    \n",
        "\n",
        "def wrap_env(env):\n",
        "    '''\n",
        "    This monitoring tool records the outputs from the output and saves it a\n",
        "    mp4 file in the stated directory. If we don't change the video directory\n",
        "    the videos will get stored in 'content/' directory.\n",
        "    '''\n",
        "    env = Monitor(env, './video', force=True)\n",
        "    return env"
      ],
      "execution_count": null,
      "outputs": []
    },
    {
      "cell_type": "markdown",
      "metadata": {
        "id": "N1R8JKOKcH8a",
        "colab_type": "text"
      },
      "source": [
        "### **Value function approximation with Q table**\n",
        "\n",
        "__We iteratively find different values function and policy approximations based on the interactions of agent with the environment. We can't directly in this environment use _Value Iteration_ or _Policy Iteration_ algorithms as we don't have like probability state transition and reward model table available to us like in `Taxi-v3`. The code contains two sections as stated below:__\n",
        "* __Basic exploration of the `MountainCar-v0` environment.__\n",
        "* __Developing an agent with value approximation with Q-learning with dynamic programming.__"
      ]
    },
    {
      "cell_type": "markdown",
      "metadata": {
        "id": "WhCtx0xDO0DN",
        "colab_type": "text"
      },
      "source": [
        "### **Basic exploration of the `MountainCar-v0` environment.**"
      ]
    },
    {
      "cell_type": "code",
      "metadata": {
        "id": "TXFztcwgUZgN",
        "colab_type": "code",
        "colab": {
          "base_uri": "https://localhost:8080/",
          "height": 34
        },
        "outputId": "9ea96a6c-3725-49a1-f615-7fad6cefc758"
      },
      "source": [
        "# Wraping the environment in the Monitor class.\n",
        "env = wrap_env(gym.make('MountainCar-v0'))\n",
        "# Fixing the randomness in the environment.\n",
        "env.seed(0)"
      ],
      "execution_count": null,
      "outputs": [
        {
          "output_type": "execute_result",
          "data": {
            "text/plain": [
              "[0]"
            ]
          },
          "metadata": {
            "tags": []
          },
          "execution_count": 5
        }
      ]
    },
    {
      "cell_type": "code",
      "metadata": {
        "id": "u3zPHBjLUZd5",
        "colab_type": "code",
        "colab": {
          "base_uri": "https://localhost:8080/",
          "height": 52
        },
        "outputId": "91d24016-b3f2-47fd-eab7-c463d73016c5"
      },
      "source": [
        "# Only 3 actions allowed move left(0), not move(1) and move right(2).\n",
        "print('Action Space for Mountain Car Env: '+str(env.action_space))\n",
        "# From observation space we get position and speed of the agent.\n",
        "print('Observation Space for Mountain Car Env: '+str(env.observation_space))"
      ],
      "execution_count": null,
      "outputs": [
        {
          "output_type": "stream",
          "text": [
            "Action Space for Mountain Car Env: Discrete(3)\n",
            "Observation Space for Mountain Car Env: Box(2,)\n"
          ],
          "name": "stdout"
        }
      ]
    },
    {
      "cell_type": "code",
      "metadata": {
        "id": "8egOXVD1UZcl",
        "colab_type": "code",
        "colab": {
          "base_uri": "https://localhost:8080/",
          "height": 52
        },
        "outputId": "c83d03fe-ed56-418b-cf00-c2e9b0193766"
      },
      "source": [
        "print('Observation space and speed values: '+str(env.observation_space.high))\n",
        "print('Observation space and speed values: '+str(env.observation_space.low))\n",
        "# With the numeric level granularity of 0.1 for position and 0.01 for velocity.\n",
        "# We can see that the solution space is huge."
      ],
      "execution_count": null,
      "outputs": [
        {
          "output_type": "stream",
          "text": [
            "Observation space and speed values: [0.6  0.07]\n",
            "Observation space and speed values: [-1.2  -0.07]\n"
          ],
          "name": "stdout"
        }
      ]
    },
    {
      "cell_type": "markdown",
      "metadata": {
        "id": "irhkn75U9f6Y",
        "colab_type": "text"
      },
      "source": [
        "### **Value function approximation with Q Learning algorithm implementation.**"
      ]
    },
    {
      "cell_type": "code",
      "metadata": {
        "id": "IrPV6cTWUZSb",
        "colab_type": "code",
        "colab": {}
      },
      "source": [
        "n_states = 36 # We have to limit the states to small finite number.\n",
        "iter_max = 10000 # For training our agents.\n",
        "gamma = 1.0 # Discount factor in learning problem.\n",
        "ep_max = 10000 # execution for number of episodes in every iteration run.\n",
        "initial_lr = 1.0 # Learning rate decleration\n",
        "min_lr = 0.003 # Minimum value of "
      ],
      "execution_count": null,
      "outputs": []
    },
    {
      "cell_type": "code",
      "metadata": {
        "id": "NKnohQUaUZQE",
        "colab_type": "code",
        "colab": {}
      },
      "source": [
        "def get_state_vals(env, obs):\n",
        "    env_low = env.observation_space.low\n",
        "    env_high = env.observation_space.high\n",
        "    env_dx = (env_high - env_low) / n_states # n_states declared globally\n",
        "    pos = int((obs[0] - env_low[0])/env_dx[0]) # position value\n",
        "    vel = int((obs[1] - env_low[1])/env_dx[1]) # velocity value\n",
        "    return pos, vel"
      ],
      "execution_count": null,
      "outputs": []
    },
    {
      "cell_type": "code",
      "metadata": {
        "id": "Gzxb7aHwCX9p",
        "colab_type": "code",
        "colab": {}
      },
      "source": [
        "def exec_episodes(env, policy=None, render=False):\n",
        "    obs = env.reset()\n",
        "    total_reward = 0\n",
        "    step_idx = 0\n",
        "    for _ in range(ep_max):\n",
        "        if render: # Default False valued assigned for not rendering while iterating.\n",
        "            env.render()\n",
        "        if policy is None: # When running a random agent.\n",
        "            action = env.action_space.sample()\n",
        "        else:\n",
        "            pos,vel = get_state_vals(env, obs)\n",
        "            action = policy[pos][vel] # Policy is having dimensions of nS*nS values.\n",
        "        obs, reward, done, _ = env.step(action)\n",
        "        total_reward += gamma ** step_idx * reward # calculating total reward.\n",
        "        step_idx += 1\n",
        "        if done:\n",
        "            break\n",
        "    return total_reward"
      ],
      "execution_count": null,
      "outputs": []
    },
    {
      "cell_type": "code",
      "metadata": {
        "id": "VZYktlkPCYEh",
        "colab_type": "code",
        "colab": {}
      },
      "source": [
        "# Initializing Q(s,a) table for value function approximation.\n",
        "q_table = np.zeros((n_states, n_states, 3))"
      ],
      "execution_count": null,
      "outputs": []
    },
    {
      "cell_type": "code",
      "metadata": {
        "id": "TMaXfKY--btf",
        "colab_type": "code",
        "colab": {}
      },
      "source": [
        "def eval_policy(env):\n",
        "    solution_policy = np.argmax(q_table, axis=2)\n",
        "    scores = [exec_episodes(env, solution_policy, False) for _ in range(100)]\n",
        "    return np.mean(scores)"
      ],
      "execution_count": null,
      "outputs": []
    },
    {
      "cell_type": "code",
      "metadata": {
        "id": "xaQY-UTLCYCD",
        "colab_type": "code",
        "colab": {
          "base_uri": "https://localhost:8080/",
          "height": 191
        },
        "outputId": "2b563cab-df6a-4838-b856-5c8871597d0a"
      },
      "source": [
        "# Initializing the environment again to default state.\n",
        "env = wrap_env(gym.make('MountainCar-v0'))\n",
        "# Fixing the environment seed value.\n",
        "env.seed(0)\n",
        "\n",
        "for i in range(iter_max):\n",
        "    obs = env.reset()\n",
        "    ## eta: learning rate is decreased after each iteration of execution.\n",
        "    eta = max(min_lr, initial_lr * (0.85 ** (i//100)))\n",
        "    for j in range(ep_max):\n",
        "        pos, vel = get_state_vals(env, obs)\n",
        "        if np.random.uniform(0, 1) < 0.02: # eps = 0.02, greedy policy with 2% exploration.\n",
        "            action = np.random.choice(env.action_space.n)\n",
        "        else:\n",
        "            logits = q_table[pos][vel]\n",
        "            logits_exp = np.exp(logits)\n",
        "            probs = logits_exp / np.sum(logits_exp)\n",
        "            action = np.random.choice(env.action_space.n, p=probs)\n",
        "        obs, reward, done, _ = env.step(action)\n",
        "        # update q table based on Bellmans Equation Rule with dynamic programming.\n",
        "        pos_, vel_ = get_state_vals(env, obs)\n",
        "        q_table[pos][vel][action] = q_table[pos][vel][action] + eta * (reward + gamma *  np.max(q_table[pos_][vel_]) - q_table[pos][vel][action])\n",
        "        if done:\n",
        "            break \n",
        "    if i % 1000 == 0:\n",
        "        print('Iteration: %d has been completed.' %(i+1))"
      ],
      "execution_count": null,
      "outputs": [
        {
          "output_type": "stream",
          "text": [
            "Iteration: 1 has been completed.\n",
            "Iteration: 1001 has been completed.\n",
            "Iteration: 2001 has been completed.\n",
            "Iteration: 3001 has been completed.\n",
            "Iteration: 4001 has been completed.\n",
            "Iteration: 5001 has been completed.\n",
            "Iteration: 6001 has been completed.\n",
            "Iteration: 7001 has been completed.\n",
            "Iteration: 8001 has been completed.\n",
            "Iteration: 9001 has been completed.\n"
          ],
          "name": "stdout"
        }
      ]
    },
    {
      "cell_type": "code",
      "metadata": {
        "id": "lkN1g3CaT9_O",
        "colab_type": "code",
        "colab": {
          "base_uri": "https://localhost:8080/",
          "height": 421
        },
        "outputId": "f3d23686-1193-4b3e-e089-ec5f20491a96"
      },
      "source": [
        "# For displaying the video output of the final result achieved.\n",
        "show_video()"
      ],
      "execution_count": null,
      "outputs": [
        {
          "output_type": "display_data",
          "data": {
            "text/html": [
              "<video alt=\"test\" autoplay \n",
              "                loop controls style=\"height: 400px;\">\n",
              "                <source src=\"data:video/mp4;base64,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\" type=\"video/mp4\" />\n",
              "             </video>"
            ],
            "text/plain": [
              "<IPython.core.display.HTML object>"
            ]
          },
          "metadata": {
            "tags": []
          }
        }
      ]
    },
    {
      "cell_type": "code",
      "metadata": {
        "id": "gyZpiE3cO8FT",
        "colab_type": "code",
        "colab": {
          "base_uri": "https://localhost:8080/",
          "height": 34
        },
        "outputId": "7ae189cc-b12b-4076-beeb-e4c9dbfcd1c2"
      },
      "source": [
        "# Average converged reward values.\n",
        "eval_policy(env)"
      ],
      "execution_count": null,
      "outputs": [
        {
          "output_type": "execute_result",
          "data": {
            "text/plain": [
              "-124.74"
            ]
          },
          "metadata": {
            "tags": []
          },
          "execution_count": 26
        }
      ]
    },
    {
      "cell_type": "code",
      "metadata": {
        "id": "86H8NJNmDxpL",
        "colab_type": "code",
        "colab": {
          "base_uri": "https://localhost:8080/",
          "height": 729
        },
        "outputId": "d63ca395-5a3c-45c3-ee04-5cb329811566"
      },
      "source": [
        "# zipping the video folder for the given SARSA agent.\n",
        "!zip -r /content/file.zip /content/video\n",
        "# downloading the file resource.\n",
        "from google.colab import files\n",
        "files.download(\"/content/file.zip\")"
      ],
      "execution_count": null,
      "outputs": [
        {
          "output_type": "stream",
          "text": [
            "updating: content/video/ (stored 0%)\n",
            "  adding: content/video/openaigym.video.3.1950.video005000.mp4 (deflated 7%)\n",
            "  adding: content/video/openaigym.video.3.1950.video000008.mp4 (deflated 8%)\n",
            "  adding: content/video/openaigym.video.3.1950.video000729.meta.json (deflated 60%)\n",
            "  adding: content/video/openaigym.video.3.1950.video000027.meta.json (deflated 60%)\n",
            "  adding: content/video/openaigym.video.3.1950.video000001.mp4 (deflated 7%)\n",
            "  adding: content/video/openaigym.video.3.1950.video008000.mp4 (deflated 7%)\n",
            "  adding: content/video/openaigym.video.3.1950.video001000.mp4 (deflated 7%)\n",
            "  adding: content/video/openaigym.video.3.1950.video005000.meta.json (deflated 60%)\n",
            "  adding: content/video/openaigym.video.3.1950.video003000.meta.json (deflated 60%)\n",
            "  adding: content/video/openaigym.video.3.1950.video000216.mp4 (deflated 7%)\n",
            "  adding: content/video/openaigym.video.3.1950.video006000.mp4 (deflated 7%)\n",
            "  adding: content/video/openaigym.video.3.1950.video000000.mp4 (deflated 7%)\n",
            "  adding: content/video/openaigym.video.3.1950.video000000.meta.json (deflated 60%)\n",
            "  adding: content/video/openaigym.video.3.1950.video004000.meta.json (deflated 60%)\n",
            "  adding: content/video/openaigym.video.3.1950.video000064.mp4 (deflated 7%)\n",
            "  adding: content/video/openaigym.video.3.1950.video000125.mp4 (deflated 7%)\n",
            "  adding: content/video/openaigym.video.3.1950.video000216.meta.json (deflated 60%)\n",
            "  adding: content/video/openaigym.video.3.1950.video001000.meta.json (deflated 60%)\n",
            "  adding: content/video/openaigym.video.3.1950.video000064.meta.json (deflated 60%)\n",
            "  adding: content/video/openaigym.video.3.1950.video009000.mp4 (deflated 7%)\n",
            "  adding: content/video/openaigym.video.3.1950.video002000.mp4 (deflated 7%)\n",
            "  adding: content/video/openaigym.video.3.1950.video000125.meta.json (deflated 60%)\n",
            "  adding: content/video/openaigym.video.3.1950.video000343.mp4 (deflated 7%)\n",
            "  adding: content/video/openaigym.video.3.1950.video003000.mp4 (deflated 7%)\n",
            "  adding: content/video/openaigym.video.3.1950.video008000.meta.json (deflated 60%)\n",
            "  adding: content/video/openaigym.video.3.1950.video009000.meta.json (deflated 60%)\n",
            "  adding: content/video/openaigym.manifest.2.1950.manifest.json (deflated 86%)\n",
            "  adding: content/video/openaigym.video.3.1950.video004000.mp4 (deflated 7%)\n",
            "  adding: content/video/openaigym.video.3.1950.video000512.meta.json (deflated 60%)\n",
            "  adding: content/video/openaigym.video.3.1950.video006000.meta.json (deflated 60%)\n",
            "  adding: content/video/openaigym.video.3.1950.video000027.mp4 (deflated 7%)\n",
            "  adding: content/video/openaigym.video.3.1950.video007000.meta.json (deflated 60%)\n",
            "  adding: content/video/openaigym.episode_batch.2.1950.stats.json (deflated 83%)\n",
            "  adding: content/video/openaigym.video.3.1950.video002000.meta.json (deflated 60%)\n",
            "  adding: content/video/openaigym.video.3.1950.video000729.mp4 (deflated 7%)\n",
            "  adding: content/video/openaigym.video.3.1950.video007000.mp4 (deflated 6%)\n",
            "  adding: content/video/openaigym.video.3.1950.video000343.meta.json (deflated 60%)\n",
            "  adding: content/video/openaigym.video.3.1950.video000008.meta.json (deflated 60%)\n",
            "  adding: content/video/openaigym.video.3.1950.video000001.meta.json (deflated 60%)\n",
            "  adding: content/video/openaigym.video.3.1950.video000512.mp4 (deflated 8%)\n"
          ],
          "name": "stdout"
        },
        {
          "output_type": "display_data",
          "data": {
            "application/javascript": [
              "\n",
              "    async function download(id, filename, size) {\n",
              "      if (!google.colab.kernel.accessAllowed) {\n",
              "        return;\n",
              "      }\n",
              "      const div = document.createElement('div');\n",
              "      const label = document.createElement('label');\n",
              "      label.textContent = `Downloading \"${filename}\": `;\n",
              "      div.appendChild(label);\n",
              "      const progress = document.createElement('progress');\n",
              "      progress.max = size;\n",
              "      div.appendChild(progress);\n",
              "      document.body.appendChild(div);\n",
              "\n",
              "      const buffers = [];\n",
              "      let downloaded = 0;\n",
              "\n",
              "      const channel = await google.colab.kernel.comms.open(id);\n",
              "      // Send a message to notify the kernel that we're ready.\n",
              "      channel.send({})\n",
              "\n",
              "      for await (const message of channel.messages) {\n",
              "        // Send a message to notify the kernel that we're ready.\n",
              "        channel.send({})\n",
              "        if (message.buffers) {\n",
              "          for (const buffer of message.buffers) {\n",
              "            buffers.push(buffer);\n",
              "            downloaded += buffer.byteLength;\n",
              "            progress.value = downloaded;\n",
              "          }\n",
              "        }\n",
              "      }\n",
              "      const blob = new Blob(buffers, {type: 'application/binary'});\n",
              "      const a = document.createElement('a');\n",
              "      a.href = window.URL.createObjectURL(blob);\n",
              "      a.download = filename;\n",
              "      div.appendChild(a);\n",
              "      a.click();\n",
              "      div.remove();\n",
              "    }\n",
              "  "
            ],
            "text/plain": [
              "<IPython.core.display.Javascript object>"
            ]
          },
          "metadata": {
            "tags": []
          }
        },
        {
          "output_type": "display_data",
          "data": {
            "application/javascript": [
              "download(\"download_5e1aec5a-f936-4efa-8d66-24590916cc01\", \"file.zip\", 3650353)"
            ],
            "text/plain": [
              "<IPython.core.display.Javascript object>"
            ]
          },
          "metadata": {
            "tags": []
          }
        }
      ]
    },
    {
      "cell_type": "code",
      "metadata": {
        "id": "mKYan-DZOhI4",
        "colab_type": "code",
        "colab": {}
      },
      "source": [
        ""
      ],
      "execution_count": null,
      "outputs": []
    }
  ]
}
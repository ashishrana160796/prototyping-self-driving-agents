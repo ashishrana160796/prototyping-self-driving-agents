{
  "nbformat": 4,
  "nbformat_minor": 0,
  "metadata": {
    "colab": {
      "name": "rendering-alternatives-for-highway-env.ipynb",
      "provenance": [],
      "collapsed_sections": []
    },
    "kernelspec": {
      "name": "python3",
      "display_name": "Python 3"
    }
  },
  "cells": [
    {
      "cell_type": "markdown",
      "metadata": {
        "id": "VqfmFFtd2GP8",
        "colab_type": "text"
      },
      "source": [
        "### **Rendering component declaration for `highway-env`**\n",
        "\n",
        "__This section declares all the necessary import statements for rendering display on Google colab server and package installation commands for running highway-env.__\n",
        "\n",
        "__Note: These import statements are different from the ones used in default OpenAI environments. Also, we present method to use matplotlib as well as last resort option in case this rendering options stops working in future.__"
      ]
    },
    {
      "cell_type": "code",
      "metadata": {
        "id": "hmW-CMb5j-uR",
        "colab_type": "code",
        "colab": {
          "base_uri": "https://localhost:8080/",
          "height": 1000
        },
        "outputId": "621a54b1-c045-4d4a-dc55-f736dad2596f"
      },
      "source": [
        "# Package download statements.\n",
        "# Note 1: This time we also use ffmpeg package for handling video recording related tasks.\n",
        "# Note 2: The package version are generic and doesn't require any specific package version downloads.\n",
        "!pip install git+https://github.com/eleurent/highway-env\n",
        "!apt-get update\n",
        "!pip install pyvirtualdisplay\n",
        "!apt-get install -y xvfb python-opengl ffmpeg\n",
        "# importing gym and high_env for loading different environment scenarios.\n",
        "import gym\n",
        "import highway_env"
      ],
      "execution_count": 1,
      "outputs": [
        {
          "output_type": "stream",
          "text": [
            "Collecting git+https://github.com/eleurent/highway-env\n",
            "  Cloning https://github.com/eleurent/highway-env to /tmp/pip-req-build-m83uw0ll\n",
            "  Running command git clone -q https://github.com/eleurent/highway-env /tmp/pip-req-build-m83uw0ll\n",
            "Requirement already satisfied: gym in /usr/local/lib/python3.6/dist-packages (from highway-env==1.0.dev0) (0.17.2)\n",
            "Requirement already satisfied: numpy in /usr/local/lib/python3.6/dist-packages (from highway-env==1.0.dev0) (1.18.5)\n",
            "Collecting pygame\n",
            "\u001b[?25l  Downloading https://files.pythonhosted.org/packages/8e/24/ede6428359f913ed9cd1643dd5533aefeb5a2699cc95bea089de50ead586/pygame-1.9.6-cp36-cp36m-manylinux1_x86_64.whl (11.4MB)\n",
            "\u001b[K     |████████████████████████████████| 11.4MB 355kB/s \n",
            "\u001b[?25hRequirement already satisfied: matplotlib in /usr/local/lib/python3.6/dist-packages (from highway-env==1.0.dev0) (3.2.2)\n",
            "Requirement already satisfied: pandas in /usr/local/lib/python3.6/dist-packages (from highway-env==1.0.dev0) (1.0.5)\n",
            "Requirement already satisfied: pyglet<=1.5.0,>=1.4.0 in /usr/local/lib/python3.6/dist-packages (from gym->highway-env==1.0.dev0) (1.5.0)\n",
            "Requirement already satisfied: scipy in /usr/local/lib/python3.6/dist-packages (from gym->highway-env==1.0.dev0) (1.4.1)\n",
            "Requirement already satisfied: cloudpickle<1.4.0,>=1.2.0 in /usr/local/lib/python3.6/dist-packages (from gym->highway-env==1.0.dev0) (1.3.0)\n",
            "Requirement already satisfied: kiwisolver>=1.0.1 in /usr/local/lib/python3.6/dist-packages (from matplotlib->highway-env==1.0.dev0) (1.2.0)\n",
            "Requirement already satisfied: pyparsing!=2.0.4,!=2.1.2,!=2.1.6,>=2.0.1 in /usr/local/lib/python3.6/dist-packages (from matplotlib->highway-env==1.0.dev0) (2.4.7)\n",
            "Requirement already satisfied: cycler>=0.10 in /usr/local/lib/python3.6/dist-packages (from matplotlib->highway-env==1.0.dev0) (0.10.0)\n",
            "Requirement already satisfied: python-dateutil>=2.1 in /usr/local/lib/python3.6/dist-packages (from matplotlib->highway-env==1.0.dev0) (2.8.1)\n",
            "Requirement already satisfied: pytz>=2017.2 in /usr/local/lib/python3.6/dist-packages (from pandas->highway-env==1.0.dev0) (2018.9)\n",
            "Requirement already satisfied: future in /usr/local/lib/python3.6/dist-packages (from pyglet<=1.5.0,>=1.4.0->gym->highway-env==1.0.dev0) (0.16.0)\n",
            "Requirement already satisfied: six in /usr/local/lib/python3.6/dist-packages (from cycler>=0.10->matplotlib->highway-env==1.0.dev0) (1.15.0)\n",
            "Building wheels for collected packages: highway-env\n",
            "  Building wheel for highway-env (setup.py) ... \u001b[?25l\u001b[?25hdone\n",
            "  Created wheel for highway-env: filename=highway_env-1.0.dev0-cp36-none-any.whl size=79932 sha256=75a8f47c99f4018746111cc1b9f687da4afa752dc51107ce94c49cdc76beb5fa\n",
            "  Stored in directory: /tmp/pip-ephem-wheel-cache-i2pkcgv4/wheels/e6/10/d8/02a077ca221bbac1c6fc12c1370c2f773a8cd602d4be3df0cc\n",
            "Successfully built highway-env\n",
            "Installing collected packages: pygame, highway-env\n",
            "Successfully installed highway-env-1.0.dev0 pygame-1.9.6\n",
            "Ign:1 https://developer.download.nvidia.com/compute/cuda/repos/ubuntu1804/x86_64  InRelease\n",
            "Get:2 https://cloud.r-project.org/bin/linux/ubuntu bionic-cran35/ InRelease [3,626 B]\n",
            "Hit:3 http://archive.ubuntu.com/ubuntu bionic InRelease\n",
            "Ign:4 https://developer.download.nvidia.com/compute/machine-learning/repos/ubuntu1804/x86_64  InRelease\n",
            "Hit:5 https://developer.download.nvidia.com/compute/cuda/repos/ubuntu1804/x86_64  Release\n",
            "Get:6 https://developer.download.nvidia.com/compute/machine-learning/repos/ubuntu1804/x86_64  Release [564 B]\n",
            "Get:7 https://developer.download.nvidia.com/compute/machine-learning/repos/ubuntu1804/x86_64  Release.gpg [833 B]\n",
            "Get:8 http://ppa.launchpad.net/graphics-drivers/ppa/ubuntu bionic InRelease [21.3 kB]\n",
            "Get:9 http://archive.ubuntu.com/ubuntu bionic-updates InRelease [88.7 kB]\n",
            "Get:10 http://security.ubuntu.com/ubuntu bionic-security InRelease [88.7 kB]\n",
            "Get:11 https://cloud.r-project.org/bin/linux/ubuntu bionic-cran35/ Packages [95.7 kB]\n",
            "Get:12 http://ppa.launchpad.net/marutter/c2d4u3.5/ubuntu bionic InRelease [15.4 kB]\n",
            "Get:13 http://archive.ubuntu.com/ubuntu bionic-backports InRelease [74.6 kB]\n",
            "Get:15 https://developer.download.nvidia.com/compute/machine-learning/repos/ubuntu1804/x86_64  Packages [47.5 kB]\n",
            "Get:16 http://ppa.launchpad.net/graphics-drivers/ppa/ubuntu bionic/main amd64 Packages [43.0 kB]\n",
            "Get:17 http://archive.ubuntu.com/ubuntu bionic-updates/restricted amd64 Packages [132 kB]\n",
            "Get:18 http://archive.ubuntu.com/ubuntu bionic-updates/multiverse amd64 Packages [27.7 kB]\n",
            "Get:19 http://archive.ubuntu.com/ubuntu bionic-updates/universe amd64 Packages [1,425 kB]\n",
            "Get:20 http://ppa.launchpad.net/marutter/c2d4u3.5/ubuntu bionic/main Sources [1,864 kB]\n",
            "Get:21 http://archive.ubuntu.com/ubuntu bionic-updates/main amd64 Packages [1,384 kB]\n",
            "Get:22 http://ppa.launchpad.net/marutter/c2d4u3.5/ubuntu bionic/main amd64 Packages [900 kB]\n",
            "Get:23 http://security.ubuntu.com/ubuntu bionic-security/universe amd64 Packages [897 kB]\n",
            "Get:24 http://security.ubuntu.com/ubuntu bionic-security/restricted amd64 Packages [116 kB]\n",
            "Get:25 http://security.ubuntu.com/ubuntu bionic-security/main amd64 Packages [1,089 kB]\n",
            "Get:26 http://security.ubuntu.com/ubuntu bionic-security/multiverse amd64 Packages [10.1 kB]\n",
            "Fetched 8,326 kB in 4s (1,856 kB/s)\n",
            "Reading package lists... Done\n",
            "Collecting pyvirtualdisplay\n",
            "  Downloading https://files.pythonhosted.org/packages/d0/8a/643043cc70791367bee2d19eb20e00ed1a246ac48e5dbe57bbbcc8be40a9/PyVirtualDisplay-1.3.2-py2.py3-none-any.whl\n",
            "Collecting EasyProcess\n",
            "  Downloading https://files.pythonhosted.org/packages/48/3c/75573613641c90c6d094059ac28adb748560d99bd27ee6f80cce398f404e/EasyProcess-0.3-py2.py3-none-any.whl\n",
            "Installing collected packages: EasyProcess, pyvirtualdisplay\n",
            "Successfully installed EasyProcess-0.3 pyvirtualdisplay-1.3.2\n",
            "Reading package lists... Done\n",
            "Building dependency tree       \n",
            "Reading state information... Done\n",
            "ffmpeg is already the newest version (7:3.4.8-0ubuntu0.2).\n",
            "The following package was automatically installed and is no longer required:\n",
            "  libnvidia-common-440\n",
            "Use 'apt autoremove' to remove it.\n",
            "Suggested packages:\n",
            "  libgle3\n",
            "Recommended packages:\n",
            "  xfonts-base\n",
            "The following NEW packages will be installed:\n",
            "  python-opengl xvfb\n",
            "The following packages will be upgraded:\n",
            "  xserver-common\n",
            "1 upgraded, 2 newly installed, 0 to remove and 73 not upgraded.\n",
            "Need to get 1,307 kB of archives.\n",
            "After this operation, 7,682 kB of additional disk space will be used.\n",
            "Get:1 http://archive.ubuntu.com/ubuntu bionic/universe amd64 python-opengl all 3.1.0+dfsg-1 [496 kB]\n",
            "Get:2 http://archive.ubuntu.com/ubuntu bionic-updates/main amd64 xserver-common all 2:1.19.6-1ubuntu4.6 [26.9 kB]\n",
            "Get:3 http://archive.ubuntu.com/ubuntu bionic-updates/universe amd64 xvfb amd64 2:1.19.6-1ubuntu4.6 [783 kB]\n",
            "Fetched 1,307 kB in 1s (1,514 kB/s)\n",
            "Selecting previously unselected package python-opengl.\n",
            "(Reading database ... 144579 files and directories currently installed.)\n",
            "Preparing to unpack .../python-opengl_3.1.0+dfsg-1_all.deb ...\n",
            "Unpacking python-opengl (3.1.0+dfsg-1) ...\n",
            "Preparing to unpack .../xserver-common_2%3a1.19.6-1ubuntu4.6_all.deb ...\n",
            "Unpacking xserver-common (2:1.19.6-1ubuntu4.6) over (2:1.19.6-1ubuntu4.4) ...\n",
            "Selecting previously unselected package xvfb.\n",
            "Preparing to unpack .../xvfb_2%3a1.19.6-1ubuntu4.6_amd64.deb ...\n",
            "Unpacking xvfb (2:1.19.6-1ubuntu4.6) ...\n",
            "Setting up xserver-common (2:1.19.6-1ubuntu4.6) ...\n",
            "Setting up python-opengl (3.1.0+dfsg-1) ...\n",
            "Setting up xvfb (2:1.19.6-1ubuntu4.6) ...\n",
            "Processing triggers for man-db (2.8.3-2ubuntu0.1) ...\n"
          ],
          "name": "stdout"
        }
      ]
    },
    {
      "cell_type": "code",
      "metadata": {
        "id": "XwgM6TJdpOgf",
        "colab_type": "code",
        "colab": {}
      },
      "source": [
        "# Similar, to earlier rendering procedures for creating virtual display.\n",
        "from IPython import display as ipythondisplay\n",
        "from pyvirtualdisplay import Display\n",
        "from gym.wrappers import Monitor\n",
        "from pathlib import Path\n",
        "import base64\n",
        "\n",
        "# Declaing display screen size for rendering highway-env environment.\n",
        "display = Display(visible=0, size=(1366, 768))\n",
        "display.start()\n",
        "\n",
        "# These functions are also available in '/highway-env/scripts/' directory in utils.py\n",
        "# file of highway-env github repository. These, can be directly accessed with below\n",
        "# commands but we are using these functions here to fix a specific size of recorded videos.\n",
        "# Note: commands are stated below for directly using these functions.\n",
        "# Also, we have changed these functions slightly. Therefore, refer documentation.\n",
        "\n",
        "# !git clone https://github.com/eleurent/highway-env.git\n",
        "# import sys\n",
        "# sys.path.insert(0, './highway-env/scripts/')\n",
        "# from utils import record_videos, show_videos, capture_intermediate_frames\n",
        "\n",
        "def wrap_env(env):\n",
        "    return Monitor(env, './video', force=True, video_callable=lambda episode: True)\n",
        "\n",
        "\n",
        "def show_video():\n",
        "    html = []\n",
        "    for mp4 in Path('./video').glob(\"*.mp4\"):\n",
        "        video_b64 = base64.b64encode(mp4.read_bytes())\n",
        "        html.append('''<video alt=\"{}\" autoplay\n",
        "                      loop controls style=\"height: 150px;\">\n",
        "                      <source src=\"data:video/mp4;base64,{}\" type=\"video/mp4\" />\n",
        "                 </video>'''.format(mp4, video_b64.decode('ascii')))\n",
        "    ipythondisplay.display(ipythondisplay.HTML(data=\"<br>\".join(html)))\n",
        "\n",
        "\n",
        "def capture_intermediate_frames(env):\n",
        "    env.unwrapped.automatic_rendering_callback = env.video_recorder.capture_frame"
      ],
      "execution_count": 18,
      "outputs": []
    },
    {
      "cell_type": "code",
      "metadata": {
        "id": "QG9aacB8kaOk",
        "colab_type": "code",
        "colab": {
          "base_uri": "https://localhost:8080/",
          "height": 171
        },
        "outputId": "cb3c22f1-c8dc-472a-f65e-1f0c2570a98f"
      },
      "source": [
        "env = gym.make(\"merge-v0\")\n",
        "env = wrap_env(env)\n",
        "obs, done = env.reset(), False\n",
        "capture_intermediate_frames(env)\n",
        "for _ in range(10):\n",
        "    action = env.action_space.sample()\n",
        "    obs, reward, done, info = env.step(action)\n",
        "    # env.render(), using render() function here will produce error.\n",
        "    # As we are already making a 'automatic_rendering_callback' to capture intermediate frames.\n",
        "env.close()\n",
        "show_video()"
      ],
      "execution_count": 19,
      "outputs": [
        {
          "output_type": "display_data",
          "data": {
            "text/html": [
              "<video alt=\"video/openaigym.video.7.100.video000000.mp4\" autoplay\n",
              "                      loop controls style=\"height: 150px;\">\n",
              "                      <source src=\"data:video/mp4;base64,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\" type=\"video/mp4\" />\n",
              "                 </video>"
            ],
            "text/plain": [
              "<IPython.core.display.HTML object>"
            ]
          },
          "metadata": {
            "tags": []
          }
        }
      ]
    },
    {
      "cell_type": "code",
      "metadata": {
        "id": "luR4LZYQx3mA",
        "colab_type": "code",
        "colab": {
          "base_uri": "https://localhost:8080/",
          "height": 104
        },
        "outputId": "0dcfec82-45cc-46af-c3fa-235caddf4608"
      },
      "source": [
        "!zip -r /content/file.zip /content/video\n",
        "from google.colab import files\n",
        "files.download(\"/content/file.zip\")"
      ],
      "execution_count": 20,
      "outputs": [
        {
          "output_type": "stream",
          "text": [
            "updating: content/video/ (stored 0%)\n",
            "  adding: content/video/openaigym.episode_batch.7.100.stats.json (deflated 30%)\n",
            "  adding: content/video/openaigym.video.7.100.video000000.mp4 (deflated 13%)\n",
            "  adding: content/video/openaigym.video.7.100.video000000.meta.json (deflated 60%)\n",
            "  adding: content/video/openaigym.manifest.7.100.manifest.json (deflated 39%)\n"
          ],
          "name": "stdout"
        },
        {
          "output_type": "display_data",
          "data": {
            "application/javascript": [
              "\n",
              "    async function download(id, filename, size) {\n",
              "      if (!google.colab.kernel.accessAllowed) {\n",
              "        return;\n",
              "      }\n",
              "      const div = document.createElement('div');\n",
              "      const label = document.createElement('label');\n",
              "      label.textContent = `Downloading \"${filename}\": `;\n",
              "      div.appendChild(label);\n",
              "      const progress = document.createElement('progress');\n",
              "      progress.max = size;\n",
              "      div.appendChild(progress);\n",
              "      document.body.appendChild(div);\n",
              "\n",
              "      const buffers = [];\n",
              "      let downloaded = 0;\n",
              "\n",
              "      const channel = await google.colab.kernel.comms.open(id);\n",
              "      // Send a message to notify the kernel that we're ready.\n",
              "      channel.send({})\n",
              "\n",
              "      for await (const message of channel.messages) {\n",
              "        // Send a message to notify the kernel that we're ready.\n",
              "        channel.send({})\n",
              "        if (message.buffers) {\n",
              "          for (const buffer of message.buffers) {\n",
              "            buffers.push(buffer);\n",
              "            downloaded += buffer.byteLength;\n",
              "            progress.value = downloaded;\n",
              "          }\n",
              "        }\n",
              "      }\n",
              "      const blob = new Blob(buffers, {type: 'application/binary'});\n",
              "      const a = document.createElement('a');\n",
              "      a.href = window.URL.createObjectURL(blob);\n",
              "      a.download = filename;\n",
              "      div.appendChild(a);\n",
              "      a.click();\n",
              "      div.remove();\n",
              "    }\n",
              "  "
            ],
            "text/plain": [
              "<IPython.core.display.Javascript object>"
            ]
          },
          "metadata": {
            "tags": []
          }
        },
        {
          "output_type": "display_data",
          "data": {
            "application/javascript": [
              "download(\"download_e73eddd0-7b29-40f6-be36-fce49e2670a6\", \"file.zip\", 87196)"
            ],
            "text/plain": [
              "<IPython.core.display.Javascript object>"
            ]
          },
          "metadata": {
            "tags": []
          }
        }
      ]
    },
    {
      "cell_type": "markdown",
      "metadata": {
        "id": "p1KHtEi7wGLI",
        "colab_type": "text"
      },
      "source": [
        "### **Rendering `highway-env` with matplotlib package**\n",
        "\n",
        "__In this method renders graphics from gym environment into matplotlib graph figures that are static in nature. We loop over these figures to create video like effect.__\n",
        "\n",
        "__Note: The package download process is same as above stated method. But, here we need to render the environment as we are not making automatic rendering calls.__"
      ]
    },
    {
      "cell_type": "code",
      "metadata": {
        "id": "4jMqgA0SkF05",
        "colab_type": "code",
        "colab": {}
      },
      "source": [
        "import gym\n",
        "import highway_env\n",
        "from matplotlib import pyplot as plt\n",
        "%matplotlib inline"
      ],
      "execution_count": 21,
      "outputs": []
    },
    {
      "cell_type": "code",
      "metadata": {
        "id": "7unjyzk0kF6g",
        "colab_type": "code",
        "colab": {
          "base_uri": "https://localhost:8080/",
          "height": 135
        },
        "outputId": "7111784d-ef0f-4cd0-d102-245828b17915"
      },
      "source": [
        "env = wrap_env(gym.make('highway-v0'))\n",
        "env.reset()\n",
        "prev_screen = env.render(mode='rgb_array')\n",
        "plt.imshow(prev_screen)\n",
        "\n",
        "for _ in range(15):\n",
        "    action = env.action_space.sample()\n",
        "    obs, reward, done, info = env.step(action)\n",
        "    screen = env.render(mode='rgb_array')\n",
        "    plt.imshow(screen)\n",
        "    ipythondisplay.clear_output(wait=True)\n",
        "    ipythondisplay.display(plt.gcf())\n",
        "ipythondisplay.clear_output(wait=True)\n",
        "env.close()"
      ],
      "execution_count": 22,
      "outputs": [
        {
          "output_type": "display_data",
          "data": {
            "image/png": "[encoded data removed]",
            "text/plain": [
              "<Figure size 432x288 with 1 Axes>"
            ]
          },
          "metadata": {
            "tags": [],
            "needs_background": "light"
          }
        }
      ]
    },
    {
      "cell_type": "code",
      "metadata": {
        "id": "oj5v5ffjx_Zd",
        "colab_type": "code",
        "colab": {}
      },
      "source": [
        ""
      ],
      "execution_count": null,
      "outputs": []
    }
  ]
}